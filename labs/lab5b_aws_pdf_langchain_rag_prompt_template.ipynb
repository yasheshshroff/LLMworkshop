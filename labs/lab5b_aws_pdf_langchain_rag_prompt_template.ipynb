{
  "metadata": {
    "kernelspec": {
      "display_name": "Python 3",
      "name": "python3"
    },
    "language_info": {
      "name": "python",
      "version": "3.10.12",
      "mimetype": "text/x-python",
      "codemirror_mode": {
        "name": "ipython",
        "version": 3
      },
      "pygments_lexer": "ipython3",
      "nbconvert_exporter": "python",
      "file_extension": ".py"
    },
    "colab": {
      "provenance": [],
      "collapsed_sections": [
        "7mPffkVO8bEs",
        "_Udvs6R7CgoM",
        "iKmi0DGlHBhl",
        "RaAuM2Wl8bE2",
        "8LIjTtD58bE3",
        "sfwmw5IL8bE5"
      ],
      "gpuType": "T4"
    },
    "accelerator": "GPU",
    "widgets": {
      "application/vnd.jupyter.widget-state+json": {
        "1447c1b964cf49488150d526d53dfab5": {
          "model_module": "@jupyter-widgets/controls",
          "model_name": "HBoxModel",
          "model_module_version": "1.5.0",
          "state": {
            "_dom_classes": [],
            "_model_module": "@jupyter-widgets/controls",
            "_model_module_version": "1.5.0",
            "_model_name": "HBoxModel",
            "_view_count": null,
            "_view_module": "@jupyter-widgets/controls",
            "_view_module_version": "1.5.0",
            "_view_name": "HBoxView",
            "box_style": "",
            "children": [
              "IPY_MODEL_ed0ced959aa747269a8c08299629aac3",
              "IPY_MODEL_e11fcdddc10a48b085609fa60b7aa5e2",
              "IPY_MODEL_63081a2b91684529a0ab0b167c5ee3e5"
            ],
            "layout": "IPY_MODEL_c6780157a45b4853b217453673f6597e"
          }
        },
        "ed0ced959aa747269a8c08299629aac3": {
          "model_module": "@jupyter-widgets/controls",
          "model_name": "HTMLModel",
          "model_module_version": "1.5.0",
          "state": {
            "_dom_classes": [],
            "_model_module": "@jupyter-widgets/controls",
            "_model_module_version": "1.5.0",
            "_model_name": "HTMLModel",
            "_view_count": null,
            "_view_module": "@jupyter-widgets/controls",
            "_view_module_version": "1.5.0",
            "_view_name": "HTMLView",
            "description": "",
            "description_tooltip": null,
            "layout": "IPY_MODEL_40ed1d4b59554ce7bee3ed637b6c2c65",
            "placeholder": "​",
            "style": "IPY_MODEL_656b175e760d4b739b1d2471ead9c76e",
            "value": "100%"
          }
        },
        "e11fcdddc10a48b085609fa60b7aa5e2": {
          "model_module": "@jupyter-widgets/controls",
          "model_name": "FloatProgressModel",
          "model_module_version": "1.5.0",
          "state": {
            "_dom_classes": [],
            "_model_module": "@jupyter-widgets/controls",
            "_model_module_version": "1.5.0",
            "_model_name": "FloatProgressModel",
            "_view_count": null,
            "_view_module": "@jupyter-widgets/controls",
            "_view_module_version": "1.5.0",
            "_view_name": "ProgressView",
            "bar_style": "success",
            "description": "",
            "description_tooltip": null,
            "layout": "IPY_MODEL_a8029875e9c64b52b0208ddeedd2eb14",
            "max": 4,
            "min": 0,
            "orientation": "horizontal",
            "style": "IPY_MODEL_216bbe8a07f84c00bed18a20be293ac8",
            "value": 4
          }
        },
        "63081a2b91684529a0ab0b167c5ee3e5": {
          "model_module": "@jupyter-widgets/controls",
          "model_name": "HTMLModel",
          "model_module_version": "1.5.0",
          "state": {
            "_dom_classes": [],
            "_model_module": "@jupyter-widgets/controls",
            "_model_module_version": "1.5.0",
            "_model_name": "HTMLModel",
            "_view_count": null,
            "_view_module": "@jupyter-widgets/controls",
            "_view_module_version": "1.5.0",
            "_view_name": "HTMLView",
            "description": "",
            "description_tooltip": null,
            "layout": "IPY_MODEL_9891dcb36f3447a6a041515d64fe6cc9",
            "placeholder": "​",
            "style": "IPY_MODEL_d2988495ec794015820376352e4f8561",
            "value": " 4/4 [00:08&lt;00:00,  2.06s/it]"
          }
        },
        "c6780157a45b4853b217453673f6597e": {
          "model_module": "@jupyter-widgets/base",
          "model_name": "LayoutModel",
          "model_module_version": "1.2.0",
          "state": {
            "_model_module": "@jupyter-widgets/base",
            "_model_module_version": "1.2.0",
            "_model_name": "LayoutModel",
            "_view_count": null,
            "_view_module": "@jupyter-widgets/base",
            "_view_module_version": "1.2.0",
            "_view_name": "LayoutView",
            "align_content": null,
            "align_items": null,
            "align_self": null,
            "border": null,
            "bottom": null,
            "display": null,
            "flex": null,
            "flex_flow": null,
            "grid_area": null,
            "grid_auto_columns": null,
            "grid_auto_flow": null,
            "grid_auto_rows": null,
            "grid_column": null,
            "grid_gap": null,
            "grid_row": null,
            "grid_template_areas": null,
            "grid_template_columns": null,
            "grid_template_rows": null,
            "height": null,
            "justify_content": null,
            "justify_items": null,
            "left": null,
            "margin": null,
            "max_height": null,
            "max_width": null,
            "min_height": null,
            "min_width": null,
            "object_fit": null,
            "object_position": null,
            "order": null,
            "overflow": null,
            "overflow_x": null,
            "overflow_y": null,
            "padding": null,
            "right": null,
            "top": null,
            "visibility": null,
            "width": null
          }
        },
        "40ed1d4b59554ce7bee3ed637b6c2c65": {
          "model_module": "@jupyter-widgets/base",
          "model_name": "LayoutModel",
          "model_module_version": "1.2.0",
          "state": {
            "_model_module": "@jupyter-widgets/base",
            "_model_module_version": "1.2.0",
            "_model_name": "LayoutModel",
            "_view_count": null,
            "_view_module": "@jupyter-widgets/base",
            "_view_module_version": "1.2.0",
            "_view_name": "LayoutView",
            "align_content": null,
            "align_items": null,
            "align_self": null,
            "border": null,
            "bottom": null,
            "display": null,
            "flex": null,
            "flex_flow": null,
            "grid_area": null,
            "grid_auto_columns": null,
            "grid_auto_flow": null,
            "grid_auto_rows": null,
            "grid_column": null,
            "grid_gap": null,
            "grid_row": null,
            "grid_template_areas": null,
            "grid_template_columns": null,
            "grid_template_rows": null,
            "height": null,
            "justify_content": null,
            "justify_items": null,
            "left": null,
            "margin": null,
            "max_height": null,
            "max_width": null,
            "min_height": null,
            "min_width": null,
            "object_fit": null,
            "object_position": null,
            "order": null,
            "overflow": null,
            "overflow_x": null,
            "overflow_y": null,
            "padding": null,
            "right": null,
            "top": null,
            "visibility": null,
            "width": null
          }
        },
        "656b175e760d4b739b1d2471ead9c76e": {
          "model_module": "@jupyter-widgets/controls",
          "model_name": "DescriptionStyleModel",
          "model_module_version": "1.5.0",
          "state": {
            "_model_module": "@jupyter-widgets/controls",
            "_model_module_version": "1.5.0",
            "_model_name": "DescriptionStyleModel",
            "_view_count": null,
            "_view_module": "@jupyter-widgets/base",
            "_view_module_version": "1.2.0",
            "_view_name": "StyleView",
            "description_width": ""
          }
        },
        "a8029875e9c64b52b0208ddeedd2eb14": {
          "model_module": "@jupyter-widgets/base",
          "model_name": "LayoutModel",
          "model_module_version": "1.2.0",
          "state": {
            "_model_module": "@jupyter-widgets/base",
            "_model_module_version": "1.2.0",
            "_model_name": "LayoutModel",
            "_view_count": null,
            "_view_module": "@jupyter-widgets/base",
            "_view_module_version": "1.2.0",
            "_view_name": "LayoutView",
            "align_content": null,
            "align_items": null,
            "align_self": null,
            "border": null,
            "bottom": null,
            "display": null,
            "flex": null,
            "flex_flow": null,
            "grid_area": null,
            "grid_auto_columns": null,
            "grid_auto_flow": null,
            "grid_auto_rows": null,
            "grid_column": null,
            "grid_gap": null,
            "grid_row": null,
            "grid_template_areas": null,
            "grid_template_columns": null,
            "grid_template_rows": null,
            "height": null,
            "justify_content": null,
            "justify_items": null,
            "left": null,
            "margin": null,
            "max_height": null,
            "max_width": null,
            "min_height": null,
            "min_width": null,
            "object_fit": null,
            "object_position": null,
            "order": null,
            "overflow": null,
            "overflow_x": null,
            "overflow_y": null,
            "padding": null,
            "right": null,
            "top": null,
            "visibility": null,
            "width": null
          }
        },
        "216bbe8a07f84c00bed18a20be293ac8": {
          "model_module": "@jupyter-widgets/controls",
          "model_name": "ProgressStyleModel",
          "model_module_version": "1.5.0",
          "state": {
            "_model_module": "@jupyter-widgets/controls",
            "_model_module_version": "1.5.0",
            "_model_name": "ProgressStyleModel",
            "_view_count": null,
            "_view_module": "@jupyter-widgets/base",
            "_view_module_version": "1.2.0",
            "_view_name": "StyleView",
            "bar_color": null,
            "description_width": ""
          }
        },
        "9891dcb36f3447a6a041515d64fe6cc9": {
          "model_module": "@jupyter-widgets/base",
          "model_name": "LayoutModel",
          "model_module_version": "1.2.0",
          "state": {
            "_model_module": "@jupyter-widgets/base",
            "_model_module_version": "1.2.0",
            "_model_name": "LayoutModel",
            "_view_count": null,
            "_view_module": "@jupyter-widgets/base",
            "_view_module_version": "1.2.0",
            "_view_name": "LayoutView",
            "align_content": null,
            "align_items": null,
            "align_self": null,
            "border": null,
            "bottom": null,
            "display": null,
            "flex": null,
            "flex_flow": null,
            "grid_area": null,
            "grid_auto_columns": null,
            "grid_auto_flow": null,
            "grid_auto_rows": null,
            "grid_column": null,
            "grid_gap": null,
            "grid_row": null,
            "grid_template_areas": null,
            "grid_template_columns": null,
            "grid_template_rows": null,
            "height": null,
            "justify_content": null,
            "justify_items": null,
            "left": null,
            "margin": null,
            "max_height": null,
            "max_width": null,
            "min_height": null,
            "min_width": null,
            "object_fit": null,
            "object_position": null,
            "order": null,
            "overflow": null,
            "overflow_x": null,
            "overflow_y": null,
            "padding": null,
            "right": null,
            "top": null,
            "visibility": null,
            "width": null
          }
        },
        "d2988495ec794015820376352e4f8561": {
          "model_module": "@jupyter-widgets/controls",
          "model_name": "DescriptionStyleModel",
          "model_module_version": "1.5.0",
          "state": {
            "_model_module": "@jupyter-widgets/controls",
            "_model_module_version": "1.5.0",
            "_model_name": "DescriptionStyleModel",
            "_view_count": null,
            "_view_module": "@jupyter-widgets/base",
            "_view_module_version": "1.2.0",
            "_view_name": "StyleView",
            "description_width": ""
          }
        },
        "8e050806f4b34b7d9fbf86580712701a": {
          "model_module": "@jupyter-widgets/controls",
          "model_name": "HBoxModel",
          "model_module_version": "1.5.0",
          "state": {
            "_dom_classes": [],
            "_model_module": "@jupyter-widgets/controls",
            "_model_module_version": "1.5.0",
            "_model_name": "HBoxModel",
            "_view_count": null,
            "_view_module": "@jupyter-widgets/controls",
            "_view_module_version": "1.5.0",
            "_view_name": "HBoxView",
            "box_style": "",
            "children": [
              "IPY_MODEL_9d9f537226cc4fbd984254c955c22ed6",
              "IPY_MODEL_380620c8331044928de08cbec3ca9739",
              "IPY_MODEL_f095d8858a1b481eab9cdb439d7369f7"
            ],
            "layout": "IPY_MODEL_925ae590d3c04e1b9be1824efa3fbca0"
          }
        },
        "9d9f537226cc4fbd984254c955c22ed6": {
          "model_module": "@jupyter-widgets/controls",
          "model_name": "HTMLModel",
          "model_module_version": "1.5.0",
          "state": {
            "_dom_classes": [],
            "_model_module": "@jupyter-widgets/controls",
            "_model_module_version": "1.5.0",
            "_model_name": "HTMLModel",
            "_view_count": null,
            "_view_module": "@jupyter-widgets/controls",
            "_view_module_version": "1.5.0",
            "_view_name": "HTMLView",
            "description": "",
            "description_tooltip": null,
            "layout": "IPY_MODEL_7386eec8ee974ce58694a3126519c0d0",
            "placeholder": "​",
            "style": "IPY_MODEL_43cec395fe17466eb08134bd521c0839",
            "value": "100%"
          }
        },
        "380620c8331044928de08cbec3ca9739": {
          "model_module": "@jupyter-widgets/controls",
          "model_name": "FloatProgressModel",
          "model_module_version": "1.5.0",
          "state": {
            "_dom_classes": [],
            "_model_module": "@jupyter-widgets/controls",
            "_model_module_version": "1.5.0",
            "_model_name": "FloatProgressModel",
            "_view_count": null,
            "_view_module": "@jupyter-widgets/controls",
            "_view_module_version": "1.5.0",
            "_view_name": "ProgressView",
            "bar_style": "success",
            "description": "",
            "description_tooltip": null,
            "layout": "IPY_MODEL_e82d08f656f449f0a83dbc7322c134ad",
            "max": 4,
            "min": 0,
            "orientation": "horizontal",
            "style": "IPY_MODEL_a5d4eb9697ce456888ebbf7cfe3a89dc",
            "value": 4
          }
        },
        "f095d8858a1b481eab9cdb439d7369f7": {
          "model_module": "@jupyter-widgets/controls",
          "model_name": "HTMLModel",
          "model_module_version": "1.5.0",
          "state": {
            "_dom_classes": [],
            "_model_module": "@jupyter-widgets/controls",
            "_model_module_version": "1.5.0",
            "_model_name": "HTMLModel",
            "_view_count": null,
            "_view_module": "@jupyter-widgets/controls",
            "_view_module_version": "1.5.0",
            "_view_name": "HTMLView",
            "description": "",
            "description_tooltip": null,
            "layout": "IPY_MODEL_05422535faa74c43a1139d97a1ca1b09",
            "placeholder": "​",
            "style": "IPY_MODEL_dc77ad2668e643a3b1122cae54b0e7b9",
            "value": " 4/4 [00:02&lt;00:00,  1.94it/s]"
          }
        },
        "925ae590d3c04e1b9be1824efa3fbca0": {
          "model_module": "@jupyter-widgets/base",
          "model_name": "LayoutModel",
          "model_module_version": "1.2.0",
          "state": {
            "_model_module": "@jupyter-widgets/base",
            "_model_module_version": "1.2.0",
            "_model_name": "LayoutModel",
            "_view_count": null,
            "_view_module": "@jupyter-widgets/base",
            "_view_module_version": "1.2.0",
            "_view_name": "LayoutView",
            "align_content": null,
            "align_items": null,
            "align_self": null,
            "border": null,
            "bottom": null,
            "display": null,
            "flex": null,
            "flex_flow": null,
            "grid_area": null,
            "grid_auto_columns": null,
            "grid_auto_flow": null,
            "grid_auto_rows": null,
            "grid_column": null,
            "grid_gap": null,
            "grid_row": null,
            "grid_template_areas": null,
            "grid_template_columns": null,
            "grid_template_rows": null,
            "height": null,
            "justify_content": null,
            "justify_items": null,
            "left": null,
            "margin": null,
            "max_height": null,
            "max_width": null,
            "min_height": null,
            "min_width": null,
            "object_fit": null,
            "object_position": null,
            "order": null,
            "overflow": null,
            "overflow_x": null,
            "overflow_y": null,
            "padding": null,
            "right": null,
            "top": null,
            "visibility": null,
            "width": null
          }
        },
        "7386eec8ee974ce58694a3126519c0d0": {
          "model_module": "@jupyter-widgets/base",
          "model_name": "LayoutModel",
          "model_module_version": "1.2.0",
          "state": {
            "_model_module": "@jupyter-widgets/base",
            "_model_module_version": "1.2.0",
            "_model_name": "LayoutModel",
            "_view_count": null,
            "_view_module": "@jupyter-widgets/base",
            "_view_module_version": "1.2.0",
            "_view_name": "LayoutView",
            "align_content": null,
            "align_items": null,
            "align_self": null,
            "border": null,
            "bottom": null,
            "display": null,
            "flex": null,
            "flex_flow": null,
            "grid_area": null,
            "grid_auto_columns": null,
            "grid_auto_flow": null,
            "grid_auto_rows": null,
            "grid_column": null,
            "grid_gap": null,
            "grid_row": null,
            "grid_template_areas": null,
            "grid_template_columns": null,
            "grid_template_rows": null,
            "height": null,
            "justify_content": null,
            "justify_items": null,
            "left": null,
            "margin": null,
            "max_height": null,
            "max_width": null,
            "min_height": null,
            "min_width": null,
            "object_fit": null,
            "object_position": null,
            "order": null,
            "overflow": null,
            "overflow_x": null,
            "overflow_y": null,
            "padding": null,
            "right": null,
            "top": null,
            "visibility": null,
            "width": null
          }
        },
        "43cec395fe17466eb08134bd521c0839": {
          "model_module": "@jupyter-widgets/controls",
          "model_name": "DescriptionStyleModel",
          "model_module_version": "1.5.0",
          "state": {
            "_model_module": "@jupyter-widgets/controls",
            "_model_module_version": "1.5.0",
            "_model_name": "DescriptionStyleModel",
            "_view_count": null,
            "_view_module": "@jupyter-widgets/base",
            "_view_module_version": "1.2.0",
            "_view_name": "StyleView",
            "description_width": ""
          }
        },
        "e82d08f656f449f0a83dbc7322c134ad": {
          "model_module": "@jupyter-widgets/base",
          "model_name": "LayoutModel",
          "model_module_version": "1.2.0",
          "state": {
            "_model_module": "@jupyter-widgets/base",
            "_model_module_version": "1.2.0",
            "_model_name": "LayoutModel",
            "_view_count": null,
            "_view_module": "@jupyter-widgets/base",
            "_view_module_version": "1.2.0",
            "_view_name": "LayoutView",
            "align_content": null,
            "align_items": null,
            "align_self": null,
            "border": null,
            "bottom": null,
            "display": null,
            "flex": null,
            "flex_flow": null,
            "grid_area": null,
            "grid_auto_columns": null,
            "grid_auto_flow": null,
            "grid_auto_rows": null,
            "grid_column": null,
            "grid_gap": null,
            "grid_row": null,
            "grid_template_areas": null,
            "grid_template_columns": null,
            "grid_template_rows": null,
            "height": null,
            "justify_content": null,
            "justify_items": null,
            "left": null,
            "margin": null,
            "max_height": null,
            "max_width": null,
            "min_height": null,
            "min_width": null,
            "object_fit": null,
            "object_position": null,
            "order": null,
            "overflow": null,
            "overflow_x": null,
            "overflow_y": null,
            "padding": null,
            "right": null,
            "top": null,
            "visibility": null,
            "width": null
          }
        },
        "a5d4eb9697ce456888ebbf7cfe3a89dc": {
          "model_module": "@jupyter-widgets/controls",
          "model_name": "ProgressStyleModel",
          "model_module_version": "1.5.0",
          "state": {
            "_model_module": "@jupyter-widgets/controls",
            "_model_module_version": "1.5.0",
            "_model_name": "ProgressStyleModel",
            "_view_count": null,
            "_view_module": "@jupyter-widgets/base",
            "_view_module_version": "1.2.0",
            "_view_name": "StyleView",
            "bar_color": null,
            "description_width": ""
          }
        },
        "05422535faa74c43a1139d97a1ca1b09": {
          "model_module": "@jupyter-widgets/base",
          "model_name": "LayoutModel",
          "model_module_version": "1.2.0",
          "state": {
            "_model_module": "@jupyter-widgets/base",
            "_model_module_version": "1.2.0",
            "_model_name": "LayoutModel",
            "_view_count": null,
            "_view_module": "@jupyter-widgets/base",
            "_view_module_version": "1.2.0",
            "_view_name": "LayoutView",
            "align_content": null,
            "align_items": null,
            "align_self": null,
            "border": null,
            "bottom": null,
            "display": null,
            "flex": null,
            "flex_flow": null,
            "grid_area": null,
            "grid_auto_columns": null,
            "grid_auto_flow": null,
            "grid_auto_rows": null,
            "grid_column": null,
            "grid_gap": null,
            "grid_row": null,
            "grid_template_areas": null,
            "grid_template_columns": null,
            "grid_template_rows": null,
            "height": null,
            "justify_content": null,
            "justify_items": null,
            "left": null,
            "margin": null,
            "max_height": null,
            "max_width": null,
            "min_height": null,
            "min_width": null,
            "object_fit": null,
            "object_position": null,
            "order": null,
            "overflow": null,
            "overflow_x": null,
            "overflow_y": null,
            "padding": null,
            "right": null,
            "top": null,
            "visibility": null,
            "width": null
          }
        },
        "dc77ad2668e643a3b1122cae54b0e7b9": {
          "model_module": "@jupyter-widgets/controls",
          "model_name": "DescriptionStyleModel",
          "model_module_version": "1.5.0",
          "state": {
            "_model_module": "@jupyter-widgets/controls",
            "_model_module_version": "1.5.0",
            "_model_name": "DescriptionStyleModel",
            "_view_count": null,
            "_view_module": "@jupyter-widgets/base",
            "_view_module_version": "1.2.0",
            "_view_name": "StyleView",
            "description_width": ""
          }
        }
      }
    }
  },
  "nbformat_minor": 0,
  "nbformat": 4,
  "cells": [
    {
      "cell_type": "markdown",
      "source": [
        "## Introduction\n",
        "\n",
        "We will continue building on LangChain with RAG & Prompt Templates\n",
        "\n",
        "https://python.langchain.com/docs/integrations/llms/\n",
        "\n",
        "- Ollama\n",
        "- GPT4All"
      ],
      "metadata": {
        "_uuid": "8f2839f25d086af736a60e9eeb907d3b93b6e0e5",
        "_cell_guid": "b1076dfc-b9ad-4769-8c92-a6c4dae69d19",
        "id": "7mPffkVO8bEs"
      }
    },
    {
      "cell_type": "markdown",
      "source": [
        "<img src=\"RAG_advanced.png\" alt=\"Drawing\" style=\"width: 1000px;\"/>"
      ],
      "metadata": {
        "id": "Bzhz6aoG8bEv"
      }
    },
    {
      "cell_type": "code",
      "source": [
        "%pip install langchain chromadb gpt4all langchainhub"
      ],
      "metadata": {
        "execution": {
          "iopub.status.busy": "2023-11-11T10:09:21.710811Z",
          "iopub.execute_input": "2023-11-11T10:09:21.711524Z",
          "iopub.status.idle": "2023-11-11T10:10:22.356849Z",
          "shell.execute_reply.started": "2023-11-11T10:09:21.711484Z",
          "shell.execute_reply": "2023-11-11T10:10:22.355085Z"
        },
        "trusted": true,
        "colab": {
          "base_uri": "https://localhost:8080/"
        },
        "id": "z98AkqzZ8bEw",
        "outputId": "bee32f62-bb69-4a7c-ace9-0d01c65834b7"
      },
      "execution_count": 1,
      "outputs": [
        {
          "output_type": "stream",
          "name": "stdout",
          "text": [
            "Requirement already satisfied: langchain in /usr/local/lib/python3.10/dist-packages (0.0.334)\n",
            "Requirement already satisfied: chromadb in /usr/local/lib/python3.10/dist-packages (0.4.17)\n",
            "Requirement already satisfied: gpt4all in /usr/local/lib/python3.10/dist-packages (2.0.2)\n",
            "Requirement already satisfied: langchainhub in /usr/local/lib/python3.10/dist-packages (0.1.13)\n",
            "Requirement already satisfied: PyYAML>=5.3 in /usr/local/lib/python3.10/dist-packages (from langchain) (6.0.1)\n",
            "Requirement already satisfied: SQLAlchemy<3,>=1.4 in /usr/local/lib/python3.10/dist-packages (from langchain) (2.0.23)\n",
            "Requirement already satisfied: aiohttp<4.0.0,>=3.8.3 in /usr/local/lib/python3.10/dist-packages (from langchain) (3.8.6)\n",
            "Requirement already satisfied: anyio<4.0 in /usr/local/lib/python3.10/dist-packages (from langchain) (3.7.1)\n",
            "Requirement already satisfied: async-timeout<5.0.0,>=4.0.0 in /usr/local/lib/python3.10/dist-packages (from langchain) (4.0.3)\n",
            "Requirement already satisfied: dataclasses-json<0.7,>=0.5.7 in /usr/local/lib/python3.10/dist-packages (from langchain) (0.6.2)\n",
            "Requirement already satisfied: jsonpatch<2.0,>=1.33 in /usr/local/lib/python3.10/dist-packages (from langchain) (1.33)\n",
            "Requirement already satisfied: langsmith<0.1.0,>=0.0.62 in /usr/local/lib/python3.10/dist-packages (from langchain) (0.0.63)\n",
            "Requirement already satisfied: numpy<2,>=1 in /usr/local/lib/python3.10/dist-packages (from langchain) (1.23.5)\n",
            "Requirement already satisfied: pydantic<3,>=1 in /usr/local/lib/python3.10/dist-packages (from langchain) (1.10.13)\n",
            "Requirement already satisfied: requests<3,>=2 in /usr/local/lib/python3.10/dist-packages (from langchain) (2.31.0)\n",
            "Requirement already satisfied: tenacity<9.0.0,>=8.1.0 in /usr/local/lib/python3.10/dist-packages (from langchain) (8.2.3)\n",
            "Requirement already satisfied: chroma-hnswlib==0.7.3 in /usr/local/lib/python3.10/dist-packages (from chromadb) (0.7.3)\n",
            "Requirement already satisfied: fastapi>=0.95.2 in /usr/local/lib/python3.10/dist-packages (from chromadb) (0.104.1)\n",
            "Requirement already satisfied: uvicorn[standard]>=0.18.3 in /usr/local/lib/python3.10/dist-packages (from chromadb) (0.24.0.post1)\n",
            "Requirement already satisfied: posthog>=2.4.0 in /usr/local/lib/python3.10/dist-packages (from chromadb) (3.0.2)\n",
            "Requirement already satisfied: typing-extensions>=4.5.0 in /usr/local/lib/python3.10/dist-packages (from chromadb) (4.8.0)\n",
            "Requirement already satisfied: pulsar-client>=3.1.0 in /usr/local/lib/python3.10/dist-packages (from chromadb) (3.3.0)\n",
            "Requirement already satisfied: onnxruntime>=1.14.1 in /usr/local/lib/python3.10/dist-packages (from chromadb) (1.16.2)\n",
            "Requirement already satisfied: opentelemetry-api>=1.2.0 in /usr/local/lib/python3.10/dist-packages (from chromadb) (1.21.0)\n",
            "Requirement already satisfied: opentelemetry-exporter-otlp-proto-grpc>=1.2.0 in /usr/local/lib/python3.10/dist-packages (from chromadb) (1.21.0)\n",
            "Requirement already satisfied: opentelemetry-sdk>=1.2.0 in /usr/local/lib/python3.10/dist-packages (from chromadb) (1.21.0)\n",
            "Requirement already satisfied: tokenizers>=0.13.2 in /usr/local/lib/python3.10/dist-packages (from chromadb) (0.14.1)\n",
            "Requirement already satisfied: pypika>=0.48.9 in /usr/local/lib/python3.10/dist-packages (from chromadb) (0.48.9)\n",
            "Requirement already satisfied: tqdm>=4.65.0 in /usr/local/lib/python3.10/dist-packages (from chromadb) (4.66.1)\n",
            "Requirement already satisfied: overrides>=7.3.1 in /usr/local/lib/python3.10/dist-packages (from chromadb) (7.4.0)\n",
            "Requirement already satisfied: importlib-resources in /usr/local/lib/python3.10/dist-packages (from chromadb) (6.1.1)\n",
            "Requirement already satisfied: grpcio>=1.58.0 in /usr/local/lib/python3.10/dist-packages (from chromadb) (1.59.2)\n",
            "Requirement already satisfied: bcrypt>=4.0.1 in /usr/local/lib/python3.10/dist-packages (from chromadb) (4.0.1)\n",
            "Requirement already satisfied: typer>=0.9.0 in /usr/local/lib/python3.10/dist-packages (from chromadb) (0.9.0)\n",
            "Requirement already satisfied: kubernetes>=28.1.0 in /usr/local/lib/python3.10/dist-packages (from chromadb) (28.1.0)\n",
            "Requirement already satisfied: types-requests<3.0.0.0,>=2.31.0.2 in /usr/local/lib/python3.10/dist-packages (from langchainhub) (2.31.0.6)\n",
            "Requirement already satisfied: attrs>=17.3.0 in /usr/local/lib/python3.10/dist-packages (from aiohttp<4.0.0,>=3.8.3->langchain) (23.1.0)\n",
            "Requirement already satisfied: charset-normalizer<4.0,>=2.0 in /usr/local/lib/python3.10/dist-packages (from aiohttp<4.0.0,>=3.8.3->langchain) (3.3.2)\n",
            "Requirement already satisfied: multidict<7.0,>=4.5 in /usr/local/lib/python3.10/dist-packages (from aiohttp<4.0.0,>=3.8.3->langchain) (6.0.4)\n",
            "Requirement already satisfied: yarl<2.0,>=1.0 in /usr/local/lib/python3.10/dist-packages (from aiohttp<4.0.0,>=3.8.3->langchain) (1.9.2)\n",
            "Requirement already satisfied: frozenlist>=1.1.1 in /usr/local/lib/python3.10/dist-packages (from aiohttp<4.0.0,>=3.8.3->langchain) (1.4.0)\n",
            "Requirement already satisfied: aiosignal>=1.1.2 in /usr/local/lib/python3.10/dist-packages (from aiohttp<4.0.0,>=3.8.3->langchain) (1.3.1)\n",
            "Requirement already satisfied: idna>=2.8 in /usr/local/lib/python3.10/dist-packages (from anyio<4.0->langchain) (3.4)\n",
            "Requirement already satisfied: sniffio>=1.1 in /usr/local/lib/python3.10/dist-packages (from anyio<4.0->langchain) (1.3.0)\n",
            "Requirement already satisfied: exceptiongroup in /usr/local/lib/python3.10/dist-packages (from anyio<4.0->langchain) (1.1.3)\n",
            "Requirement already satisfied: marshmallow<4.0.0,>=3.18.0 in /usr/local/lib/python3.10/dist-packages (from dataclasses-json<0.7,>=0.5.7->langchain) (3.20.1)\n",
            "Requirement already satisfied: typing-inspect<1,>=0.4.0 in /usr/local/lib/python3.10/dist-packages (from dataclasses-json<0.7,>=0.5.7->langchain) (0.9.0)\n",
            "Requirement already satisfied: starlette<0.28.0,>=0.27.0 in /usr/local/lib/python3.10/dist-packages (from fastapi>=0.95.2->chromadb) (0.27.0)\n",
            "Requirement already satisfied: jsonpointer>=1.9 in /usr/local/lib/python3.10/dist-packages (from jsonpatch<2.0,>=1.33->langchain) (2.4)\n",
            "Requirement already satisfied: certifi>=14.05.14 in /usr/local/lib/python3.10/dist-packages (from kubernetes>=28.1.0->chromadb) (2023.7.22)\n",
            "Requirement already satisfied: six>=1.9.0 in /usr/local/lib/python3.10/dist-packages (from kubernetes>=28.1.0->chromadb) (1.16.0)\n",
            "Requirement already satisfied: python-dateutil>=2.5.3 in /usr/local/lib/python3.10/dist-packages (from kubernetes>=28.1.0->chromadb) (2.8.2)\n",
            "Requirement already satisfied: google-auth>=1.0.1 in /usr/local/lib/python3.10/dist-packages (from kubernetes>=28.1.0->chromadb) (2.17.3)\n",
            "Requirement already satisfied: websocket-client!=0.40.0,!=0.41.*,!=0.42.*,>=0.32.0 in /usr/local/lib/python3.10/dist-packages (from kubernetes>=28.1.0->chromadb) (1.6.4)\n",
            "Requirement already satisfied: requests-oauthlib in /usr/local/lib/python3.10/dist-packages (from kubernetes>=28.1.0->chromadb) (1.3.1)\n",
            "Requirement already satisfied: oauthlib>=3.2.2 in /usr/local/lib/python3.10/dist-packages (from kubernetes>=28.1.0->chromadb) (3.2.2)\n",
            "Requirement already satisfied: urllib3<2.0,>=1.24.2 in /usr/local/lib/python3.10/dist-packages (from kubernetes>=28.1.0->chromadb) (1.26.18)\n",
            "Requirement already satisfied: coloredlogs in /usr/local/lib/python3.10/dist-packages (from onnxruntime>=1.14.1->chromadb) (15.0.1)\n",
            "Requirement already satisfied: flatbuffers in /usr/local/lib/python3.10/dist-packages (from onnxruntime>=1.14.1->chromadb) (23.5.26)\n",
            "Requirement already satisfied: packaging in /usr/local/lib/python3.10/dist-packages (from onnxruntime>=1.14.1->chromadb) (23.2)\n",
            "Requirement already satisfied: protobuf in /usr/local/lib/python3.10/dist-packages (from onnxruntime>=1.14.1->chromadb) (3.20.3)\n",
            "Requirement already satisfied: sympy in /usr/local/lib/python3.10/dist-packages (from onnxruntime>=1.14.1->chromadb) (1.12)\n",
            "Requirement already satisfied: deprecated>=1.2.6 in /usr/local/lib/python3.10/dist-packages (from opentelemetry-api>=1.2.0->chromadb) (1.2.14)\n",
            "Requirement already satisfied: importlib-metadata<7.0,>=6.0 in /usr/local/lib/python3.10/dist-packages (from opentelemetry-api>=1.2.0->chromadb) (6.8.0)\n",
            "Requirement already satisfied: backoff<3.0.0,>=1.10.0 in /usr/local/lib/python3.10/dist-packages (from opentelemetry-exporter-otlp-proto-grpc>=1.2.0->chromadb) (2.2.1)\n",
            "Requirement already satisfied: googleapis-common-protos~=1.52 in /usr/local/lib/python3.10/dist-packages (from opentelemetry-exporter-otlp-proto-grpc>=1.2.0->chromadb) (1.61.0)\n",
            "Requirement already satisfied: opentelemetry-exporter-otlp-proto-common==1.21.0 in /usr/local/lib/python3.10/dist-packages (from opentelemetry-exporter-otlp-proto-grpc>=1.2.0->chromadb) (1.21.0)\n",
            "Requirement already satisfied: opentelemetry-proto==1.21.0 in /usr/local/lib/python3.10/dist-packages (from opentelemetry-exporter-otlp-proto-grpc>=1.2.0->chromadb) (1.21.0)\n",
            "Requirement already satisfied: opentelemetry-semantic-conventions==0.42b0 in /usr/local/lib/python3.10/dist-packages (from opentelemetry-sdk>=1.2.0->chromadb) (0.42b0)\n",
            "Requirement already satisfied: monotonic>=1.5 in /usr/local/lib/python3.10/dist-packages (from posthog>=2.4.0->chromadb) (1.6)\n",
            "Requirement already satisfied: greenlet!=0.4.17 in /usr/local/lib/python3.10/dist-packages (from SQLAlchemy<3,>=1.4->langchain) (3.0.1)\n",
            "Requirement already satisfied: huggingface_hub<0.18,>=0.16.4 in /usr/local/lib/python3.10/dist-packages (from tokenizers>=0.13.2->chromadb) (0.17.3)\n",
            "Requirement already satisfied: click<9.0.0,>=7.1.1 in /usr/local/lib/python3.10/dist-packages (from typer>=0.9.0->chromadb) (8.1.7)\n",
            "Requirement already satisfied: types-urllib3 in /usr/local/lib/python3.10/dist-packages (from types-requests<3.0.0.0,>=2.31.0.2->langchainhub) (1.26.25.14)\n",
            "Requirement already satisfied: h11>=0.8 in /usr/local/lib/python3.10/dist-packages (from uvicorn[standard]>=0.18.3->chromadb) (0.14.0)\n",
            "Requirement already satisfied: httptools>=0.5.0 in /usr/local/lib/python3.10/dist-packages (from uvicorn[standard]>=0.18.3->chromadb) (0.6.1)\n",
            "Requirement already satisfied: python-dotenv>=0.13 in /usr/local/lib/python3.10/dist-packages (from uvicorn[standard]>=0.18.3->chromadb) (1.0.0)\n",
            "Requirement already satisfied: uvloop!=0.15.0,!=0.15.1,>=0.14.0 in /usr/local/lib/python3.10/dist-packages (from uvicorn[standard]>=0.18.3->chromadb) (0.19.0)\n",
            "Requirement already satisfied: watchfiles>=0.13 in /usr/local/lib/python3.10/dist-packages (from uvicorn[standard]>=0.18.3->chromadb) (0.21.0)\n",
            "Requirement already satisfied: websockets>=10.4 in /usr/local/lib/python3.10/dist-packages (from uvicorn[standard]>=0.18.3->chromadb) (12.0)\n",
            "Requirement already satisfied: wrapt<2,>=1.10 in /usr/local/lib/python3.10/dist-packages (from deprecated>=1.2.6->opentelemetry-api>=1.2.0->chromadb) (1.14.1)\n",
            "Requirement already satisfied: cachetools<6.0,>=2.0.0 in /usr/local/lib/python3.10/dist-packages (from google-auth>=1.0.1->kubernetes>=28.1.0->chromadb) (5.3.2)\n",
            "Requirement already satisfied: pyasn1-modules>=0.2.1 in /usr/local/lib/python3.10/dist-packages (from google-auth>=1.0.1->kubernetes>=28.1.0->chromadb) (0.3.0)\n",
            "Requirement already satisfied: rsa<5,>=3.1.4 in /usr/local/lib/python3.10/dist-packages (from google-auth>=1.0.1->kubernetes>=28.1.0->chromadb) (4.9)\n",
            "Requirement already satisfied: filelock in /usr/local/lib/python3.10/dist-packages (from huggingface_hub<0.18,>=0.16.4->tokenizers>=0.13.2->chromadb) (3.13.1)\n",
            "Requirement already satisfied: fsspec in /usr/local/lib/python3.10/dist-packages (from huggingface_hub<0.18,>=0.16.4->tokenizers>=0.13.2->chromadb) (2023.6.0)\n",
            "Requirement already satisfied: zipp>=0.5 in /usr/local/lib/python3.10/dist-packages (from importlib-metadata<7.0,>=6.0->opentelemetry-api>=1.2.0->chromadb) (3.17.0)\n",
            "Requirement already satisfied: mypy-extensions>=0.3.0 in /usr/local/lib/python3.10/dist-packages (from typing-inspect<1,>=0.4.0->dataclasses-json<0.7,>=0.5.7->langchain) (1.0.0)\n",
            "Requirement already satisfied: humanfriendly>=9.1 in /usr/local/lib/python3.10/dist-packages (from coloredlogs->onnxruntime>=1.14.1->chromadb) (10.0)\n",
            "Requirement already satisfied: mpmath>=0.19 in /usr/local/lib/python3.10/dist-packages (from sympy->onnxruntime>=1.14.1->chromadb) (1.3.0)\n",
            "Requirement already satisfied: pyasn1<0.6.0,>=0.4.6 in /usr/local/lib/python3.10/dist-packages (from pyasn1-modules>=0.2.1->google-auth>=1.0.1->kubernetes>=28.1.0->chromadb) (0.5.0)\n"
          ]
        }
      ]
    },
    {
      "cell_type": "markdown",
      "source": [
        "## Example 1: GPT4All\n",
        "\n",
        "- Website RAG"
      ],
      "metadata": {
        "id": "_Udvs6R7CgoM"
      }
    },
    {
      "cell_type": "code",
      "source": [
        "# Load web page\n",
        "from langchain.document_loaders import WebBaseLoader\n",
        "\n",
        "loader = WebBaseLoader(\"https://lilianweng.github.io/posts/2023-06-23-agent/\")\n",
        "data = loader.load()"
      ],
      "metadata": {
        "execution": {
          "iopub.status.busy": "2023-11-11T10:22:31.499512Z",
          "iopub.execute_input": "2023-11-11T10:22:31.499956Z",
          "iopub.status.idle": "2023-11-11T10:22:32.860115Z",
          "shell.execute_reply.started": "2023-11-11T10:22:31.499922Z",
          "shell.execute_reply": "2023-11-11T10:22:32.858810Z"
        },
        "trusted": true,
        "id": "heSj30mc8bEy"
      },
      "execution_count": 8,
      "outputs": []
    },
    {
      "cell_type": "code",
      "source": [
        "# Split into chunks\n",
        "from langchain.text_splitter import RecursiveCharacterTextSplitter\n",
        "\n",
        "text_splitter = RecursiveCharacterTextSplitter(chunk_size=1500, chunk_overlap=100)\n",
        "all_splits = text_splitter.split_documents(data)"
      ],
      "metadata": {
        "execution": {
          "iopub.status.busy": "2023-11-11T10:22:42.623268Z",
          "iopub.execute_input": "2023-11-11T10:22:42.623659Z",
          "iopub.status.idle": "2023-11-11T10:22:42.635031Z",
          "shell.execute_reply.started": "2023-11-11T10:22:42.623629Z",
          "shell.execute_reply": "2023-11-11T10:22:42.633680Z"
        },
        "trusted": true,
        "id": "mDOxcI_-8bEy"
      },
      "execution_count": 9,
      "outputs": []
    },
    {
      "cell_type": "code",
      "source": [
        "# Embed and store\n",
        "from langchain.vectorstores import Chroma\n",
        "from langchain.embeddings import GPT4AllEmbeddings\n",
        "\n",
        "vectorstore = Chroma.from_documents(documents=all_splits, embedding=GPT4AllEmbeddings())"
      ],
      "metadata": {
        "execution": {
          "iopub.status.busy": "2023-11-11T10:28:04.552643Z",
          "iopub.execute_input": "2023-11-11T10:28:04.553098Z",
          "iopub.status.idle": "2023-11-11T10:28:04.874817Z",
          "shell.execute_reply.started": "2023-11-11T10:28:04.553063Z",
          "shell.execute_reply": "2023-11-11T10:28:04.872856Z"
        },
        "trusted": true,
        "id": "_ytUQZUz8bEz"
      },
      "execution_count": 10,
      "outputs": []
    },
    {
      "cell_type": "code",
      "source": [
        "# Retrieve\n",
        "question = \"How can Task Decomposition be done?\"\n",
        "docs = vectorstore.similarity_search(question)\n",
        "len(docs)"
      ],
      "metadata": {
        "colab": {
          "base_uri": "https://localhost:8080/"
        },
        "id": "1PE3kx1i9pO4",
        "outputId": "ef6430c7-0cd0-4cd8-d8a4-9b571c6d986f"
      },
      "execution_count": 11,
      "outputs": [
        {
          "output_type": "execute_result",
          "data": {
            "text/plain": [
              "4"
            ]
          },
          "metadata": {},
          "execution_count": 11
        }
      ]
    },
    {
      "cell_type": "code",
      "source": [
        "# RAG prompt\n",
        "from langchain import hub\n",
        "\n",
        "QA_CHAIN_PROMPT = hub.pull(\"rlm/rag-prompt-llama\")"
      ],
      "metadata": {
        "id": "Er5s837K9sSF"
      },
      "execution_count": 12,
      "outputs": []
    },
    {
      "cell_type": "code",
      "source": [
        "## COMMENT the following if not running for the first time\n",
        "# Install gpt4all library and necessary dependencies\n",
        "!pip install gpt4all\n",
        "!apt install libvulkan1\n",
        "!apt install libnvidia-gl-525-server\n"
      ],
      "metadata": {
        "id": "09WCcrztQH3q"
      },
      "execution_count": null,
      "outputs": []
    },
    {
      "cell_type": "code",
      "source": [
        "# download one small model\n",
        "# This is medium sized model; only get this on a decent GPU (not Colab)\n",
        "#!wget https://huggingface.co/TheBloke/Llama-2-7B-Chat-GGML/resolve/main/llama-2-7b-chat.ggmlv3.q4_0.bin -O llama-2-7b-chat.bin"
      ],
      "metadata": {
        "id": "b8oHD3vDYbhe"
      },
      "execution_count": null,
      "outputs": []
    },
    {
      "cell_type": "code",
      "source": [
        "!wget https://gpt4all.io/models/gguf/mistral-7b-openorca.Q4_0.gguf -O mistral-7b-openorca.Q4_0.gguf"
      ],
      "metadata": {
        "colab": {
          "base_uri": "https://localhost:8080/"
        },
        "id": "JnUf0gOv_3my",
        "outputId": "58b2563b-974d-4378-81a7-dfd127f57e71"
      },
      "execution_count": 9,
      "outputs": [
        {
          "output_type": "stream",
          "name": "stdout",
          "text": [
            "--2023-11-11 10:58:03--  https://gpt4all.io/models/gguf/mistral-7b-openorca.Q4_0.gguf\n",
            "Resolving gpt4all.io (gpt4all.io)... 172.67.71.169, 104.26.0.159, 104.26.1.159, ...\n",
            "Connecting to gpt4all.io (gpt4all.io)|172.67.71.169|:443... connected.\n",
            "HTTP request sent, awaiting response... 200 OK\n",
            "Length: 4108927744 (3.8G)\n",
            "Saving to: ‘mistral-7b-openorca.Q4_0.gguf.1’\n",
            "\n",
            "mistral-7b-openorca 100%[===================>]   3.83G  18.2MB/s    in 2m 55s  \n",
            "\n",
            "2023-11-11 11:00:59 (22.4 MB/s) - ‘mistral-7b-openorca.Q4_0.gguf.1’ saved [4108927744/4108927744]\n",
            "\n"
          ]
        }
      ]
    },
    {
      "cell_type": "code",
      "source": [
        "!wget https://huggingface.co/TheBloke/Llama-2-7B-Chat-GGML/resolve/main/llama-2-7b-chat.ggmlv3.q8_0.bin?download=true -O llama-2-7b-chat.ggmlv3.q8_0.bin"
      ],
      "metadata": {
        "colab": {
          "base_uri": "https://localhost:8080/"
        },
        "id": "ZmrIRYJQHAzb",
        "outputId": "71174129-987c-49c6-bfcd-1ff331f2061a"
      },
      "execution_count": 2,
      "outputs": [
        {
          "output_type": "stream",
          "name": "stdout",
          "text": [
            "--2023-11-11 11:21:12--  https://huggingface.co/TheBloke/Llama-2-7B-Chat-GGML/resolve/main/llama-2-7b-chat.ggmlv3.q8_0.bin?download=true\n",
            "Resolving huggingface.co (huggingface.co)... 13.33.33.102, 13.33.33.20, 13.33.33.110, ...\n",
            "Connecting to huggingface.co (huggingface.co)|13.33.33.102|:443... connected.\n",
            "HTTP request sent, awaiting response... 302 Found\n",
            "Location: https://cdn-lfs.huggingface.co/repos/30/e3/30e3aca7233f7337633262ff6d59dd98559ecd8982e7419b39752c8d0daae1ca/3bfdde943555c78294626a6ccd40184162d066d39774bd2c98dae24943d32cc3?response-content-disposition=attachment%3B+filename*%3DUTF-8%27%27llama-2-7b-chat.ggmlv3.q8_0.bin%3B+filename%3D%22llama-2-7b-chat.ggmlv3.q8_0.bin%22%3B&response-content-type=application%2Foctet-stream&Expires=1699960872&Policy=eyJTdGF0ZW1lbnQiOlt7IkNvbmRpdGlvbiI6eyJEYXRlTGVzc1RoYW4iOnsiQVdTOkVwb2NoVGltZSI6MTY5OTk2MDg3Mn19LCJSZXNvdXJjZSI6Imh0dHBzOi8vY2RuLWxmcy5odWdnaW5nZmFjZS5jby9yZXBvcy8zMC9lMy8zMGUzYWNhNzIzM2Y3MzM3NjMzMjYyZmY2ZDU5ZGQ5ODU1OWVjZDg5ODJlNzQxOWIzOTc1MmM4ZDBkYWFlMWNhLzNiZmRkZTk0MzU1NWM3ODI5NDYyNmE2Y2NkNDAxODQxNjJkMDY2ZDM5Nzc0YmQyYzk4ZGFlMjQ5NDNkMzJjYzM%7EcmVzcG9uc2UtY29udGVudC1kaXNwb3NpdGlvbj0qJnJlc3BvbnNlLWNvbnRlbnQtdHlwZT0qIn1dfQ__&Signature=Z-1k3yDLrYsJt1Foel05pvC3TOPSKJqQhJNPWJ5s5CQuBH1r7fEmJMibWv9YQn1wI7s72autkL4ZaUK36QGhesE2fpyAiA1Pq96GA9abzROwJzImcIISpjSuFW-BUvWIVnU4bBn4XBb2Kcu54P2tpHPLNBce6eK2p80Y8C0iXqUk0bzrlfkMswImOTujQnrrgRXAT8oTgjMxwN%7E4KYTewGqVttMoQnxLFecqC2tO-aGrUGmcQ9hMlCl6JywhZZNuSO38K091w0YjembvzhcdV9W8B5ve42Q0OS2is1Qxq4XU4o-lXV0-JtJKn5R02KDkiCPSjfeVXjRWgpd28kze7w__&Key-Pair-Id=KVTP0A1DKRTAX [following]\n",
            "--2023-11-11 11:21:12--  https://cdn-lfs.huggingface.co/repos/30/e3/30e3aca7233f7337633262ff6d59dd98559ecd8982e7419b39752c8d0daae1ca/3bfdde943555c78294626a6ccd40184162d066d39774bd2c98dae24943d32cc3?response-content-disposition=attachment%3B+filename*%3DUTF-8%27%27llama-2-7b-chat.ggmlv3.q8_0.bin%3B+filename%3D%22llama-2-7b-chat.ggmlv3.q8_0.bin%22%3B&response-content-type=application%2Foctet-stream&Expires=1699960872&Policy=eyJTdGF0ZW1lbnQiOlt7IkNvbmRpdGlvbiI6eyJEYXRlTGVzc1RoYW4iOnsiQVdTOkVwb2NoVGltZSI6MTY5OTk2MDg3Mn19LCJSZXNvdXJjZSI6Imh0dHBzOi8vY2RuLWxmcy5odWdnaW5nZmFjZS5jby9yZXBvcy8zMC9lMy8zMGUzYWNhNzIzM2Y3MzM3NjMzMjYyZmY2ZDU5ZGQ5ODU1OWVjZDg5ODJlNzQxOWIzOTc1MmM4ZDBkYWFlMWNhLzNiZmRkZTk0MzU1NWM3ODI5NDYyNmE2Y2NkNDAxODQxNjJkMDY2ZDM5Nzc0YmQyYzk4ZGFlMjQ5NDNkMzJjYzM%7EcmVzcG9uc2UtY29udGVudC1kaXNwb3NpdGlvbj0qJnJlc3BvbnNlLWNvbnRlbnQtdHlwZT0qIn1dfQ__&Signature=Z-1k3yDLrYsJt1Foel05pvC3TOPSKJqQhJNPWJ5s5CQuBH1r7fEmJMibWv9YQn1wI7s72autkL4ZaUK36QGhesE2fpyAiA1Pq96GA9abzROwJzImcIISpjSuFW-BUvWIVnU4bBn4XBb2Kcu54P2tpHPLNBce6eK2p80Y8C0iXqUk0bzrlfkMswImOTujQnrrgRXAT8oTgjMxwN%7E4KYTewGqVttMoQnxLFecqC2tO-aGrUGmcQ9hMlCl6JywhZZNuSO38K091w0YjembvzhcdV9W8B5ve42Q0OS2is1Qxq4XU4o-lXV0-JtJKn5R02KDkiCPSjfeVXjRWgpd28kze7w__&Key-Pair-Id=KVTP0A1DKRTAX\n",
            "Resolving cdn-lfs.huggingface.co (cdn-lfs.huggingface.co)... 18.155.68.73, 18.155.68.94, 18.155.68.98, ...\n",
            "Connecting to cdn-lfs.huggingface.co (cdn-lfs.huggingface.co)|18.155.68.73|:443... connected.\n",
            "HTTP request sent, awaiting response... 200 OK\n",
            "Length: 7160799872 (6.7G) [application/octet-stream]\n",
            "Saving to: ‘llama-2-7b-chat.ggmlv3.q8_0.bin?download=true’\n",
            "\n",
            "llama-2-7b-chat.ggm 100%[===================>]   6.67G   240MB/s    in 33s     \n",
            "\n",
            "2023-11-11 11:21:45 (209 MB/s) - ‘llama-2-7b-chat.ggmlv3.q8_0.bin?download=true’ saved [7160799872/7160799872]\n",
            "\n"
          ]
        }
      ]
    },
    {
      "cell_type": "code",
      "source": [
        "# Import the GPT4All library and initialize the model\n",
        "from gpt4all import GPT4All"
      ],
      "metadata": {
        "id": "M3F6WEuHSY9q"
      },
      "execution_count": 2,
      "outputs": []
    },
    {
      "cell_type": "code",
      "source": [
        "# Initialize the model:\n",
        "llm = GPT4All(model_name=\"mistral-7b-openorca.Q4_0.gguf\", model_path=\"/content/\", device='gpu')\n",
        "# Can also try 'orca-mini-3b-gguf2-q4_0.gguf'"
      ],
      "metadata": {
        "id": "8N_T861MSHRw"
      },
      "execution_count": 3,
      "outputs": []
    },
    {
      "cell_type": "code",
      "source": [
        "# Generate text using the model\n",
        "output = llm.generate(\"The capital of France is \")\n",
        "print(output)"
      ],
      "metadata": {
        "colab": {
          "base_uri": "https://localhost:8080/"
        },
        "id": "M1wMQ0oLTqJK",
        "outputId": "e0044e75-c243-436d-a576-1d5021e1c16c"
      },
      "execution_count": 15,
      "outputs": [
        {
          "output_type": "stream",
          "name": "stdout",
          "text": [
            " a city that never sleeps. With its bustling streets, world-famous landmarks and rich history, Paris has always been one of the most visited cities in Europe. But did you know there are many hidden gems waiting to be discovered? Here are five offbeat things to do in Paris:\n",
            "\n"
          ]
        }
      ]
    },
    {
      "cell_type": "code",
      "source": [
        "from google.colab import drive\n",
        "drive.mount('/content/drive')"
      ],
      "metadata": {
        "colab": {
          "base_uri": "https://localhost:8080/"
        },
        "id": "uLC6I7BRRePO",
        "outputId": "2327ddff-4701-4a7f-9b22-fbcd5eac0dc2"
      },
      "execution_count": 5,
      "outputs": [
        {
          "output_type": "stream",
          "name": "stdout",
          "text": [
            "Mounted at /content/drive\n"
          ]
        }
      ]
    },
    {
      "cell_type": "code",
      "source": [
        "llm"
      ],
      "metadata": {
        "colab": {
          "base_uri": "https://localhost:8080/"
        },
        "id": "4jEmgHyNW-89",
        "outputId": "14eea140-f5df-4c22-faeb-80d1ec98e2d8"
      },
      "execution_count": 18,
      "outputs": [
        {
          "output_type": "execute_result",
          "data": {
            "text/plain": [
              "<gpt4all.gpt4all.GPT4All at 0x7a2535a4d690>"
            ]
          },
          "metadata": {},
          "execution_count": 18
        }
      ]
    },
    {
      "cell_type": "code",
      "source": [
        "# QA chain\n",
        "# This needs to be debugged to run on Colab/Kaggle\n",
        "if False:\n",
        "  from langchain.chains import RetrievalQA\n",
        "\n",
        "  qa_chain = RetrievalQA.from_chain_type(\n",
        "      llm,\n",
        "      retriever=vectorstore.as_retriever(),\n",
        "      chain_type_kwargs={\"prompt\": QA_CHAIN_PROMPT},\n",
        "  )\n",
        "\n",
        "  question = \"What are the various approaches to Task Decomposition for AI Agents?\"\n",
        "  result = qa_chain({\"query\": question})"
      ],
      "metadata": {
        "id": "O0ptpQ28-MRm"
      },
      "execution_count": 21,
      "outputs": []
    },
    {
      "cell_type": "code",
      "source": [],
      "metadata": {
        "id": "KGN_fGpkHA66"
      },
      "execution_count": null,
      "outputs": []
    },
    {
      "cell_type": "markdown",
      "source": [
        "## LLaMA-2\n",
        "\n",
        "- Huggingface repo\n",
        "  - https://huggingface.co/TheBloke/Llama-2-7B-Chat-GGML/tree/main"
      ],
      "metadata": {
        "id": "iKmi0DGlHBhl"
      }
    },
    {
      "cell_type": "code",
      "source": [
        "import os\n",
        "from langchain.vectorstores import Chroma\n",
        "from langchain.embeddings.openai import OpenAIEmbeddings\n",
        "from langchain.llms import Ollama\n",
        "from langchain.callbacks.manager import CallbackManager\n",
        "from langchain.callbacks.streaming_stdout import StreamingStdOutCallbackHandler\n",
        "from langchain.embeddings.ollama import OllamaEmbeddings\n",
        "from langchain.embeddings.bedrock import BedrockEmbeddings\n",
        "from langchain.prompts import PromptTemplate\n",
        "from langchain.document_loaders import UnstructuredPDFLoader, OnlinePDFLoader, PyPDFLoader\n",
        "from langchain.text_splitter import RecursiveCharacterTextSplitter\n",
        "from langchain.document_loaders import DirectoryLoader\n",
        "from langchain.chains import RetrievalQA\n"
      ],
      "metadata": {
        "execution": {
          "iopub.status.busy": "2023-11-11T08:58:14.625250Z",
          "iopub.execute_input": "2023-11-11T08:58:14.625641Z",
          "iopub.status.idle": "2023-11-11T08:58:17.638170Z",
          "shell.execute_reply.started": "2023-11-11T08:58:14.625610Z",
          "shell.execute_reply": "2023-11-11T08:58:17.636914Z"
        },
        "trusted": true,
        "id": "l23FGrJX8bE0"
      },
      "execution_count": null,
      "outputs": []
    },
    {
      "cell_type": "markdown",
      "source": [
        "### [OPTIONAL] Set your OpenAI API key if you want to use their embedding model\n",
        "\n",
        "If you are on Kaggle, go to \"Add-Ons\" in the Toolbar and add your OPENAI_API_KEY\n",
        "Copy the code sample and modify it below if needed"
      ],
      "metadata": {
        "id": "T4Z-0S9B8bE1"
      }
    },
    {
      "cell_type": "code",
      "source": [
        "from kaggle_secrets import UserSecretsClient\n",
        "user_secrets = UserSecretsClient()\n",
        "os.environ[\"OPENAI_API_KEY\"] = user_secrets.get_secret(\"OPENAI\")"
      ],
      "metadata": {
        "execution": {
          "iopub.status.busy": "2023-11-11T08:58:52.503674Z",
          "iopub.execute_input": "2023-11-11T08:58:52.504099Z",
          "iopub.status.idle": "2023-11-11T08:58:52.837303Z",
          "shell.execute_reply.started": "2023-11-11T08:58:52.504066Z",
          "shell.execute_reply": "2023-11-11T08:58:52.836345Z"
        },
        "trusted": true,
        "id": "vf_rqPrA8bE1"
      },
      "execution_count": null,
      "outputs": []
    },
    {
      "cell_type": "code",
      "source": [
        "## Alternative, if not on Kaggle\n",
        "import os\n",
        "import getpass\n",
        "\n",
        "OPENAI_API_KEY = getpass.getpass(\"Enter your OpenAI API Key: \")\n",
        "os.environ[\"OPENAI_API_KEY\"] = OPENAI_API_KEY"
      ],
      "metadata": {
        "execution": {
          "iopub.status.busy": "2023-11-11T06:46:47.444239Z",
          "iopub.execute_input": "2023-11-11T06:46:47.444633Z",
          "iopub.status.idle": "2023-11-11T06:46:49.155658Z",
          "shell.execute_reply.started": "2023-11-11T06:46:47.444600Z",
          "shell.execute_reply": "2023-11-11T06:46:49.154904Z"
        },
        "trusted": true,
        "id": "nU5sntu58bE2",
        "outputId": "ed8f459d-cfc0-47f3-cb03-4fbbdc452270"
      },
      "execution_count": null,
      "outputs": [
        {
          "output_type": "stream",
          "name": "stdin",
          "text": "Enter your OpenAI API Key:  ····\n"
        }
      ]
    },
    {
      "cell_type": "markdown",
      "source": [
        "## Embedding model\n",
        "\n",
        "We will use the Mistral 7b model and Ollama embeddings"
      ],
      "metadata": {
        "id": "RaAuM2Wl8bE2"
      }
    },
    {
      "cell_type": "code",
      "source": [
        "# Ollama embeddings\n",
        "embeddings_open = OllamaEmbeddings(model=\"mistral\")\n",
        "# OpenAI embeddings\n",
        "#embedding = OpenAIEmbeddings()\n",
        "\n",
        "llm_open = Ollama(  model=\"mistral\",\n",
        "                    #model='Llama2',\n",
        "                    callback_manager = CallbackManager([StreamingStdOutCallbackHandler()]))"
      ],
      "metadata": {
        "execution": {
          "iopub.status.busy": "2023-11-11T08:59:00.875914Z",
          "iopub.execute_input": "2023-11-11T08:59:00.877384Z",
          "iopub.status.idle": "2023-11-11T08:59:00.888577Z",
          "shell.execute_reply.started": "2023-11-11T08:59:00.877327Z",
          "shell.execute_reply": "2023-11-11T08:59:00.885233Z"
        },
        "trusted": true,
        "id": "agJH8zwq8bE2"
      },
      "execution_count": 24,
      "outputs": []
    },
    {
      "cell_type": "markdown",
      "source": [
        "## Loading the data\n",
        "\n",
        "LangChain documentation offers multiple ways to load your private data.\n",
        "- We will use the LangChain documentation\n",
        "\n",
        "...meta\n"
      ],
      "metadata": {
        "id": "8LIjTtD58bE3"
      }
    },
    {
      "cell_type": "code",
      "source": [
        "!mkdir -p ./data\n",
        "\n",
        "from urllib.request import urlretrieve\n",
        "urls = [\n",
        "    'https://s2.q4cdn.com/299287126/files/doc_financials/2023/ar/2022-Shareholder-Letter.pdf',\n",
        "    'https://s2.q4cdn.com/299287126/files/doc_financials/2022/ar/2021-Shareholder-Letter.pdf',\n",
        "    'https://s2.q4cdn.com/299287126/files/doc_financials/2021/ar/Amazon-2020-Shareholder-Letter-and-1997-Shareholder-Letter.pdf',\n",
        "    'https://s2.q4cdn.com/299287126/files/doc_financials/2020/ar/2019-Shareholder-Letter.pdf'\n",
        "]\n",
        "\n",
        "filenames = [\n",
        "    'AMZN-2022-Shareholder-Letter.pdf',\n",
        "    'AMZN-2021-Shareholder-Letter.pdf',\n",
        "    'AMZN-2020-Shareholder-Letter.pdf',\n",
        "    'AMZN-2019-Shareholder-Letter.pdf'\n",
        "]\n",
        "\n",
        "metadata = [\n",
        "    dict(year=2022, source=filenames[0]),\n",
        "    dict(year=2021, source=filenames[1]),\n",
        "    dict(year=2020, source=filenames[2]),\n",
        "    dict(year=2019, source=filenames[3])]"
      ],
      "metadata": {
        "execution": {
          "iopub.status.busy": "2023-11-11T08:59:09.268409Z",
          "iopub.execute_input": "2023-11-11T08:59:09.268847Z",
          "iopub.status.idle": "2023-11-11T08:59:10.381026Z",
          "shell.execute_reply.started": "2023-11-11T08:59:09.268812Z",
          "shell.execute_reply": "2023-11-11T08:59:10.379468Z"
        },
        "trusted": true,
        "id": "NjOFpymn8bE3"
      },
      "execution_count": 25,
      "outputs": []
    },
    {
      "cell_type": "code",
      "source": [
        "from tqdm.notebook import tqdm\n",
        "\n",
        "data_root = \"./data/\"\n",
        "\n",
        "for idx, url in tqdm(enumerate(urls), total=len(urls)):\n",
        "    file_path = data_root + filenames[idx]\n",
        "    urlretrieve(url, file_path)"
      ],
      "metadata": {
        "execution": {
          "iopub.status.busy": "2023-11-11T08:59:16.037839Z",
          "iopub.execute_input": "2023-11-11T08:59:16.038306Z",
          "iopub.status.idle": "2023-11-11T08:59:20.325700Z",
          "shell.execute_reply.started": "2023-11-11T08:59:16.038270Z",
          "shell.execute_reply": "2023-11-11T08:59:20.324495Z"
        },
        "trusted": true,
        "colab": {
          "base_uri": "https://localhost:8080/",
          "height": 49,
          "referenced_widgets": [
            "1447c1b964cf49488150d526d53dfab5",
            "ed0ced959aa747269a8c08299629aac3",
            "e11fcdddc10a48b085609fa60b7aa5e2",
            "63081a2b91684529a0ab0b167c5ee3e5",
            "c6780157a45b4853b217453673f6597e",
            "40ed1d4b59554ce7bee3ed637b6c2c65",
            "656b175e760d4b739b1d2471ead9c76e",
            "a8029875e9c64b52b0208ddeedd2eb14",
            "216bbe8a07f84c00bed18a20be293ac8",
            "9891dcb36f3447a6a041515d64fe6cc9",
            "d2988495ec794015820376352e4f8561"
          ]
        },
        "id": "WcxCNAR18bE3",
        "outputId": "53d1dbca-9b70-4ead-ba8f-c260c741b39b"
      },
      "execution_count": 26,
      "outputs": [
        {
          "output_type": "display_data",
          "data": {
            "text/plain": [
              "  0%|          | 0/4 [00:00<?, ?it/s]"
            ],
            "application/vnd.jupyter.widget-view+json": {
              "version_major": 2,
              "version_minor": 0,
              "model_id": "1447c1b964cf49488150d526d53dfab5"
            }
          },
          "metadata": {}
        }
      ]
    },
    {
      "cell_type": "markdown",
      "source": [
        "Remove the last three pages of each PDF (good exercise!) since they're repetitive"
      ],
      "metadata": {
        "id": "BvhD6kgu8bE4"
      }
    },
    {
      "cell_type": "code",
      "source": [
        "!pip install pypdf"
      ],
      "metadata": {
        "colab": {
          "base_uri": "https://localhost:8080/"
        },
        "id": "HhED3399ZJSk",
        "outputId": "e5c6146c-a7c1-47dc-f266-b4fe5df83ec5"
      },
      "execution_count": 28,
      "outputs": [
        {
          "output_type": "stream",
          "name": "stdout",
          "text": [
            "Collecting pypdf\n",
            "  Downloading pypdf-3.17.0-py3-none-any.whl (277 kB)\n",
            "\u001b[2K     \u001b[90m━━━━━━━━━━━━━━━━━━━━━━━━━━━━━━━━━━━━━━━━\u001b[0m \u001b[32m277.4/277.4 kB\u001b[0m \u001b[31m3.9 MB/s\u001b[0m eta \u001b[36m0:00:00\u001b[0m\n",
            "\u001b[?25hInstalling collected packages: pypdf\n",
            "Successfully installed pypdf-3.17.0\n"
          ]
        }
      ]
    },
    {
      "cell_type": "code",
      "source": [
        "import numpy as np\n",
        "from langchain.text_splitter import RecursiveCharacterTextSplitter\n",
        "from langchain.document_loaders import PyPDFLoader\n",
        "\n",
        "documents = []\n",
        "\n",
        "for idx, file in tqdm(enumerate(filenames), total=len(urls)):\n",
        "    loader = PyPDFLoader(data_root + file)\n",
        "    document = loader.load()\n",
        "    for document_fragment in document:\n",
        "        document_fragment.metadata = metadata[idx]\n",
        "\n",
        "    print(f'{len(document)} {document}\\n')\n",
        "    documents += document\n",
        "\n",
        "# - in our testing Character split works better with this PDF data set\n",
        "text_splitter = RecursiveCharacterTextSplitter(\n",
        "    # Set a really small chunk size, just to show.\n",
        "    chunk_size = 1000,\n",
        "    chunk_overlap  = 100,\n",
        ")\n",
        "\n",
        "docs = text_splitter.split_documents(documents)"
      ],
      "metadata": {
        "execution": {
          "iopub.status.busy": "2023-11-11T08:59:22.708062Z",
          "iopub.execute_input": "2023-11-11T08:59:22.708477Z",
          "iopub.status.idle": "2023-11-11T08:59:24.993404Z",
          "shell.execute_reply.started": "2023-11-11T08:59:22.708444Z",
          "shell.execute_reply": "2023-11-11T08:59:24.992192Z"
        },
        "collapsed": true,
        "jupyter": {
          "outputs_hidden": true
        },
        "trusted": true,
        "colab": {
          "base_uri": "https://localhost:8080/",
          "height": 213,
          "referenced_widgets": [
            "8e050806f4b34b7d9fbf86580712701a",
            "9d9f537226cc4fbd984254c955c22ed6",
            "380620c8331044928de08cbec3ca9739",
            "f095d8858a1b481eab9cdb439d7369f7",
            "925ae590d3c04e1b9be1824efa3fbca0",
            "7386eec8ee974ce58694a3126519c0d0",
            "43cec395fe17466eb08134bd521c0839",
            "e82d08f656f449f0a83dbc7322c134ad",
            "a5d4eb9697ce456888ebbf7cfe3a89dc",
            "05422535faa74c43a1139d97a1ca1b09",
            "dc77ad2668e643a3b1122cae54b0e7b9"
          ]
        },
        "id": "qZwCCL5f8bE4",
        "outputId": "4a48510e-6ee7-4171-d4e1-ae2a41e341cf"
      },
      "execution_count": 29,
      "outputs": [
        {
          "output_type": "display_data",
          "data": {
            "text/plain": [
              "  0%|          | 0/4 [00:00<?, ?it/s]"
            ],
            "application/vnd.jupyter.widget-view+json": {
              "version_major": 2,
              "version_minor": 0,
              "model_id": "8e050806f4b34b7d9fbf86580712701a"
            }
          },
          "metadata": {}
        },
        {
          "output_type": "stream",
          "name": "stdout",
          "text": [
            "10 [Document(page_content='Dear shareholders:\\nAs I sit down to write my second annual shareholder letter as CEO, I find myself optimistic and energized\\nby what lies ahead for Amazon. Despite 2022 being one of the harder macroeconomic years in recent memory,and with some of our own operating challenges to boot, we still found a way to grow demand (on top ofthe unprecedented growth we experienced in the first half of the pandemic). We innovated in our largestbusinesses to meaningfully improve customer experience short and long term. And, we made importantadjustments in our investment decisions and the way in which we’ll invent moving forward, while stillpreserving the long-term investments that we believe can change the future of Amazon for customers,\\nshareholders, and employees.\\nWhile there were an unusual number of simultaneous challenges this past year, the reality is that if you\\noperate in large, dynamic, global market segments with many capable and well-funded competitors (theconditions in which Amazon operates all of its businesses), conditions rarely stay stagnant for long.\\nIn the 25 years I’ve been at Amazon, there has been constant change, much of which we’ve initiated ourselves.\\nWhen I joined Amazon in 1997, we had booked $15M in revenue in 1996, were a books-only retailer, didnot have a third-party marketplace, and only shipped to addresses in the US. Today, Amazon sells nearly everyphysical and digital retail item you can imagine, with a vibrant third-party seller ecosystem that accountsfor 60% of our unit sales, and reaches customers in virtually every country around the world. Similarly,building a business around a set of technology infrastructure services in the cloud was not obvious in 2003when we started pursuing AWS, and still wasn’t when we launched our first services in 2006. Having virtuallyevery book at your fingertips in 60 seconds, and then being able to store and retrieve them on a lightweightdigital reader was not “a thing”yet when we launched Kindle in 2007, nor was a voice-driven personal assistantlike Alexa (launched in 2014) that you could use to access entertainment, control your smart home, shop,and retrieve all sorts of information.\\nThere have also been times when macroeconomic conditions or operating inefficiencies have presented us\\nwith new challenges. For instance, in the 2001 dot-com crash, we had to secure letters of credit to buyinventory for the holidays, streamline costs to deliver better profitability for the business, yet still prioritizedthe long-term customer experience and business we were trying to build (if you remember, we actuallylowered prices in most of our categories during that tenuous 2001 period). Y ou saw this sort of balancingagain in 2008-2009 as we endured the recession provoked by the mortgage-backed securities financial crisis.We took several actions to manage the cost structure and efficiency of our Stores business, but we alsobalanced this streamlining with investment in customer experiences that we believed could be substantialfuture businesses with strong returns for shareholders. In 2008, AWS was still a fairly small, fledgling business.We knew we were on to something, but it still required substantial capital investment. There were voicesinside and outside of the company questioning why Amazon (known mostly as an online retailer then) wouldbe investing so much in cloud computing. But, we knew we were inventing something special that couldcreate a lot of value for customers and Amazon in the future. We had a head start on potential competitors;and if anything, we wanted to accelerate our pace of innovation. We made the long-term decision tocontinue investing in AWS. Fifteen years later, AWS is now an $85B annual revenue run rate business, withstrong profitability, that has transformed how customers from start-ups to multinational companies to publicsector organizations manage their technology infrastructure. Amazon would be a different company ifwe’d slowed investment in AWS during that 2008-2009 period.\\nChange is always around the corner. Sometimes, you proactively invite it in, and sometimes it just comes\\na-knocking. But, when you see it’s coming, you have to embrace it. And, the companies that do this well overa long period of time usually succeed. I’m optimistic about our future prospects because I like the way ourteam is responding to the changes we see in front of us.', metadata={'year': 2022, 'source': 'AMZN-2022-Shareholder-Letter.pdf'}), Document(page_content='Over the last several months, we took a deep look across the company, business by business , invention by\\ninvention, and asked ourselves whether we had conviction about each initiative’s long-term potential to driveenough revenue, operating income, free cash flow, and return on invested capital. In some cases, it led to usshuttering certain businesses. For instance, we stopped pursuing physical store concepts like our Bookstoresand 4 Star stores, closed our Amazon Fabric and Amazon Care efforts, and moved on from some newerdevices where we didn’t see a path to meaningful returns. In other cases, we looked at some programs thatweren’t producing the returns we’d hoped (e.g. free shipping for all online grocery orders over $35) andamended them. We also reprioritized where to spend our resources, which ultimately led to the hard decisionto eliminate 27,000 corporate roles. There are a number of other changes that we’ve made over the lastseveral months to streamline our overall costs, and like most leadership teams, we’ll continue to evaluatewhat we’re seeing in our business and proceed adaptively.\\nWe also looked hard at how we were working together as a team and asked our corporate employees to come\\nback to the office at least three days a week , beginning in May. During the pandemic, our employees rallied to\\nget work done from home and did everything possible to keep up with the unexpected circumstances thatpresented themselves. It was impressive and I’m proud of the way our collective team came together toovercome unprecedented challenges for our customers, communities, and business. But, we don’t think it’s thebest long-term approach. We’ve become convinced that collaborating and inventing is easier and moreeffective when we’re working together and learning from one another in person. The energy and riffing onone another’s ideas happen more freely, and many of the best Amazon inventions have had their breakthroughmoments from people staying behind after a meeting and working through ideas on a whiteboard, orcontinuing the conversation on the walk back from a meeting, or just popping by a teammate’s office laterthat day with another thought. Invention is often messy. It wanders and meanders and marinates.Serendipitous interactions help it, and there are more of those in-person than virtually. It’s also significantlyeasier to learn, model, practice, and strengthen our culture when we’re in the office together most of thetime and surrounded by our colleagues. Innovation and our unique culture have been incredibly importantin our first 29 years as a company, and I expect it will be comparably so in the next 29.\\nA critical challenge we’ve continued to tackle is the rising cost to serve in our Stores fulfillment network (i.e.\\nthe cost to get a product from Amazon to a customer)—and we’ve made several changes that we believe will\\nmeaningfully improve our fulfillment costs and speed of delivery .\\nDuring the early part of the pandemic, with many physical stores shut down, our consumer business grew\\nat an extraordinary clip, with annual revenue increasing from $245B in 2019 to $434B in 2022. This meant thatwe had to double the fulfillment center footprint that we’d built over the prior 25 years and substantiallyaccelerate building a last-mile transportation network that’s now the size of UPS (along with a new sortationcenter network to assist with efficiency and speed when items needed to traverse long distances)—all in thespan of about two years. This was no easy feat, and hundreds of thousands of Amazonians worked very hardto make this happen. However, not surprisingly, with that rate and scale of change, there was a lot ofoptimization needed to yield the intended productivity. Over the last several months, we’ve scrutinized everyprocess path in our fulfillment centers and transportation network and redesigned scores of processes andmechanisms, resulting in steady productivity gains and cost reductions over the last few quarters. There’smore work to do, but we’re pleased with our trajectory and the meaningful upside in front of us.\\nWe also took this occasion to make larger structural changes that set us up better to deliver lower costs and\\nfaster speed for many years to come. A good example was reevaluating how our US fulfillment network wasorganized. Until recently, Amazon operated one national US fulfillment network that distributed inventoryfrom fulfillment centers spread across the entire country. If a local fulfillment center didn’t have the product acustomer ordered, we’d end up shipping it from other parts of the country, costing us more and increasingdelivery times. This challenge became more pronounced as our fulfillment network expanded to hundreds ofadditional nodes over the last few years, distributing inventory across more locations and increasing the\\ncomplexity of connecting the fulfillment center and delivery station nodes efficiently. Last year, we startedrearchitecting our inventory placement strategy and leveraging our larger fulfillment center footprint to movefrom a national fulfillment network to a regionalized network model. We made significant internal changes(e.g. placement and logistics software, processes, physical operations) to create eight interconnected regions insmaller geographic areas. Each of these regions has broad, relevant selection to operate in a largely self-sufficient way, while still being able to ship nationally when necessary. Some of the most meaningful and hard', metadata={'year': 2022, 'source': 'AMZN-2022-Shareholder-Letter.pdf'}), Document(page_content='work came from optimizing the connections between this large amount of infrastructure. We also continue\\nto improve our advanced machine learning algorithms to better predict what customers in various parts of thecountry will need so that we have the right inventory in the right regions at the right time. We’ve recentlycompleted this regional roll out and like the early results. Shorter travel distances mean lower cost to serve,less impact on the environment, and customers getting their orders faster. On the latter, we’re excited aboutseeing more next day and same-day deliveries, and we’re on track to have our fastest Prime delivery speedsever in 2023. Overall, we remain confident about our plans to lower costs, reduce delivery times, and build a\\nmeaningfully larger retail business with healthy operating margins.\\nAWS has an $85B annualized revenue run rate, is still early in its adoption curve, but at a juncture where it’s\\ncritical to stay focused on what matters most to customers over the long-haul . Despite growing 29% year-over-\\nyear (“Y oY”) in 2022 on a $62B revenue base, AWS faces short-term headwinds right now as companiesare being more cautious in spending given the challenging, current macroeconomic conditions. While somecompanies might obsess over how they could extract as much money from customers as possible in these tighttimes, it’s neither what customers want nor best for customers in the long term, so we’re taking a differenttack. One of the many advantages of AWS and cloud computing is that when your business grows, you canseamlessly scale up; and conversely, if your business contracts, you can choose to give us back that capacityand cease paying for it. This elasticity is unique to the cloud, and doesn’t exist when you’ve already madeexpensive capital investments in your own on-premises datacenters, servers, and networking gear. In AWS,like all our businesses, we’re not trying to optimize for any one quarter or year. We’re trying to build customerrelationships (and a business) that outlast all of us; and as a result, our AWS sales and support teams arespending much of their time helping customers optimize their AWS spend so they can better weather thisuncertain economy. Many of these AWS customers tell us that they’re not cost-cutting as much as cost-optimizing so they can take their resources and apply them to emerging and inventive new customerexperiences they’re planning. Customers have appreciated this customer-focused, long-term approach, andwe think it’ll bode well for both customers and AWS.\\nWhile these short-term headwinds soften our growth rate, we like a lot of the fundamentals that we’re seeing\\nin AWS. Our new customer pipeline is robust, as are our active migrations. Many companies usediscontinuous periods like this to step back and determine what they strategically want to change, and wefind an increasing number of enterprises opting out of managing their own infrastructure, and preferring tomove to AWS to enjoy the agility, innovation, cost-efficiency, and security benefits. And most importantlyfor customers, AWS continues to deliver new capabilities rapidly (over 3,300 new features and services launchedin 2022), and invest in long-term inventions that change what’s possible.\\nChip development is a good example. In last year’s letter, I mentioned the investment we were making in our\\ngeneral-purpose CPU processors named Graviton. Graviton2-based compute instances deliver up to 40%better price-performance than the comparable latest generation x86-based instances; and in 2022, we deliveredour Graviton3 chips, providing 25% better performance than the Graviton2 processors. Further, as machinelearning adoption has continued to accelerate, customers have yearned for lower-cost GPUs (the chipsmost commonly used for machine learning). AWS started investing years ago in these specialized chips formachine learning training and inference (inferences are the predictions or answers that a machine learningmodel provides). We delivered our first training chip in 2022 (“Trainium”); and for the most commonmachine learning models, Trainium-based instances are up to 140% faster than GPU-based instances at upto 70% lower cost. Most companies are still in the training stage, but as they develop models that graduate tolarge-scale production, they’ll find that most of the cost is in inference because models are trainedperiodically whereas inferences are happening all the time as their associated application is being exercised.We launched our first inference chips (“Inferentia”) in 2019, and they have saved companies like Amazon overa hundred million dollars in capital expense already. Our Inferentia2 chip, which just launched, offers upto four times higher throughput and ten times lower latency than our first Inferentia processor. With theenormous upcoming growth in machine learning, customers will be able to get a lot more done with AWS’straining and inference chips at a significantly lower cost. We’re not close to being done innovating here,and this long-term investment should prove fruitful for both customers and AWS. AWS is still in the earlystages of its evolution, and has a chance for unusual growth in the next decade.\\nSimilarly high potential, Amazon’s Advertising business is uniquely effective for brands, which is part of why it\\ncontinues to grow at a brisk clip . Akin to physical retailers’ advertising businesses selling shelf space, end-\\ncaps, and placement in their circulars, our sponsored products and brands offerings have been an integral part', metadata={'year': 2022, 'source': 'AMZN-2022-Shareholder-Letter.pdf'}), Document(page_content='of the Amazon shopping experience for more than a decade. However, unlike physical retailers, Amazon\\ncan tailor these sponsored products to be relevant to what customers are searching for given what we knowabout shopping behaviors and our very deep investment in machine learning algorithms. This leads toadvertising that’s more useful for customers; and as a result, performs better for brands. This is part of whyour Advertising revenue has continued to grow rapidly (23% Y oY in Q4 2022, 25% Y oY overall for 2022on a $31B revenue base), even as most large advertising-focused businesses’ growth have slowed over the lastseveral quarters.\\nWe strive to be the best place for advertisers to build their brands. We have near and long-term opportunities\\nthat will help us achieve that mission. We’re continuing to make large investments in machine learning tokeep honing our advertising selection algorithms. For the past couple of years, we’ve invested in buildingcomprehensive, flexible, and durable planning and measurement solutions, giving marketers greater insightinto advertising effectiveness. An example is Amazon Marketing Cloud (“AMC”). AMC is a “clean room”(i.e. secure digital environment) in which advertisers can run custom audience and campaign analyticsacross a range of first and third-party inputs, in a privacy-safe manner, to generate advertising and businessinsights to inform their broader marketing and sales strategies. The Advertising and AWS teams havecollaborated to enable companies to store their data in AWS, operate securely in AMC with Amazon andother third-party data sources, perform analytics in AWS, and have the option to activate advertising onAmazon or third-party publishers through the Amazon Demand-Side Platform. Customers really like thisconcerted capability. We also see future opportunity to thoughtfully integrate advertising into our video,live sports, audio, and grocery products. We’ll continue to work hard to help brands uniquely engage withthe right audience, and grow this part of our business.\\nWhile it’s tempting in turbulent times only to focus on your existing large businesses, to build a sustainable,\\nlong-lasting, growing company that helps customers across a large number of dimensions, you can’t stop\\ninventing and working on long-term customer experiences that can meaningfully impact customers andyour company.\\nWhen we look at new investment opportunities, we ask ourselves a few questions:\\n◦If we were successful, could it be big and have a reasonable return on invested capital?\\n◦Is the opportunity being well-served today?\\n◦Do we have a differentiated approach?\\n◦And, do we have competence in that area? And if not, can we acquire it quickly?\\nIf we like the answers to those questions, then we’ll invest. This process has led to some expansions that\\nseem straightforward, and others that some folks might not have initially guessed.\\nThe earliest example is when we chose to expand from just selling Books , to adding categories like Music,\\nVideo, Electronics, and Toys. Back then (1998-1999), it wasn’t universally applauded, but in retrospect, itseems fairly obvious.\\nThe same could be said for our international Stores expansion . In 2022, our international consumer segment\\ndrove $118B of revenue. In our larger, established international consumer businesses, we’re big enough tobe impacted by the slowing macroeconomic conditions; however, the growth in 2019-2021 on a large base wasremarkable—30% compound annual growth rate (“CAGR”) in the UK, 26% in Germany, and 21% inJapan (excluding the impact of FX). Over the past several years, we’ve invested in new internationalgeographies, including India, Brazil, Mexico, Australia, various European countries, the Middle East, andparts of Africa. These new countries take a certain amount of fixed investment to get started and to scale, butwe like the trajectory they’re on, and their growth patterns resemble what we’ve seen in North Americaand our established international geographies. Emerging countries sometimes lack some of the infrastructureand services that our business relies on (e.g. payment methods, transportation services, and internet/telecom infrastructure). To solve these challenges, we continue to work with various partners to deliversolutions for customers. Ultimately, we believe that this investment in serving a broader geographical footprintwill allow us to help more customers across the world, as well as build a larger free cash flow-generatingconsumer business.', metadata={'year': 2022, 'source': 'AMZN-2022-Shareholder-Letter.pdf'}), Document(page_content='Beyond geographic expansion, we’ve been working to expand our customer offerings across some large,\\nunique product retail market segments. Grocery is an $800B market segment in the US alone, with the average\\nhousehold shopping three to four times per week. Amazon has built a somewhat unusual, but significantgrocery business over nearly 20 years. Similar to how other mass merchants entered the grocery space in the1980s, we began by adding products typically found in supermarket aisles that don’t require temperaturecontrol such as paper products, canned and boxed food, candy and snacks, pet care, health and personal care,and beauty. However, we offer more than three million items compared to a typical supermarket’s 30K forthe same categories. To date, we’ve also focused on larger pack sizes, given the current cost to serve onlinedelivery. While we’re pleased with the size and growth of our grocery business, we aspire to serve more ofour customers’ grocery needs than we do today. To do so, we need a broader physical store footprint given thatmost of the grocery shopping still happens in physical venues. Whole Foods Market pioneered the naturaland organic specialty grocery store concept 40 years ago. Today, it’s a large and growing business that continuesto raise the bar for healthy and sustainable food. Over the past year, we’ve continued to invest in thebusiness while also making changes to drive better profitability. Whole Foods is on an encouraging path,but to have a larger impact on physical grocery, we must find a mass grocery format that we believe is worthexpanding broadly. Amazon Fresh is the brand we’ve been experimenting with for a few years, and we’reworking hard to identify and build the right mass grocery format for Amazon scale. Grocery is a big growthopportunity for Amazon.\\nAmazon Business is another example of an investment where our ecommerce and logistics capabilities\\nposition us well to pursue this large market segment. Amazon Business allows businesses, municipalities,and organizations to procure products like office supplies and other bulk items easily and at great savings.While some areas of the economy have struggled over the past few years, Amazon Business has thrived. Why?Because the team has translated what it means to deliver selection, value, and convenience into a businessprocurement setting, constantly listening to and learning from customers, and innovating on their behalf.Some people have never heard of Amazon Business, but, our business customers love it. Amazon Businesslaunched in 2015 and today drives roughly $35B in annualized gross sales. More than six million activecustomers, including 96 of the global Fortune 100 companies, are enjoying Amazon Business’ one-stopshopping, real-time analytics, and broad selection on hundreds of millions of business supplies. We believethat we’ve only scratched the surface of what’s possible to date, and plan to keep building the features ourbusiness customers tell us they need and want.\\nWhile many brands and merchants successfully sell their products on Amazon’s marketplace, there are also\\na large number of brands and sellers who have launched their own direct-to-consumer websites. One of thechallenges for these merchants is driving conversion from views to purchases. We invented Buy with Prime\\nto help with this challenge. Buy with Prime allows third-party brands and sellers to offer their products ontheir own websites to our large Amazon Prime membership, and offer those customers fast, free Prime shippingand seamless checkout with their Amazon account. Buy with Prime provides merchants several additionalbenefits, including Amazon handling the product storage, picking, packing, delivery, payment, and anyreturns, all through Amazon Pay and Fulfillment by Amazon. Buy with Prime has recently been madeavailable to all US merchants; and so far, Buy with Prime has increased shopper conversion on third-partyshopping sites by 25% on average. Merchants are excited about converting more sales and fulfilling theseshipments more easily, Prime members love that they can use their Prime benefits on more destinations,and Buy with Prime allows us to improve the shopping experience across more of the web.\\nExpanding internationally, pursuing large retail market segments that are still nascent for Amazon, and\\nusing our unique assets to help merchants sell more effectively on their own websites are somewhat naturalextensions for us. There are also a few investments we’re making that are further from our core businesses, butwhere we see unique opportunity. In 2003, AWS would have been a classic example. In 2023, AmazonHealthcare and Kuiper are potential analogues.\\nOur initial efforts in Healthcare began with pharmacy, which felt less like a major departure from ecommerce.\\nFor years, Amazon customers had asked us when we’d offer them an online pharmacy as their frustrationsmounted with current providers. Launched in 2020, Amazon Pharmacy is a full-service, online pharmacy thatoffers transparent pricing, easy refills, and savings for Prime members. The business is growing quickly,and continues to innovate. An example is Amazon Pharmacy’s recent launch of RxPass, which for a $5 per', metadata={'year': 2022, 'source': 'AMZN-2022-Shareholder-Letter.pdf'}), Document(page_content='month flat fee, enables Prime members to get as many of the eligible prescription medications as they need\\nfor dozens of common conditions, like high blood pressure, acid reflux, and anxiety. However, our customershave continued to express a strong desire for Amazon to provide a better alternative to the inefficient andunsatisfying broader healthcare experience. We decided to start with primary care as it’s a prevalent first stopin the patient journey. We evaluated and studied the existing landscape extensively, including some early\\nAmazon experiments like Amazon Care. During this process, we identified One Medical’s patient-focusedexperience as an excellent foundation upon which to build our future business; and in July 2022, we announcedour acquisition of One Medical. There are several elements that customers love about One Medical. It hasa fantastic digital app that makes it easy for patients to discuss issues with a medical practitioner via chat orvideo conference. If a physical visit is required, One Medical has offices in cities across the US wherepatients can book same or next day appointments. One Medical has relationships with specialty physiciansin each of its cities and works closely with local hospital systems to make seeing specialists easy, so OneMedical members can quickly access these resources when needed. Going forward, we strongly believethat One Medical and Amazon will continue to innovate together to change what primary care will look likefor customers.\\nKuiper is another example of Amazon innovating for customers over the long term in an area where there’s\\nhigh customer need. Our vision for Kuiper is to create a low-Earth orbit satellite system to deliver high-qualitybroadband internet service to places around the world that don’t currently have it. There are hundreds ofmillions of households and businesses who don’t have reliable access to the internet. Imagine what they’ll beable to do with reliable connectivity, from people taking online education courses, using financial services,starting their own businesses, doing their shopping, enjoying entertainment, to businesses and governmentsimproving their coverage, efficiency, and operations. Kuiper will deliver not only accessibility, butaffordability. Our teams have developed low-cost antennas (i.e. customer terminals) that will lower thebarriers to access. We recently unveiled the new terminals that will communicate with the satellites passingoverhead, and we expect to be able to produce our standard residential version for less than $400 each. They’resmall: 11 inches square, 1 inch thick, and weigh less than 5 pounds without their mounting bracket, butthey deliver speeds up to 400 megabits per second. And they’re powered by Amazon-designed baseband chips.We’re preparing to launch two prototype satellites to test the entire end-to-end communications networkthis year, and plan to be in beta with commercial customers in 2024. The customer reaction to what we’veshared thus far about Kuiper has been very positive, and we believe Kuiper represents a very large potentialopportunity for Amazon. It also shares several similarities to AWS in that it’s capital intensive at the start,but has a large prospective consumer, enterprise, and government customer base, significant revenue andoperating profit potential, and relatively few companies with the technical and inventive aptitude, as well asthe investment hypothesis to go after it.\\nOne final investment area that I’ll mention, that’s core to setting Amazon up to invent in every area of our\\nbusiness for many decades to come, and where we’re investing heavily is Large Language Models (“LLMs”)\\nand Generative AI . Machine learning has been a technology with high promise for several decades, but it’s\\nonly been the last five to ten years that it’s started to be used more pervasively by companies. This shift wasdriven by several factors, including access to higher volumes of compute capacity at lower prices than was everavailable. Amazon has been using machine learning extensively for 25 years, employing it in everythingfrom personalized ecommerce recommendations, to fulfillment center pick paths, to drones for Prime Air,to Alexa, to the many machine learning services AWS offers (where AWS has the broadest machine learningfunctionality and customer base of any cloud provider). More recently, a newer form of machine learning,called Generative AI, has burst onto the scene and promises to significantly accelerate machine learningadoption. Generative AI is based on very Large Language Models (trained on up to hundreds of billionsof parameters, and growing), across expansive datasets, and has radically general and broad recall andlearning capabilities. We have been working on our own LLMs for a while now, believe it will transform andimprove virtually every customer experience, and will continue to invest substantially in these modelsacross all of our consumer, seller, brand, and creator experiences. Additionally, as we’ve done for years inAWS, we’re democratizing this technology so companies of all sizes can leverage Generative AI. AWS isoffering the most price-performant machine learning chips in Trainium and Inferentia so small and largecompanies can afford to train and run their LLMs in production. We enable companies to choose fromvarious LLMs and build applications with all of the AWS security, privacy and other features that customersare accustomed to using. And, we’re delivering applications like AWS’s CodeWhisperer, which revolutionizes', metadata={'year': 2022, 'source': 'AMZN-2022-Shareholder-Letter.pdf'}), Document(page_content='developer productivity by generating code suggestions in real time. I could write an entire letter on LLMs\\nand Generative AI as I think they will be that transformative, but I’ll leave that for a future letter. Let’s justsay that LLMs and Generative AI are going to be a big deal for customers, our shareholders, and Amazon.\\nSo, in closing, I’m optimistic that we’ll emerge from this challenging macroeconomic time in a stronger\\nposition than when we entered it. There are several reasons for it and I’ve mentioned many of them above.But, there are two relatively simple statistics that underline our immense future opportunity. While we have aconsumer business that’s $434B in 2022, the vast majority of total market segment share in global retailstill resides in physical stores (roughly 80%). And, it’s a similar story for Global IT spending, where we haveAWS revenue of $80B in 2022, with about 90% of Global IT spending still on-premises and yet to migrateto the cloud. As these equations steadily flip—as we’re already seeing happen—we believe our leading customerexperiences, relentless invention, customer focus, and hard work will result in significant growth in thecoming years. And, of course, this doesn’t include the other businesses and experiences we’re pursuing atAmazon, all of which are still in their early days.\\nI strongly believe that our best days are in front of us, and I look forward to working with my teammates at\\nAmazon to make it so.\\nSincerely,\\nAndy Jassy\\nPresident and Chief Executive OfficerAmazon.com, Inc.\\nP .S. As we have always done, our original 1997 Shareholder Letter follows. What’s written there is as true\\ntoday as it was in 1997.', metadata={'year': 2022, 'source': 'AMZN-2022-Shareholder-Letter.pdf'}), Document(page_content='1997 LETTER TO SHAREHOLDERS\\n(Reprinted from the 1997 Annual Report)\\nTo our shareholders:\\nAmazon.com passed many milestones in 1997: by year-end, we had served more than 1.5 million customers,\\nyielding 838% revenue growth to $147.8 million, and extended our market leadership despite aggressivecompetitive entry.\\nBut this is Day 1 for the Internet and, if we execute well, for Amazon.com. Today, online commerce saves\\ncustomers money and precious time. Tomorrow, through personalization, online commerce will accelerate thevery process of discovery. Amazon.com uses the Internet to create real value for its customers and, by doing so,hopes to create an enduring franchise, even in established and large markets.\\nWe have a window of opportunity as larger players marshal the resources to pursue the online opportunity\\nand as customers, new to purchasing online, are receptive to forming new relationships. The competitivelandscape has continued to evolve at a fast pace. Many large players have moved online with credible offeringsand have devoted substantial energy and resources to building awareness, traffic, and sales. Our goal is to movequickly to solidify and extend our current position while we begin to pursue the online commerce opportunitiesin other areas. We see substantial opportunity in the large markets we are targeting. This strategy is not withoutrisk: it requires serious investment and crisp execution against established franchise leaders.\\nIt’s All About the Long Term\\nWe believe that a fundamental measure of our success will be the shareholder value we create over the long\\nterm. This value will be a direct result of our ability to extend and solidify our current market leadership position.\\nThe stronger our market leadership, the more powerful our economic model. Market leadership can translatedirectly to higher revenue, higher profitability, greater capital velocity, and correspondingly stronger returns oninvested capital.\\nOur decisions have consistently reflected this focus. We first measure ourselves in terms of the metrics most\\nindicative of our market leadership: customer and revenue growth, the degree to which our customers continue topurchase from us on a repeat basis, and the strength of our brand. We have invested and will continue to investaggressively to expand and leverage our customer base, brand, and infrastructure as we move to establish anenduring franchise.\\nBecause of our emphasis on the long term, we may make decisions and weigh tradeoffs differently than\\nsome companies. Accordingly, we want to share with you our fundamental management and decision-makingapproach so that you, our shareholders, may confirm that it is consistent with your investment philosophy:\\n• We will continue to focus relentlessly on our customers.• We will continue to make investment decisions in light of long-term market leadership considerations\\nrather than short-term profitability considerations or short-term Wall Street reactions.\\n• We will continue to measure our programs and the effectiveness of our investments analytically, to\\njettison those that do not provide acceptable returns, and to step up our investment in those that workbest. We will continue to learn from both our successes and our failures.', metadata={'year': 2022, 'source': 'AMZN-2022-Shareholder-Letter.pdf'}), Document(page_content='• We will make bold rather than timid investment decisions where we see a sufficient probability of\\ngaining market leadership advantages. Some of these investments will pay off, others will not, and wewill have learned another valuable lesson in either case.\\n• When forced to choose between optimizing the appearance of our GAAP accounting and maximizing\\nthe present value of future cash flows, we’ll take the cash flows.\\n• We will share our strategic thought processes with you when we make bold choices (to the extent\\ncompetitive pressures allow), so that you may evaluate for yourselves whether we are making rationallong-term leadership investments.\\n• We will work hard to spend wisely and maintain our lean culture. We understand the importance of\\ncontinually reinforcing a cost-conscious culture, particularly in a business incurring net losses.\\n• We will balance our focus on growth with emphasis on long-term profitability and capital management.\\nAt this stage, we choose to prioritize growth because we believe that scale is central to achieving thepotential of our business model.\\n• We will continue to focus on hiring and retaining versatile and talented employees, and continue to\\nweight their compensation to stock options rather than cash. We know our success will be largelyaffected by our ability to attract and retain a motivated employee base, each of whom must think like,and therefore must actually be, an owner.\\nWe aren’t so bold as to claim that the above is the “right” investment philosophy, but it’s ours, and we\\nwould be remiss if we weren’t clear in the approach we have taken and will continue to take.\\nWith this foundation, we would like to turn to a review of our business focus, our progress in 1997, and our\\noutlook for the future.\\nObsess Over Customers\\nFrom the beginning, our focus has been on offering our customers compelling value. We realized that the\\nWeb was, and still is, the World Wide Wait. Therefore, we set out to offer customers something they simplycould not get any other way, and began serving them with books. We brought them much more selection thanwas possible in a physical store (our store would now occupy 6 football fields), and presented it in a useful, easy-to-search, and easy-to-browse format in a store open 365 days a year, 24 hours a day. We maintained a doggedfocus on improving the shopping experience, and in 1997 substantially enhanced our store. We now offercustomers gift certificates, 1-Click\\nSMshopping, and vastly more reviews, content, browsing options, and\\nrecommendation features. We dramatically lowered prices, further increasing customer value. Word of mouthremains the most powerful customer acquisition tool we have, and we are grateful for the trust our customershave placed in us. Repeat purchases and word of mouth have combined to make Amazon.com the market leaderin online bookselling.\\nBy many measures, Amazon.com came a long way in 1997:\\n• Sales grew from $15.7 million in 1996 to $147.8 million – an 838% increase.• Cumulative customer accounts grew from 180,000 to 1,510,000 – a 738% increase.• The percentage of orders from repeat customers grew from over 46% in the fourth quarter of 1996 to\\nover 58% in the same period in 1997.\\n• In terms of audience reach, per Media Metrix, our Web site went from a rank of 90th to within the\\ntop 20.\\n• We established long-term relationships with many important strategic partners, including America\\nOnline, Yahoo!, Excite, Netscape, GeoCities, AltaVista, @Home, and Prodigy.', metadata={'year': 2022, 'source': 'AMZN-2022-Shareholder-Letter.pdf'}), Document(page_content='Infrastructure\\nDuring 1997, we worked hard to expand our business infrastructure to support these greatly increased\\ntraffic, sales, and service levels:\\n• Amazon.com’s employee base grew from 158 to 614, and we significantly strengthened our\\nmanagement team.\\n• Distribution center capacity grew from 50,000 to 285,000 square feet, including a 70% expansion of our\\nSeattle facilities and the launch of our second distribution center in Delaware in November.\\n• Inventories rose to over 200,000 titles at year-end, enabling us to improve availability for our customers.• Our cash and investment balances at year-end were $125 million, thanks to our initial public offering in\\nMay 1997 and our $75 million loan, affording us substantial strategic flexibility.\\nOur Employees\\nThe past year’s success is the product of a talented, smart, hard-working group, and I take great pride in\\nbeing a part of this team. Setting the bar high in our approach to hiring has been, and will continue to be, thesingle most important element of Amazon.com’s success.\\nIt’s not easy to work here (when I interview people I tell them, “Y ou can work long, hard, or smart, but at\\nAmazon.com you can’t choose two out of three”), but we are working to build something important, somethingthat matters to our customers, something that we can all tell our grandchildren about. Such things aren’t meant tobe easy. We are incredibly fortunate to have this group of dedicated employees whose sacrifices and passionbuild Amazon.com.\\nGoals for 1998\\nWe are still in the early stages of learning how to bring new value to our customers through Internet\\ncommerce and merchandising. Our goal remains to continue to solidify and extend our brand and customer base.This requires sustained investment in systems and infrastructure to support outstanding customer convenience,selection, and service while we grow. We are planning to add music to our product offering, and over time webelieve that other products may be prudent investments. We also believe there are significant opportunities tobetter serve our customers overseas, such as reducing delivery times and better tailoring the customer experience.To be certain, a big part of the challenge for us will lie not in finding new ways to expand our business, but inprioritizing our investments.\\nWe now know vastly more about online commerce than when Amazon.com was founded, but we still have\\nso much to learn. Though we are optimistic, we must remain vigilant and maintain a sense of urgency. Thechallenges and hurdles we will face to make our long-term vision for Amazon.com a reality are several:aggressive, capable, well-funded competition; considerable growth challenges and execution risk; the risks ofproduct and geographic expansion; and the need for large continuing investments to meet an expanding marketopportunity. However, as we’ve long said, online bookselling, and online commerce in general, should prove tobe a very large market, and it’s likely that a number of companies will see significant benefit. We feel good aboutwhat we’ve done, and even more excited about what we want to do.\\n1997 was indeed an incredible year. We at Amazon.com are grateful to our customers for their business and\\ntrust, to each other for our hard work, and to our shareholders for their support and encouragement.\\nJeffrey P . BezosFounder and Chief Executive OfficerAmazon.com, Inc.', metadata={'year': 2022, 'source': 'AMZN-2022-Shareholder-Letter.pdf'})]\n",
            "\n",
            "9 [Document(page_content='Dear shareholders:\\nOver the past 25 years at Amazon, I’ve had the opportunity to write many narratives, emails, letters, and\\nkeynotes for employees, customers, and partners. But, this is the first time I’ve had the honor of writing ourannual shareholder letter as CEO of Amazon. Jeff set the bar high on these letters, and I will try to keepthem worth reading.\\nWhen the pandemic started in early 2020, few people thought it would be as expansive or long-running as\\nit’s been. Whatever role Amazon played in the world up to that point became further magnified as mostphysical venues shut down for long periods of time and people spent their days at home. This meant thathundreds of millions of people relied on Amazon for PPE, food, clothing, and various other items thathelped them navigate this unprecedented time. Businesses and governments also had to shift, practicallyovernight, from working with colleagues and technology on-premises to working remotely. AWS played amajor role in enabling this business continuity. Whether companies saw extraordinary demand spikes, ordemand diminish quickly with reduced external consumption, the cloud’s elasticity to scale capacity up anddown quickly, as well as AWS’s unusually broad functionality helped millions of companies adjust to thesedifficult circumstances.\\nOur AWS and Consumer businesses have had different demand trajectories during the pandemic. In the\\nfirst year of the pandemic, AWS revenue continued to grow at a rapid clip—30% year over year (“Y oY”) in2020 on a $35 billion annual revenue base in 2019—but slower than the 37% Y oY growth in 2019. Thiswas due in part to the uncertainty and slowing demand that so many businesses encountered, but also inpart to our helping companies optimize their AWS footprint to save money. Concurrently, companies werestepping back and determining what they wanted to change coming out of the pandemic. Many concludedthat they didn’t want to continue managing their technology infrastructure themselves, and made thedecision to accelerate their move to the cloud. This shift by so many companies (along with the economyrecovering) helped re-accelerate AWS’s revenue growth to 37% Y oY in 2021.\\nConversely, our Consumer revenue grew dramatically in 2020. In 2020, Amazon’s North America and\\nInternational Consumer revenue grew 39% Y oY on the very large 2019 revenue base of $245 billion; and,this extraordinary growth extended into 2021 with revenue increasing 43% Y oY in Q1 2021. These areastounding numbers. We realized the equivalent of three years’ forecasted growth in about 15 months.\\nAs the world opened up again starting in late Q2 2021, and more people ventured out to eat, shop, and travel,\\nconsumer spending returned to being spread over many more entities. We weren’t sure what to expect in2021, but the fact that we continued to grow at double digit rates (with a two-year Consumer compoundedannual growth rate of 29%) was encouraging as customers appreciated the role Amazon played for themduring the pandemic, and started using Amazon for a larger amount of their household purchases.\\nThis growth also created short-term logistics and cost challenges. We spent Amazon’s first 25 years building\\na very large fulfillment network, and then had to double it in the last 24 months to meet customer demand.As we were bringing this new capacity online, the labor market tightened considerably, making it challengingboth to receive all of the inventory our vendors and sellers wanted to send us and to place that inventoryas close to customers as we typically do. Combined with ocean, air, and trucking capacity becoming scarcerand more expensive, this created extra transportation and productivity costs. Supply chains were disruptedin ways none of us had seen previously. We hoped that the major impact from COVID-19 would recede as2021 drew to a close, but then omicron reared its head in December, which had worldwide ramifications,including impacting people’s ability to work. And then in late February, with Russia’s invasion of Ukraine,fuel costs and inflation became bigger issues with which to contend.\\nSo, 2021 was a crazy and unpredictable year, continuing a trend from 2020. But, I’m proud of the incredible\\ncommitment and effort from our employees all over the world. I’m not sure any of us would have gotten', metadata={'year': 2021, 'source': 'AMZN-2021-Shareholder-Letter.pdf'}), Document(page_content='through the pandemic the same way without the dedication and extraordinary efforts shown by our teams\\nduring this period, and I’m eternally grateful.\\nIt’s not normal for a company of any size to be able to respond to something as discontinuous and\\nunpredictable as this pandemic turned out to be. What is it about Amazon that made it possible for us to doso? It’s because we weren’t starting from a standing start. We had been iterating on and remaking ourfulfillment capabilities for nearly two decades. In every business we pursue, we’re constantly experimentingand inventing. We’re divinely discontented with customer experiences, whether they’re our own or not. Webelieve these customer experiences can always be better, and we strive to make customers’ lives better andeasier every day. The beauty of this mission is that you never run out of runway; customers always want better,and our job is both to listen to their feedback and to imagine what else is possible and invent on theirbehalf.\\nPeople often assume that the game-changing inventions they admire just pop out of somebody’s head, a\\nlight bulb goes off, a team executes to that idea, and presto—you have a new invention that’s a breakawaysuccess for a long time. That’s rarely, if ever, how it happens. One of the lesser known facts about innovativecompanies like Amazon is that they are relentlessly debating, re-defining, tinkering, iterating, andexperimenting to take the seed of a big idea and make it into something that resonates with customers andmeaningfully changes their customer experience over a long period of time.\\nLet me give you some Amazon examples.Our Fulfillment Network : Going back to the pandemic, there’s no way we could have started working on\\nour fulfillment network in March 2020 and satisfied anything close to what our customers needed. We’d beeninnovating in our fulfillment network for 20 years, constantly trying to shorten the time to get items to\\ncustomers. In the early 2000s, it took us an average of 18 hours to get an item through our fulfillment centersand on the right truck for shipment. Now, it takes us two. To deliver as reliably and cost-effectively as wedesire, and to serve Amazon Prime members expecting shipments in a couple of days, we spent years buildingout an expansive set of fulfillment centers, a substantial logistics and transportation capability, andreconfigured how we did virtually everything in our facilities. For perspective, in 2004, we had sevenfulfillment centers in the U.S. and four in other parts of the world, and we hadn’t yet added delivery stations,which connect our fulfillment and sortation centers to the last-mile delivery vans you see driving aroundyour neighborhood. Fast forward to the end of 2021, we had 253 fulfillment centers, 110 sortation centers,and 467 delivery stations in North America, with an additional 157 fulfillment centers, 58 sortation centers,and 588 delivery stations across the globe. Our delivery network grew to more than 260,000 driversworldwide, and our Amazon Air cargo fleet has more than 100 aircraft. This has represented a capitalinvestment of over $100 billion and countless iterations and small process improvements by over a millionAmazonians in the last decade and a half.\\nIronically, just before COVID started, we’d made the decision to invest billions of incremental dollars over\\nseveral years to deliver an increasing number of Prime shipments in one day. This initiative was slowed by thechallenges of the pandemic, but we’ve since resumed our focus here. Delivering a substantial amount ofshipments in one day is hard (especially across the millions of items that we offer) and initially expensive aswe build out the infrastructure to scale this efficiently. But, we believe our over 200 million Prime customers,who will tell you very clearly that faster is almost always better, will love this. So, this capability to shipmillions of items within a couple days (and increasingly one day) was not from one aha moment and notdeveloped in a year or two. It’s been hard-earned by putting ourselves in the shoes of our customers, knowingwhat they wanted, organizing Amazonians to work together to invent better solutions, and investing alarge amount of financial and people resources over 20 years (often well in advance of when it would payout). This type of iterative innovation is never finished and has periodic peaks in investment years, but leadsto better long-term customer experiences, customer loyalty, and returns for our shareholders.\\nAWS : As we were defining AWS and working backwards on the services we thought customers wanted, we\\nkept triggering one of the biggest tensions in product development—where to draw the line on functionality inV1. One early meeting in particular—for our core compute service called Elastic Compute Cloud (“EC2”)—was scheduled for an hour, and took three, as we animatedly debated whether we could launch a computeservice without an accompanying persistent block storage companion (a form of network attached storage).', metadata={'year': 2021, 'source': 'AMZN-2021-Shareholder-Letter.pdf'}), Document(page_content='Everybody agreed that having a persistent block store was important to a complete compute service;\\nhowever, to have one ready would take an extra year. The question became could we offer customers auseful service where they could get meaningful value before we had all the features we thought they wanted?We decided that the initial launch of EC2 could be feature-poor if we also organized ourselves to listen tocustomers and iterate quickly. This approach works well if you indeed iterate quickly; but, is disastrous if youcan’t. We launched EC2 in 2006 with one instance size, in one data center, in one region of the world, withLinux operating system instances only (no Windows), without monitoring, load balancing, auto-scaling, oryes, persistent storage. EC2 was an initial success, but nowhere near the multi-billion-dollar service it’sbecome until we added the missing capabilities listed above, and then some.\\nIn the early days of AWS, people sometimes asked us why compute wouldn’t just be an undifferentiated\\ncommodity. But, there’s a lot more to compute than just a server. Customers want various flavors of compute(e.g. server configurations optimized for storage, memory, high-performance compute, graphics rendering,machine learning), multiple form factors (e.g. fixed instance sizes, portable containers, serverless functions),various sizes and optimizations of persistent storage, and a slew of networking capabilities. Then, there’sthe CPU chip that runs in your compute. For many years, the industry had used Intel or AMD x86 processors.We have important partnerships with these companies, but realized that if we wanted to push price andperformance further (as customers requested), we’d have to develop our own chips, too. Our first generalizedchip was Graviton, which we announced in 2018. This helped a subset of customer workloads run morecost-effectively than prior options. But, it wasn’t until 2020, after taking the learnings from Graviton and\\ninnovating on a new chip, that we had something remarkable with our Graviton2 chip, which provides up to40% better price-performance than the comparable latest generation x86 processors. Think about howmuch of an impact 40% improvement on compute is. Compute is used for every bit of technology. That’s ahuge deal for customers. And, while Graviton2 has been a significant success thus far (48 of the top 50 AWSEC2 customers have already adopted it), the AWS Chips team was already learning from what customerssaid could be better, and announced Graviton3 this past December (offering a 25% improvement on top ofGraviton2’s relative gains). The list of what we’ve invented and delivered for customers in EC2 (and AWS ingeneral) is pretty mind-boggling, and this iterative approach to innovation has not only given customersmuch more functionality in AWS than they can find anywhere else (which is a significant differentiator), butalso allowed us to arrive at the much more game-changing offering that AWS is today.\\nDevices : Our first foray into devices was the Kindle, released in 2007. It was not the most sophisticated\\nindustrial design (it was creamy white in color and the corners were uncomfortable for some people to hold),but revolutionary because it offered customers the ability to download any of over 90,000 books (nowmillions) in 60 seconds—and we got better and faster at building attractive designs. Shortly thereafter, welaunched a tablet, and then a phone (with the distinguishing feature of having front-facing cameras and agyroscope to give customers a dynamic perspective along with varied 3D experiences). The phone wasunsuccessful, and though we determined we were probably too late to this party and directed these resourceselsewhere, we hired some fantastic long-term builders and learned valuable lessons from this failure thathave served us well in devices like Echo and FireTV .\\nWhen I think of the first Echo device—and what Alexa could do for customers at that point—it was\\nnoteworthy, yet so much less capable than what’s possible today. Today, there are hundreds of millions ofAlexa-enabled devices out there (in homes, offices, cars, hotel rooms, Amazon Echo devices, and third-partymanufacturer devices); you can listen to music—or watch videos now; you can control your lights andhome automation; you can create routines like “Start My Day” where Alexa tells you the weather, yourestimated commute time based on current traffic, then plays the news; you can easily order retail items onAmazon; you can get general or customized news, updates on sporting events and related stats—and we’re stillquite early with respect to what Alexa and Alexa-related devices will do for customers. Our goal is forAlexa to be the world’s most helpful and resourceful personal assistant, who makes people’s lives meaningfullyeasier and better. We have a lot more inventing and iterating to go, but customers continue to indicate thatwe’re on the right path. We have several other devices at varying stages of evolution (e.g. Ring and Blinkprovide the leading digital home security solutions, Astro is a brand new home robot that we just launchedin late 2021), but it’s safe to say that every one of our devices, whether you’re talking about Kindle, FireTV,Alexa/Echo, Ring, Blink, or Astro is an invention-in-process with a lot more coming that will keepimproving customers’ lives.', metadata={'year': 2021, 'source': 'AMZN-2021-Shareholder-Letter.pdf'}), Document(page_content='Prime Video : We started in 2006 with an offering called Amazon Unbox where customers could download\\nabout a thousand movies from major studios. This made sense as bandwidth was slower those days (it wouldtake an hour to download a video). But, as bandwidth got much faster to people’s homes and mobiledevices, along with the advent of connected TVs, streaming was going to be a much better customer solution,and we focused our efforts on streaming. In 2011, we started offering over 5,000 streaming movies andshows as part of customers’ Amazon Prime subscriptions. Initially, all of our content was produced by otherstudios and entertainment companies. These deals were expensive, country-specific, and only available tous for a limited period; so, to expand our options, we started creating our own original shows. Our early effortsincluded short-lived shows like Alpha House andBetas , before we had our first award-winning series in\\nTransparent , and eventually created multi-year franchises in The Marvelous Mrs. Maisel ,The Boys ,Bosch ,\\nandJack Ryan . Along the way, we’ve learned a lot about producing compelling entertainment with memorable\\nmoments and using machine learning and other inventive technology to provide a superior-quality streamingexperience (with useful, relevant data about actors, TV shows, movies, music, or sports stats a click awayin our unique X-Ray feature). Y ou might have seen some of this in action in our recent new hit series, Reacher ,\\nand you’ll hopefully see it in our upcoming Lord of the Rings series launch (coming Labor Day 2022). Wealso expect that you’ll see this iterative invention when we launch Thursday Night Football , the NFL’s first\\nweekly, prime time, streaming-only broadcast, airing exclusively on Prime Video starting in September2022. Our agreement with the NFL is for 11 years, and we will work relentlessly over the next several yearsto reinvent the NFL viewing experience for football fans.\\nThis track record of frequent invention is not only why more sports entities are choosing to work with\\nPrime Video, but also why so many large entertainment companies have become Prime Video Channelspartners. Channels is a program that enables entertainment companies to leverage Prime Video’s uniquetechnology and viewing experience, as well as its very large member base to offer monthly subscriptions totheir content. Companies like Warner Bros. Discovery, Paramount, Starz, Corus Entertainment, and Globohave found that they’re driving substantial incremental membership and better customer experiencethrough Channels. While there is so much progress in Prime Video from where we started, we have moreinvention in front of us in the next 15 years than the last 15—and our team is passionately committed toproviding customers with the most expansive collection of compelling content anywhere in the world.\\nThis same sort of iterative invention can be applied to efforts supporting people and communities. Last\\nsummer, we added two new Leadership Principles: Strive to be Earth’s Best Employer andSuccess and Scale\\nBring Broad Responsibility . These concepts were always implicit at Amazon, but explicit Leadership\\nPrinciples help us ask ourselves—and empower more Amazonians at all levels to ask—whether we’re livingup to these principles.\\nFor example, more than a million Amazonians work in our fulfillment network. In 2018, we championed\\nthe $15 minimum wage (which is more than double the federal minimum wage), but haven’t stopped there. Wecontinued to increase compensation such that our average starting hourly salary is currently over $18.Along with this compensation, we offer very robust benefits, including full health insurance, a 401K plan,up to 20 weeks of parental leave, and full tuition coverage for associates who want to get a college education(whether they remain with us or not). We’re not close to being done in how we improve the lives of ouremployees. We’ve researched and created a list of what we believe are the top 100 employee experience painpoints and are systematically solving them. We’re also passionate about further improving safety in ourfulfillment network, with a focus on reducing strains, sprains, falls, and repetitive stress injuries. Our injuryrates are sometimes misunderstood. We have operations jobs that fit both the “warehousing” and “courierand delivery” categories. In the last U.S. public numbers, our recordable incident rates were a little higherthan the average of our warehousing peers (6.4 vs. 5.5), and a little lower than the average of our courier anddelivery peers (7.6 vs. 9.1). This makes us about average relative to peers, but we don’t seek to be average.We want to be best in class. When I first started in my new role, I spent significant time in our fulfillmentcenters and with our safety team, and hoped there might be a silver bullet that could change the numbersquickly. I didn’t find that. At our scale (we hired over 300,000 people in 2021 alone, many of whom were newto this sort of work and needed training), it takes rigorous analysis, thoughtful problem-solving, and awillingness to invent to get to where you want. We’ve been dissecting every process path to discern how wecan further improve. We have a variety of programs in flight (e.g. rotational programs that help employeesavoid spending too much time doing the same repetitive motions, wearables that prompt employees when', metadata={'year': 2021, 'source': 'AMZN-2021-Shareholder-Letter.pdf'}), Document(page_content='they’re moving in a dangerous way, improved shoes to provide better toe protection, training programs on\\nbody mechanics, wellness, and safety practices). But, we still have a ways to go, and we’ll approach it like wedo other customer experiences—we’ll keep learning, inventing, and iterating until we have moretransformational results. We won’t be satisfied until we do.\\nSimilarly, at our scale, we have a significant carbon footprint. It’s a big part of why we created The Climate\\nPledge a few years ago (a pledge to be net-zero carbon by 2040, ten years ahead of the Paris Agreement). We’remaking significant progress on this effort (we’re committed to powering our operations with 100% renewableenergy by 2025—five years ahead of our original target of 2030, we have ordered over 100,000 electricvans to deliver packages, and have over 300 companies who’ve joined us in The Climate Pledge). But, wehave a different challenge than most companies given the diversity and intensity of our operations (includingshipping billions of packages per year). We’re committed to the challenge, but it will take relentless invention.\\nWe also are trying to increase the amount of affordable housing in the communities in which we have a\\nlarge presence. Our more than $2 billion Housing Equity Fund that we started a year ago has already allocated$1.2 billion toward affordable housing initiatives in the areas around Washington state’s Puget Soundregion, Arlington (Virginia), and Nashville (Tennessee).\\nA final quick example is Kuiper, our low Earth orbit satellite network that we’re spending over $10 billion\\nto build in the next several years. Kuiper will serve customers with minimal to no fixed broadband connectivity,changing access to information and resources for many communities (analysts estimate approximately 300-400 million customers globally are in this category). We’re optimistic that there is a pretty good business modelfor us too, but we’ll see—and it’s a real game changer for underserved families and businesses that willunfold over many years as we keep evolving its capabilities.\\nThis type of iterative innovation is pervasive across every team at Amazon. I could have given comparable\\nexamples in Advertising, Grocery, Gaming, Amazon Music, Amazon Care (our telemedicine offering), orPharmacy, to name a few. All of these stories are still being written as we rapidly experiment, learn, andcontinue to try to make our customer experience better every day.\\nIf this approach sounds appealing, a natural question is what’s required to get good at it? It’s easier said\\nthan done, but here are some components that have helped us:\\n1/Hire the Right Builders : We disproportionately index in hiring builders. We think of builders as people\\nwho like to invent, who look at customer experiences, dissect what doesn’t work well about them, and seekto reinvent them. We want people who keep asking why can’t it be done? We want people who like toexperiment and tinker, and who realize launch is the starting line, not the finish line.\\n2/Organize Builders into Teams That Are as Separable and Autonomous as Possible : It’s hard for teams to be\\ndeep in what customers care about in multiple areas. It’s also hard to spend enough time on the newinitiatives when there’s resource contention with the more mature businesses; the surer bets usually win out.Single-threaded teams will know their customers’ needs better, spend all their waking work hours inventingfor them, and develop context and tempo to keep iterating quickly.\\n3/Give Teams the Right Tools and Permission to Move Fast : Speed is not pre-ordained. It’s a leadership\\nchoice. It has trade-offs, but you can’t wake up one day and start moving fast. It requires having the righttools to experiment and build fast (a major part of why we started AWS), allowing teams to make two-waydoor decisions themselves, and setting an expectation that speed matters. And, it does. Speed isdisproportionally important to every business at every stage of its evolution. Those that move slower thantheir competitive peers fall away over time.\\n4/You Need Blind Faith, But No False Hope : This is a lyric from one of my favorite Foo Fighters songs\\n(“Congregation”). When you invent, you come up with new ideas that people will reject because they haven’tbeen done before (that’s where the blind faith comes in), but it’s also important to step back and make sureyou have a viable plan that’ll resonate with customers (avoid false hope). We’re lucky that we have builderswho challenge each other, feedback loops that give us access to customer feedback, and a product', metadata={'year': 2021, 'source': 'AMZN-2021-Shareholder-Letter.pdf'}), Document(page_content='development process of working backwards from the customer where having to write a Press Release (to\\nflesh out the customer benefits) and a Frequently Asked Questions document (to detail how we’d build it)helps us have blind faith without false hope (at least usually).\\n5/Define a Minimum Loveable Product (MLP), and Be Willing to Iterate Fast : Figuring out where to draw\\nthe line for launch is one of the most difficult decisions teams must make. Often, teams wait too long, andinsist on too many bells and whistles, before launching. And, they miss the first mover advantage oropportunity to build mindshare in fast-moving market segments before well-executing peers get too farahead. The launch product must be good enough that you believe it’ll be loved from the get-go (why we callit a “Minimum Loveable Product” vs. a “Minimum Viable Product”), but in newer market segments,teams are often better off getting this MLP to customers and iterating quickly thereafter.\\n6/Adopt a Long-term Orientation : We’re sometimes criticized at Amazon for not shutting much down. It’s\\ntrue that we have a longer tolerance for our investments than most companies. But, we know thattransformational invention takes multiple years, and if you’re making big bets that you believe couldsubstantially change customer experience (and your company), you have to be in it for the long-haul oryou’ll give up too quickly.\\n7/Brace Yourself for Failure : If you invent a lot, you will fail more often than you wish. Nobody likes this\\npart, but it comes with the territory. When it’s clear that we’ve launched something that won’t work, we makesure we’ve learned from what didn’t go well, and secure great landing places for team members whodelivered well—or your best people will hesitate to work on new initiatives.\\nAlbert Einstein is sometimes credited with describing compound interest as the eighth wonder of the world\\n(“He who understands it, earns it. He who doesn’t, pays it”). We think of iterative innovation in much thesame way. Iterative innovation creates magic for customers. Constantly inventing and improving products forcustomers has a compounding effect on the customer experience, and in turn on a business’s prospects.\\nTime is your friend when you are compounding gains. Amazon is a big company with some large businesses,\\nbut it’s still early days for us. We will continue to be insurgent—inventing in businesses that we’re in, in newbusinesses that we’ve yet to launch, and in new ideas that we haven’t even imagined yet. It remains Day 1.\\nSincerely,\\nAndy Jassy\\nPresident and Chief Executive OfficerAmazon.com, Inc.\\nP .S. As we have always done, our original 1997 Shareholder Letter follows. What’s written there is as true\\ntoday as it was in 1997.', metadata={'year': 2021, 'source': 'AMZN-2021-Shareholder-Letter.pdf'}), Document(page_content='1997 LETTER TO SHAREHOLDERS\\n(Reprinted from the 1997 Annual Report)\\nTo our shareholders:\\nAmazon.com passed many milestones in 1997: by year-end, we had served more than 1.5 million customers,\\nyielding 838% revenue growth to $147.8 million, and extended our market leadership despite aggressivecompetitive entry.\\nBut this is Day 1 for the Internet and, if we execute well, for Amazon.com. Today, online commerce saves\\ncustomers money and precious time. Tomorrow, through personalization, online commerce will accelerate thevery process of discovery. Amazon.com uses the Internet to create real value for its customers and, by doing so,hopes to create an enduring franchise, even in established and large markets.\\nWe have a window of opportunity as larger players marshal the resources to pursue the online opportunity\\nand as customers, new to purchasing online, are receptive to forming new relationships. The competitivelandscape has continued to evolve at a fast pace. Many large players have moved online with credible offeringsand have devoted substantial energy and resources to building awareness, traffic, and sales. Our goal is to movequickly to solidify and extend our current position while we begin to pursue the online commerce opportunitiesin other areas. We see substantial opportunity in the large markets we are targeting. This strategy is not withoutrisk: it requires serious investment and crisp execution against established franchise leaders.\\nIt’s All About the Long Term\\nWe believe that a fundamental measure of our success will be the shareholder value we create over the long\\nterm. This value will be a direct result of our ability to extend and solidify our current market leadership position.\\nThe stronger our market leadership, the more powerful our economic model. Market leadership can translatedirectly to higher revenue, higher profitability, greater capital velocity, and correspondingly stronger returns oninvested capital.\\nOur decisions have consistently reflected this focus. We first measure ourselves in terms of the metrics most\\nindicative of our market leadership: customer and revenue growth, the degree to which our customers continue topurchase from us on a repeat basis, and the strength of our brand. We have invested and will continue to investaggressively to expand and leverage our customer base, brand, and infrastructure as we move to establish anenduring franchise.\\nBecause of our emphasis on the long term, we may make decisions and weigh tradeoffs differently than\\nsome companies. Accordingly, we want to share with you our fundamental management and decision-makingapproach so that you, our shareholders, may confirm that it is consistent with your investment philosophy:\\n• We will continue to focus relentlessly on our customers.• We will continue to make investment decisions in light of long-term market leadership considerations\\nrather than short-term profitability considerations or short-term Wall Street reactions.\\n• We will continue to measure our programs and the effectiveness of our investments analytically, to\\njettison those that do not provide acceptable returns, and to step up our investment in those that workbest. We will continue to learn from both our successes and our failures.', metadata={'year': 2021, 'source': 'AMZN-2021-Shareholder-Letter.pdf'}), Document(page_content='• We will make bold rather than timid investment decisions where we see a sufficient probability of\\ngaining market leadership advantages. Some of these investments will pay off, others will not, and wewill have learned another valuable lesson in either case.\\n• When forced to choose between optimizing the appearance of our GAAP accounting and maximizing\\nthe present value of future cash flows, we’ll take the cash flows.\\n• We will share our strategic thought processes with you when we make bold choices (to the extent\\ncompetitive pressures allow), so that you may evaluate for yourselves whether we are making rationallong-term leadership investments.\\n• We will work hard to spend wisely and maintain our lean culture. We understand the importance of\\ncontinually reinforcing a cost-conscious culture, particularly in a business incurring net losses.\\n• We will balance our focus on growth with emphasis on long-term profitability and capital management.\\nAt this stage, we choose to prioritize growth because we believe that scale is central to achieving thepotential of our business model.\\n• We will continue to focus on hiring and retaining versatile and talented employees, and continue to\\nweight their compensation to stock options rather than cash. We know our success will be largelyaffected by our ability to attract and retain a motivated employee base, each of whom must think like,and therefore must actually be, an owner.\\nWe aren’t so bold as to claim that the above is the “right” investment philosophy, but it’s ours, and we\\nwould be remiss if we weren’t clear in the approach we have taken and will continue to take.\\nWith this foundation, we would like to turn to a review of our business focus, our progress in 1997, and our\\noutlook for the future.\\nObsess Over Customers\\nFrom the beginning, our focus has been on offering our customers compelling value. We realized that the\\nWeb was, and still is, the World Wide Wait. Therefore, we set out to offer customers something they simplycould not get any other way, and began serving them with books. We brought them much more selection thanwas possible in a physical store (our store would now occupy 6 football fields), and presented it in a useful, easy-to-search, and easy-to-browse format in a store open 365 days a year, 24 hours a day. We maintained a doggedfocus on improving the shopping experience, and in 1997 substantially enhanced our store. We now offercustomers gift certificates, 1-Click\\nSMshopping, and vastly more reviews, content, browsing options, and\\nrecommendation features. We dramatically lowered prices, further increasing customer value. Word of mouthremains the most powerful customer acquisition tool we have, and we are grateful for the trust our customershave placed in us. Repeat purchases and word of mouth have combined to make Amazon.com the market leaderin online bookselling.\\nBy many measures, Amazon.com came a long way in 1997:\\n• Sales grew from $15.7 million in 1996 to $147.8 million – an 838% increase.• Cumulative customer accounts grew from 180,000 to 1,510,000 – a 738% increase.• The percentage of orders from repeat customers grew from over 46% in the fourth quarter of 1996 to\\nover 58% in the same period in 1997.\\n• In terms of audience reach, per Media Metrix, our Web site went from a rank of 90th to within the\\ntop 20.\\n• We established long-term relationships with many important strategic partners, including America\\nOnline, Yahoo!, Excite, Netscape, GeoCities, AltaVista, @Home, and Prodigy.', metadata={'year': 2021, 'source': 'AMZN-2021-Shareholder-Letter.pdf'}), Document(page_content='Infrastructure\\nDuring 1997, we worked hard to expand our business infrastructure to support these greatly increased\\ntraffic, sales, and service levels:\\n• Amazon.com’s employee base grew from 158 to 614, and we significantly strengthened our\\nmanagement team.\\n• Distribution center capacity grew from 50,000 to 285,000 square feet, including a 70% expansion of our\\nSeattle facilities and the launch of our second distribution center in Delaware in November.\\n• Inventories rose to over 200,000 titles at year-end, enabling us to improve availability for our customers.• Our cash and investment balances at year-end were $125 million, thanks to our initial public offering in\\nMay 1997 and our $75 million loan, affording us substantial strategic flexibility.\\nOur Employees\\nThe past year’s success is the product of a talented, smart, hard-working group, and I take great pride in\\nbeing a part of this team. Setting the bar high in our approach to hiring has been, and will continue to be, thesingle most important element of Amazon.com’s success.\\nIt’s not easy to work here (when I interview people I tell them, “Y ou can work long, hard, or smart, but at\\nAmazon.com you can’t choose two out of three”), but we are working to build something important, somethingthat matters to our customers, something that we can all tell our grandchildren about. Such things aren’t meant tobe easy. We are incredibly fortunate to have this group of dedicated employees whose sacrifices and passionbuild Amazon.com.\\nGoals for 1998\\nWe are still in the early stages of learning how to bring new value to our customers through Internet\\ncommerce and merchandising. Our goal remains to continue to solidify and extend our brand and customer base.This requires sustained investment in systems and infrastructure to support outstanding customer convenience,selection, and service while we grow. We are planning to add music to our product offering, and over time webelieve that other products may be prudent investments. We also believe there are significant opportunities tobetter serve our customers overseas, such as reducing delivery times and better tailoring the customer experience.To be certain, a big part of the challenge for us will lie not in finding new ways to expand our business, but inprioritizing our investments.\\nWe now know vastly more about online commerce than when Amazon.com was founded, but we still have\\nso much to learn. Though we are optimistic, we must remain vigilant and maintain a sense of urgency. Thechallenges and hurdles we will face to make our long-term vision for Amazon.com a reality are several:aggressive, capable, well-funded competition; considerable growth challenges and execution risk; the risks ofproduct and geographic expansion; and the need for large continuing investments to meet an expanding marketopportunity. However, as we’ve long said, online bookselling, and online commerce in general, should prove tobe a very large market, and it’s likely that a number of companies will see significant benefit. We feel good aboutwhat we’ve done, and even more excited about what we want to do.\\n1997 was indeed an incredible year. We at Amazon.com are grateful to our customers for their business and\\ntrust, to each other for our hard work, and to our shareholders for their support and encouragement.\\nJeffrey P . BezosFounder and Chief Executive OfficerAmazon.com, Inc.', metadata={'year': 2021, 'source': 'AMZN-2021-Shareholder-Letter.pdf'})]\n",
            "\n",
            "10 [Document(page_content='To our shareowners:\\nIn Amazon’s 1997 letter to shareholders, our first, I talked about our hope to create an “enduring franchise,”\\none that would reinvent what it means to serve customers by unlocking the internet’s power. I noted that\\nAmazon had grown from having 158 employees to 614, and that we had surpassed 1.5 million customer\\naccounts. We had just gone public at a split-adjusted stock price of $1.50 per share. I wrote that it was Day 1.\\nWe’ve come a long way since then, and we are working harder than ever to serve and delight customers.\\nLast year, we hired 500,000 employees and now directly employ 1.3 million people around the world. We have\\nmore than 200 million Prime members worldwide. More than 1.9 million small and medium-sized businesses\\nsell in our store, and they make up close to 60% of our retail sales. Customers have connected more than\\n100 million smart home devices to Alexa. Amazon Web Services serves millions of customers and ended 2020\\nwith a $50 billion annualized run rate. In 1997, we hadn’t invented Prime, Marketplace, Alexa, or AWS.\\nThey weren’t even ideas then, and none was preordained. We took great risk with each one and put sweat\\nand ingenuity into each one.\\nAlong the way, we’ve created $1.6 trillion of wealth for shareowners. Who are they? Y our Chair is one, and\\nmy Amazon shares have made me wealthy. But more than 7/8ths of the shares, representing $1.4 trillion of\\nwealth creation, are owned by others. Who are they? They’re pension funds, universities, and 401(k)s, and\\nthey’re Mary and Larry, who sent me this note out of the blue just as I was sitting down to write this\\nshareholder letter:\\n', metadata={'year': 2020, 'source': 'AMZN-2020-Shareholder-Letter.pdf'}), Document(page_content='I am approached with similar stories all the time. I know people who’ve used their Amazon money for\\ncollege, for emergencies, for houses, for vacations, to start their own business, for charity – and the list goes\\non. I’m proud of the wealth we’ve created for shareowners. It’s significant, and it improves their lives. But I\\nalso know something else: it’s not the largest part of the value we’ve created.\\nCreate More Than You Consume\\nIf you want to be successful in business (in life, actually), you have to create more than you consume. Y our\\ngoal should be to create value for everyone you interact with. Any business that doesn’t create value for those\\nit touches, even if it appears successful on the surface, isn’t long for this world. It’s on the way out.\\nRemember that stock prices are not about the past. They are a prediction of future cash flows discounted\\nback to the present. The stock market anticipates. I’m going to switch gears for a moment and talk about the\\npast. How much value did we create for shareowners in 2020? This is a relatively easy question to answer\\nbecause accounting systems are set up to answer it. Our net income in 2020 was $21.3 billion. If, instead of\\nbeing a publicly traded company with thousands of owners, Amazon were a sole proprietorship with a single\\nowner, that’s how much the owner would have earned in 2020.\\nHow about employees? This is also a reasonably easy value creation question to answer because we can look\\nat compensation expense. What is an expense for a company is income for employees. In 2020, employees\\nearned $80 billion, plus another $11 billion to include benefits and various payroll taxes, for a total of\\n$91 billion.\\nHow about third-party sellers? We have an internal team (the Selling Partner Services team) that works to\\nanswer that question. They estimate that, in 2020, third-party seller profits from selling on Amazon were\\nbetween $25 billion and $39 billion, and to be conservative here I’ll go with $25 billion.\\nFor customers, we have to break it down into consumer customers and AWS customers.\\nWe’ll do consumers first. We offer low prices, vast selection, and fast delivery, but imagine we ignore all of\\nthat for the purpose of this estimate and value only one thing: we save customers time.\\nCustomers complete 28% of purchases on Amazon in three minutes or less, and half of all purchases are\\nfinished in less than 15 minutes. Compare that to the typical shopping trip to a physical store – driving,\\nparking, searching store aisles, waiting in the checkout line, finding your car, and driving home. Research\\nsuggests the typical physical store trip takes about an hour. If you assume that a typical Amazon purchase\\ntakes 15 minutes and that it saves you a couple of trips to a physical store a week, that’s more than 75\\nhours a year saved. That’s important. We’re all busy in the early 21stcentury.\\nSo that we can get a dollar figure, let’s value the time savings at $10 per hour, which is conservative. Seventy-\\nfive hours multiplied by $10 an hour and subtracting the cost of Prime gives you value creation for each\\nPrime member of about $630. We have 200 million Prime members, for a total in 2020 of $126 billion of value\\ncreation.\\nAWS is challenging to estimate because each customer’s workload is so different, but we’ll do it anyway,\\nacknowledging up front that the error bars are high. Direct cost improvements from operating in the cloud\\nversus on premises vary, but a reasonable estimate is 30%. Across AWS’s entire 2020 revenue of $45 billion,\\nthat 30% would imply customer value creation of $19 billion (what would have cost them $64 billion on\\ntheir own cost $45 billion from AWS). The difficult part of this estimation exercise is that the direct cost\\nreduction is the smallest portion of the customer benefit of moving to the cloud. The bigger benefit is the\\nincreased speed of software development – something that can significantly improve the customer’s\\ncompetitiveness and top line. We have no reasonable way of estimating that portion of customer value\\nexcept to say that it’s almost certainly larger than the direct cost savings. To be conservative here (and\\nremembering we’re really only trying to get ballpark estimates), I’ll say it’s the same and call AWS customer\\nvalue creation $38 billion in 2020.\\nAdding AWS and consumer together gives us total customer value creation in 2020 of $164 billion.', metadata={'year': 2020, 'source': 'AMZN-2020-Shareholder-Letter.pdf'}), Document(page_content='Summarizing:\\nShareholders $21B\\nEmployees $91B\\n3P Sellers $25B\\nCustomers $164B\\nTotal $301B\\nIf each group had an income statement representing their interactions with Amazon, the numbers above\\nwould be the “bottom lines” from those income statements. These numbers are part of the reason why people\\nwork for us, why sellers sell through us, and why customers buy from us. We create value for them. And\\nthis value creation is not a zero-sum game. It is not just moving money from one pocket to another. Draw\\nthe box big around all of society, and you’ll find that invention is the root of all real value creation. And value\\ncreated is best thought of as a metric for innovation.\\nOf course, our relationship with these constituencies and the value we create isn’t exclusively dollars and\\ncents. Money doesn’t tell the whole story. Our relationship with shareholders, for example, is relatively simple.\\nThey invest and hold shares for a duration of their choosing. We provide direction to shareowners\\ninfrequently on matters such as annual meetings and the right process to vote their shares. And even then\\nthey can ignore those directions and just skip voting.\\nOur relationship with employees is a very different example. We have processes they follow and standards\\nthey meet. We require training and various certifications. Employees have to show up at appointed times. Our\\ninteractions with employees are many, and they’re fine-grained. It’s not just about the pay and the benefits.\\nIt’s about all the other detailed aspects of the relationship too.\\nDoes your Chair take comfort in the outcome of the recent union vote in Bessemer? No, he doesn’t. I think\\nwe need to do a better job for our employees. While the voting results were lopsided and our direct\\nrelationship with employees is strong, it’s clear to me that we need a better vision for how we create value for\\nemployees – a vision for their success.\\nIf you read some of the news reports, you might think we have no care for employees. In those reports, our\\nemployees are sometimes accused of being desperate souls and treated as robots. That’s not accurate. They’re\\nsophisticated and thoughtful people who have options for where to work. When we survey fulfillment\\ncenter employees, 94% say they would recommend Amazon to a friend as a place to work.\\nEmployees are able to take informal breaks throughout their shifts to stretch, get water, use the rest room,\\nor talk to a manager, all without impacting their performance. These informal work breaks are in addition to\\nthe 30-minute lunch and 30-minute break built into their normal schedule.\\nWe don’t set unreasonable performance goals. We set achievable performance goals that take into account\\ntenure and actual employee performance data. Performance is evaluated over a long period of time as we\\nknow that a variety of things can impact performance in any given week, day, or hour. If employees are on\\ntrack to miss a performance target over a period of time, their manager talks with them and provides\\ncoaching.\\nCoaching is also extended to employees who are excelling and in line for increased responsibilities. In fact,\\n82% of coaching is positive, provided to employees who are meeting or exceeding expectations. We terminate\\nthe employment of less than 2.6% of employees due to their inability to perform their jobs (and that\\nnumber was even lower in 2020 because of operational impacts of COVID-19).\\nEarth’s Best Employer and Earth’s Safest Place to Work\\nThe fact is, the large team of thousands of people who lead operations at Amazon have always cared deeply\\nfor our hourly employees, and we’re proud of the work environment we’ve created. We’re also proud of the\\nfact that Amazon is a company that does more than just create jobs for computer scientists and people with\\nadvanced degrees. We create jobs for people who never got that advantage.', metadata={'year': 2020, 'source': 'AMZN-2020-Shareholder-Letter.pdf'}), Document(page_content='Despite what we’ve accomplished, it’s clear to me that we need a better vision for our employees’ success.\\nWe have always wanted to be Earth’s Most Customer-Centric Company. We won’t change that. It’s what gotus here. But I am committing us to an addition. We are going to be Earth’s Best Employer and Earth’sSafest Place to Work.\\nIn my upcoming role as Executive Chair, I’m going to focus on new initiatives. I’m an inventor. It’s what I\\nenjoy the most and what I do best. It’s where I create the most value. I’m excited to work alongside the largeteam of passionate people we have in Ops and help invent in this arena of Earth’s Best Employer andEarth’s Safest Place to Work. On the details, we at Amazon are always flexible, but on matters of vision weare stubborn and relentless. We have never failed when we set our minds to something, and we’re not going tofail at this either.\\nWe dive deep into safety issues. For example, about 40% of work-related injuries at Amazon are related to\\nmusculoskeletal disorders (MSDs), things like sprains or strains that can be caused by repetitive motions.MSDs are common in the type of work that we do and are more likely to occur during an employee’s firstsix months. We need to invent solutions to reduce MSDs for new employees, many of whom might beworking in a physical role for the first time.\\nOne such program is WorkingWell – which we launched to 859,000 employees at 350 sites across North\\nAmerica and Europe in 2020 – where we coach small groups of employees on body mechanics, proactivewellness, and safety. In addition to reducing workplace injuries, these concepts have a positive impact onregular day-to-day activities outside work.\\nWe’re developing new automated staffing schedules that use sophisticated algorithms to rotate employees\\namong jobs that use different muscle-tendon groups to decrease repetitive motion and help protect employeesfrom MSD risks. This new technology is central to a job rotation program that we’re rolling out throughout2021.\\nOur increased attention to early MSD prevention is already achieving results. From 2019 to 2020, overall\\nMSDs decreased by 32%, and MSDs resulting in time away from work decreased by more than half.\\nWe employ 6,200 safety professionals at Amazon. They use the science of safety to solve complex problems\\nand establish new industry best practices. In 2021, we’ll invest more than $300 million into safety projects,including an initial $66 million to create technology that will help prevent collisions of forklifts and othertypes of industrial vehicles.\\nWhen we lead, others follow. Two and a half years ago, when we set a $15 minimum wage for our hourly\\nemployees, we did so because we wanted to lead on wages – not just run with the pack – and because webelieved it was the right thing to do. A recent paper by economists at the University of California-Berkeleyand Brandeis University analyzed the impact of our decision to raise our minimum starting pay to $15 perhour. Their assessment reflects what we’ve heard from employees, their families, and the communities theylive in.\\nOur increase in starting wage boosted local economies across the country by benefiting not only our own\\nemployees but also other workers in the same community. The study showed that our pay raise resulted in a4.7% increase in the average hourly wage among other employers in the same labor market.\\nAnd we’re not done leading. If we want to be Earth’s Best Employer, we shouldn’t settle for 94% of\\nemployees saying they would recommend Amazon to a friend as a place to work. We have to aim for 100%.And we’ll do that by continuing to lead on wages, on benefits, on upskilling opportunities, and in otherways that we will figure out over time.\\nIf any shareowners are concerned that Earth’s Best Employer and Earth’s Safest Place to Work might dilute\\nour focus on Earth’s Most Customer-Centric Company, let me set your mind at ease. Think of it this way.If we can operate two businesses as different as consumer ecommerce and AWS, and do both at the highest\\nlevel, we can certainly do the same with these two vision statements. In fact, I’m confident they willreinforce each other.', metadata={'year': 2020, 'source': 'AMZN-2020-Shareholder-Letter.pdf'}), Document(page_content='The Climate Pledge\\nIn an earlier draft of this letter, I started this section with arguments and examples designed to demonstrate\\nthat human-induced climate change is real. But, bluntly, I think we can stop saying that now. Y ou don’t\\nhave to say that photosynthesis is real, or make the case that gravity is real, or that water boils at 100 degrees\\nCelsius at sea level. These things are simply true, as is the reality of climate change.\\nNot long ago, most people believed that it would be good to address climate change, but they also thought\\nit would cost a lot and would threaten jobs, competitiveness, and economic growth. We now know better.\\nSmart action on climate change will not only stop bad things from happening, it will also make our\\neconomy more efficient, help drive technological change, and reduce risks. Combined, these can lead to\\nmore and better jobs, healthier and happier children, more productive workers, and a more prosperous future.\\nThis doesn’t mean it will be easy. It won’t be. The coming decade will be decisive. The economy in 2030 will\\nneed to be vastly different from what it is today, and Amazon plans to be at the heart of the change. We\\nlaunched The Climate Pledge together with Global Optimism in September 2019 because we wanted to\\nhelp drive this positive revolution. We need to be part of a growing team of corporations that understand\\nthe imperatives and the opportunities of the 21stcentury.\\nNow, less than two years later, 53 companies representing almost every sector of the economy have signed\\nThe Climate Pledge. Signatories such as Best Buy, IBM, Infosys, Mercedes-Benz, Microsoft, Siemens, and\\nVerizon have committed to achieve net-zero carbon in their worldwide businesses by 2040, 10 years ahead of\\nthe Paris Agreement. The Pledge also requires them to measure and report greenhouse gas emissions on a\\nregular basis; implement decarbonization strategies through real business changes and innovations; and\\nneutralize any remaining emissions with additional, quantifiable, real, permanent, and socially beneficial\\noffsets. Credible, quality offsets are precious, and we should reserve them to compensate for economic\\nactivities where low-carbon alternatives don’t exist.\\nThe Climate Pledge signatories are making meaningful, tangible, and ambitious commitments. Uber has a\\ngoal of operating as a zero-emission platform in Canada, Europe, and the U.S. by 2030, and Henkel plans to\\nsource 100% of the electricity it uses for production from renewable sources. Amazon is making progress\\ntoward our own goal of 100% renewable energy by 2025, five years ahead of our initial 2030 target. Amazon\\nis the largest corporate buyer of renewable energy in the world. We have 62 utility-scale wind and solar\\nprojects and 125 solar rooftops on fulfillment and sort centers around the globe. These projects have the\\ncapacity to generate over 6.9 gigawatts and deliver more than 20 million megawatt-hours of energy annually.\\nTransportation is a major component of Amazon’s business operations and the toughest part of our plan\\nto meet net-zero carbon by 2040. To help rapidly accelerate the market for electric vehicle technology, and to\\nhelp all companies transition to greener technologies, we invested more than $1 billion in Rivian – and\\nordered 100,000 electric delivery vans from the company. We’ve also partnered with Mahindra in India and\\nMercedes-Benz in Europe. These custom electric delivery vehicles from Rivian are already operational, and\\nthey first hit the road in Los Angeles this past February. Ten thousand new vehicles will be on the road as\\nearly as next year, and all 100,000 vehicles will be on the road by 2030 – saving millions of metric tons of\\ncarbon. A big reason we want companies to join The Climate Pledge is to signal to the marketplace that\\nbusinesses should start inventing and developing new technologies that signatories need to make good on\\nthe Pledge. Our purchase of 100,000 Rivian electric vans is a perfect example.\\nTo further accelerate investment in new technologies needed to build a zero-carbon economy, we introduced\\nthe Climate Pledge Fund last June. The investment program started with $2 billion to invest in visionary\\ncompanies that aim to facilitate the transition to a low-carbon economy. Amazon has already announced\\ninvestments in CarbonCure Technologies, Pachama, Redwood Materials, Rivian, Turntide Technologies,\\nZeroAvia, and Infinium – and these are just some of the innovative companies we hope will build the zero-\\ncarbon economy of the future.\\nI have also personally allocated $10 billion to provide grants to help catalyze the systemic change we will\\nneed in the coming decade. We’ll be supporting leading scientists, activists, NGOs, environmental justice\\norganizations, and others working to fight climate change and protect the natural world. Late last year, I made\\nmy first round of grants to 16 organizations working on innovative and needle-moving solutions. It’s going', metadata={'year': 2020, 'source': 'AMZN-2020-Shareholder-Letter.pdf'}), Document(page_content='to take collective action from big companies, small companies, nation states, global organizations, and\\nindividuals, and I’m excited to be part of this journey and optimistic that humanity can come together to\\nsolve this challenge.\\nDifferentiation is Survival and the Universe Wants You to be Typical\\nThis is my last annual shareholder letter as the CEO of Amazon, and I have one last thing of utmost\\nimportance I feel compelled to teach. I hope all Amazonians take it to heart.\\nHere is a passage from Richard Dawkins’ (extraordinary) book The Blind Watchmaker. It’s about a basic\\nfact of biology.\\n“Staving off death is a thing that you have to work at. Left to itself – and that is what it is when it\\ndies – the body tends to revert to a state of equilibrium with its environment. If you measure some\\nquantity such as the temperature, the acidity, the water content or the electrical potential in a living\\nbody, you will typically find that it is markedly different from the corresponding measure in the\\nsurroundings. Our bodies, for instance, are usually hotter than our surroundings, and in cold climates\\nthey have to work hard to maintain the differential. When we die the work stops, the temperature\\ndifferential starts to disappear, and we end up the same temperature as our surroundings. Not all\\nanimals work so hard to avoid coming into equilibrium with their surrounding temperature, but all\\nanimals do some comparable work. For instance, in a dry country, animals and plants work to\\nmaintain the fluid content of their cells, work against a natural tendency for water to flow from them\\ninto the dry outside world. If they fail they die. More generally, if living things didn’t work actively to\\nprevent it, they would eventually merge into their surroundings, and cease to exist as autonomous\\nbeings. That is what happens when they die.”\\nWhile the passage is not intended as a metaphor, it’s nevertheless a fantastic one, and very relevant to\\nAmazon. I would argue that it’s relevant to all companies and all institutions and to each of our individual\\nlives too. In what ways does the world pull at you in an attempt to make you normal? How much work does it\\ntake to maintain your distinctiveness? To keep alive the thing or things that make you special?\\nI know a happily married couple who have a running joke in their relationship. Not infrequently, the\\nhusband looks at the wife with faux distress and says to her, “Can’t you just be normal?” They both smile\\nand laugh, and of course the deep truth is that her distinctiveness is something he loves about her. But, at the\\nsame time, it’s also true that things would often be easier – take less energy – if we were a little more\\nnormal.\\nThis phenomenon happens at all scale levels. Democracies are not normal. Tyranny is the historical norm. If\\nwe stopped doing all of the continuous hard work that is needed to maintain our distinctiveness in that\\nregard, we would quickly come into equilibrium with tyranny.\\nWe all know that distinctiveness – originality – is valuable. We are all taught to “be yourself.” What I’m\\nreally asking you to do is to embrace and be realistic about how much energy it takes to maintain that\\ndistinctiveness. The world wants you to be typical – in a thousand ways, it pulls at you. Don’t let it happen.\\nY ou have to pay a price for your distinctiveness, and it’s worth it. The fairy tale version of “be yourself” is that\\nall the pain stops as soon as you allow your distinctiveness to shine. That version is misleading. Being\\nyourself is worth it, but don’t expect it to be easy or free. Y ou’ll have to put energy into it continuously.\\nThe world will always try to make Amazon more typical – to bring us into equilibrium with our environment.\\nIt will take continuous effort, but we can and must be better than that.\\n***\\nAs always, I attach our 1997 shareholder letter. It concluded with this: “We at Amazon.com are grateful to\\nour customers for their business and trust, to each other for our hard work, and to our shareholders for their\\nsupport and encouragement.” That hasn’t changed a bit. I want to especially thank Andy Jassy for agreeing\\nto take on the CEO role. It’s a hard job with a lot of responsibility. Andy is brilliant and has the highest', metadata={'year': 2020, 'source': 'AMZN-2020-Shareholder-Letter.pdf'}), Document(page_content='of high standards. I guarantee you that Andy won’t let the universe make us typical. He will muster the\\nenergy needed to keep alive in us what makes us special. That won’t be easy, but it is critical. I also predict it\\nwill be satisfying and oftentimes fun. Thank you, Andy.\\nTo all of you: be kind, be original, create more than you consume, and never, never, never let the universe\\nsmooth you into your surroundings. It remains Day 1.\\nSincerely,\\nJeffrey P . Bezos\\nFounder and Chief Executive Officer\\nAmazon.com, Inc.', metadata={'year': 2020, 'source': 'AMZN-2020-Shareholder-Letter.pdf'}), Document(page_content='1997 LETTER TO SHAREHOLDERS\\n(Reprinted from the 1997 Annual Report)\\nTo our shareholders:\\nAmazon.com passed many milestones in 1997: by year-end, we had served more than 1.5 million customers,\\nyielding 838% revenue growth to $147.8 million, and extended our market leadership despite aggressive\\ncompetitive entry.\\nBut this is Day 1 for the Internet and, if we execute well, for Amazon.com. Today, online commerce saves\\ncustomers money and precious time. Tomorrow, through personalization, online commerce will accelerate the\\nvery process of discovery. Amazon.com uses the Internet to create real value for its customers and, by doing so,\\nhopes to create an enduring franchise, even in established and large markets.\\nWe have a window of opportunity as larger players marshal the resources to pursue the online opportunity\\nand as customers, new to purchasing online, are receptive to forming new relationships. The competitive\\nlandscape has continued to evolve at a fast pace. Many large players have moved online with credible offerings\\nand have devoted substantial energy and resources to building awareness, traffic, and sales. Our goal is to move\\nquickly to solidify and extend our current position while we begin to pursue the online commerce opportunities\\nin other areas. We see substantial opportunity in the large markets we are targeting. This strategy is not without\\nrisk: it requires serious investment and crisp execution against established franchise leaders.\\nIt’s All About the Long Term\\nWe believe that a fundamental measure of our success will be the shareholder value we create over the long\\nterm. This value will be a direct result of our ability to extend and solidify our current market leadership position.\\nThe stronger our market leadership, the more powerful our economic model. Market leadership can translate\\ndirectly to higher revenue, higher profitability, greater capital velocity, and correspondingly stronger returns on\\ninvested capital.\\nOur decisions have consistently reflected this focus. We first measure ourselves in terms of the metrics most\\nindicative of our market leadership: customer and revenue growth, the degree to which our customers continue to\\npurchase from us on a repeat basis, and the strength of our brand. We have invested and will continue to invest\\naggressively to expand and leverage our customer base, brand, and infrastructure as we move to establish an\\nenduring franchise.\\nBecause of our emphasis on the long term, we may make decisions and weigh tradeoffs differently than\\nsome companies. Accordingly, we want to share with you our fundamental management and decision-making\\napproach so that you, our shareholders, may confirm that it is consistent with your investment philosophy:\\n• We will continue to focus relentlessly on our customers.\\n• We will continue to make investment decisions in light of long-term market leadership considerations\\nrather than short-term profitability considerations or short-term Wall Street reactions.\\n• We will continue to measure our programs and the effectiveness of our investments analytically, to\\njettison those that do not provide acceptable returns, and to step up our investment in those that work\\nbest. We will continue to learn from both our successes and our failures.', metadata={'year': 2020, 'source': 'AMZN-2020-Shareholder-Letter.pdf'}), Document(page_content='• We will make bold rather than timid investment decisions where we see a sufficient probability of\\ngaining market leadership advantages. Some of these investments will pay off, others will not, and we\\nwill have learned another valuable lesson in either case.\\n• When forced to choose between optimizing the appearance of our GAAP accounting and maximizing\\nthe present value of future cash flows, we’ll take the cash flows.\\n• We will share our strategic thought processes with you when we make bold choices (to the extent\\ncompetitive pressures allow), so that you may evaluate for yourselves whether we are making rational\\nlong-term leadership investments.\\n• We will work hard to spend wisely and maintain our lean culture. We understand the importance of\\ncontinually reinforcing a cost-conscious culture, particularly in a business incurring net losses.\\n• We will balance our focus on growth with emphasis on long-term profitability and capital management.\\nAt this stage, we choose to prioritize growth because we believe that scale is central to achieving the\\npotential of our business model.\\n• We will continue to focus on hiring and retaining versatile and talented employees, and continue to\\nweight their compensation to stock options rather than cash. We know our success will be largely\\naffected by our ability to attract and retain a motivated employee base, each of whom must think like,\\nand therefore must actually be, an owner.\\nWe aren’t so bold as to claim that the above is the “right” investment philosophy, but it’s ours, and we\\nwould be remiss if we weren’t clear in the approach we have taken and will continue to take.\\nWith this foundation, we would like to turn to a review of our business focus, our progress in 1997, and our\\noutlook for the future.\\nObsess Over Customers\\nFrom the beginning, our focus has been on offering our customers compelling value. We realized that the\\nWeb was, and still is, the World Wide Wait. Therefore, we set out to offer customers something they simply\\ncould not get any other way, and began serving them with books. We brought them much more selection than\\nwas possible in a physical store (our store would now occupy 6 football fields), and presented it in a useful, easy-\\nto-search, and easy-to-browse format in a store open 365 days a year, 24 hours a day. We maintained a dogged\\nfocus on improving the shopping experience, and in 1997 substantially enhanced our store. We now offer\\ncustomers gift certificates, 1-ClickSMshopping, and vastly more reviews, content, browsing options, and\\nrecommendation features. We dramatically lowered prices, further increasing customer value. Word of mouth\\nremains the most powerful customer acquisition tool we have, and we are grateful for the trust our customers\\nhave placed in us. Repeat purchases and word of mouth have combined to make Amazon.com the market leader\\nin online bookselling.\\nBy many measures, Amazon.com came a long way in 1997:\\n• Sales grew from $15.7 million in 1996 to $147.8 million – an 838% increase.\\n• Cumulative customer accounts grew from 180,000 to 1,510,000 – a 738% increase.\\n• The percentage of orders from repeat customers grew from over 46% in the fourth quarter of 1996 to\\nover 58% in the same period in 1997.\\n• In terms of audience reach, per Media Metrix, our Web site went from a rank of 90th to within the\\ntop 20.\\n• We established long-term relationships with many important strategic partners, including America\\nOnline, Yahoo!, Excite, Netscape, GeoCities, AltaVista, @Home, and Prodigy.', metadata={'year': 2020, 'source': 'AMZN-2020-Shareholder-Letter.pdf'}), Document(page_content='Infrastructure\\nDuring 1997, we worked hard to expand our business infrastructure to support these greatly increased\\ntraffic, sales, and service levels:\\n• Amazon.com’s employee base grew from 158 to 614, and we significantly strengthened our\\nmanagement team.\\n• Distribution center capacity grew from 50,000 to 285,000 square feet, including a 70% expansion of our\\nSeattle facilities and the launch of our second distribution center in Delaware in November.\\n• Inventories rose to over 200,000 titles at year-end, enabling us to improve availability for our customers.\\n• Our cash and investment balances at year-end were $125 million, thanks to our initial public offering in\\nMay 1997 and our $75 million loan, affording us substantial strategic flexibility.\\nOur Employees\\nThe past year’s success is the product of a talented, smart, hard-working group, and I take great pride in\\nbeing a part of this team. Setting the bar high in our approach to hiring has been, and will continue to be, the\\nsingle most important element of Amazon.com’s success.\\nIt’s not easy to work here (when I interview people I tell them, “You can work long, hard, or smart, but at\\nAmazon.com you can’t choose two out of three”), but we are working to build something important, something\\nthat matters to our customers, something that we can all tell our grandchildren about. Such things aren’t meant to\\nbe easy. We are incredibly fortunate to have this group of dedicated employees whose sacrifices and passion\\nbuild Amazon.com.\\nGoals for 1998\\nWe are still in the early stages of learning how to bring new value to our customers through Internet\\ncommerce and merchandising. Our goal remains to continue to solidify and extend our brand and customer base.\\nThis requires sustained investment in systems and infrastructure to support outstanding customer convenience,\\nselection, and service while we grow. We are planning to add music to our product offering, and over time we\\nbelieve that other products may be prudent investments. We also believe there are significant opportunities to\\nbetter serve our customers overseas, such as reducing delivery times and better tailoring the customer experience.\\nTo be certain, a big part of the challenge for us will lie not in finding new ways to expand our business, but in\\nprioritizing our investments.\\nWe now know vastly more about online commerce than when Amazon.com was founded, but we still have\\nso much to learn. Though we are optimistic, we must remain vigilant and maintain a sense of urgency. The\\nchallenges and hurdles we will face to make our long-term vision for Amazon.com a reality are several:\\naggressive, capable, well-funded competition; considerable growth challenges and execution risk; the risks of\\nproduct and geographic expansion; and the need for large continuing investments to meet an expanding market\\nopportunity. However, as we’ve long said, online bookselling, and online commerce in general, should prove to\\nbe a very large market, and it’s likely that a number of companies will see significant benefit. We feel good about\\nwhat we’ve done, and even more excited about what we want to do.\\n1997 was indeed an incredible year. We at Amazon.com are grateful to our customers for their business and\\ntrust, to each other for our hard work, and to our shareholders for their support and encouragement.\\nJeffrey P. Bezos\\nFounder and Chief Executive Officer\\nAmazon.com, Inc.', metadata={'year': 2020, 'source': 'AMZN-2020-Shareholder-Letter.pdf'})]\n",
            "\n",
            "8 [Document(page_content='To our shareowners:\\nOne thing we’ve learned from the COVID-19 crisis is how important Amazon has become to our customers. We\\nwant you to know we take this responsibility seriously, and we’re proud of the work our teams are doing to helpcustomers through this difficult time.\\nAmazonians are working around the clock to get necessary supplies delivered directly to the doorsteps of people\\nwho need them. The demand we are seeing for essential products has been and remains high. But unlike apredictable holiday surge, this spike occurred with little warning, creating major challenges for our suppliers anddelivery network. We quickly prioritized the stocking and delivery of essential household staples, medicalsupplies, and other critical products.\\nOur Whole Foods Market stores have remained open, providing fresh food and other vital goods for customers.\\nWe are taking steps to help those most vulnerable to the virus, setting aside the first hour of shopping at WholeFoods each day for seniors. We have temporarily closed Amazon Books, Amazon 4-star, and Amazon Pop Upstores because they don’t sell essential products, and we offered associates from those closed stores theopportunity to continue working in other parts of Amazon.\\nCrucially, while providing these essential services, we are focused on the safety of our employees and contractors\\naround the world—we are deeply grateful for their heroic work and are committed to their health and well-being.Consulting closely with medical experts and health authorities, we’ve made over 150 significant process changesin our operations network and Whole Foods Market stores to help teams stay healthy, and we conduct dailyaudits of the measures we’ve put into place. We’ve distributed face masks and implemented temperature checksat sites around the world to help protect employees and support staff. We regularly sanitize door handles,stairway handrails, lockers, elevator buttons, and touch screens, and disinfectant wipes and hand sanitizer arestandard across our network.\\nWe’ve also introduced extensive social distancing measures to help protect our associates. We have eliminated\\nstand-up meetings during shifts, moved information sharing to bulletin boards, staggered break times, and spreadout chairs in breakrooms. While training new hires is challenging with new distancing requirements, we continueto ensure that every new employee gets six hours of safety training. We’ve shifted training protocols so we don’thave employees gathering in one spot, and we’ve adjusted our hiring processes to allow for social distancing.\\nA next step in protecting our employees might be regular testing of all Amazonians, including those showing no\\nsymptoms. Regular testing on a global scale, across all industries, would both help keep people safe and help getthe economy back up and running. For this to work, we as a society would need vastly more testing capacity thanis currently available. If every person could be tested regularly, it would make a huge difference in how we fightthis virus. Those who test positive could be quarantined and cared for, and everyone who tests negative couldre-enter the economy with confidence.\\nWe’ve begun the work of building incremental testing capacity. A team of Amazonians—from research scientists\\nand program managers to procurement specialists and software engineers—moved from their normal day jobsonto a dedicated team to work on this initiative. We have begun assembling the equipment we need to build ourfirst lab and hope to start testing small numbers of our frontline employees soon. We are not sure how far we willget in the relevant timeframe, but we think it’s worth trying, and we stand ready to share anything we learn.', metadata={'year': 2019, 'source': 'AMZN-2019-Shareholder-Letter.pdf'}), Document(page_content='While we explore longer-term solutions, we are also committed to helping support employees now. We increased\\nour minimum wage through the end of April by $2 per hour in the U.S., $2 per hour in Canada, £2 per hour in theUK, and €2 per hour in many European countries. And we are paying associates double our regular rate for any\\novertime worked—a minimum of $34 an hour—an increase from time and a half. These wage increases will costmore than $500 million, just through the end of April, and likely more than that over time. While we recognizethis is expensive, we believe it’s the right thing to do under the circumstances. We also established the AmazonRelief Fund—with an initial $25 million in funding—to support our independent delivery service partners andtheir drivers, Amazon Flex participants, and temporary employees under financial distress.\\nIn March, we opened 100,000 new positions across our fulfillment and delivery network. Earlier this week, after\\nsuccessfully filling those roles, we announced we were creating another 75,000 jobs to respond to customerdemand. These new hires are helping customers who depend on us to meet their critical needs. We know thatmany people around the world have suffered financially as jobs are lost or furloughed. We are happy to havethem on our teams until things return to normal and either their former employer can bring them back or newjobs become available. We’ve welcomed Joe Duffy, who joined after losing his job as a mechanic at Newarkairport and learned about an opening from a friend who is an Amazon operations analyst. Dallas preschoolteacher Darby Griffin joined after her school closed on March 9\\nthand now helps manage new inventory. We’re\\nhappy to have Darby with us until she can return to the classroom.\\nAmazon is acting aggressively to protect our customers from bad actors looking to exploit the crisis. We’ve\\nremoved over half a million offers from our stores due to COVID-based price gouging, and we’ve suspendedmore than 6,000 selling accounts globally for violating our fair-pricing policies. Amazon turned over informationabout sellers we suspect engaged in price gouging of products related to COVID-19 to 42 state attorneys generaloffices. To accelerate our response to price-gouging incidents, we created a special communication channel forstate attorneys general to quickly and easily escalate consumer complaints to us.\\nAmazon Web Services is also playing an important role in this crisis. The ability for organizations to access\\nscalable, dependable, and highly secure computing power—whether for vital healthcare work, to help studentscontinue learning, or to keep unprecedented numbers of employees online and productive from home—is criticalin this situation. Hospital networks, pharmaceutical companies, and research labs are using AWS to care forpatients, explore treatments, and mitigate the impacts of COVID-19 in many other ways. Academic institutionsaround the world are transitioning from in-person to virtual classrooms and are running on AWS to help ensurecontinuity of learning. And governments are leveraging AWS as a secure platform to build out new capabilitiesin their efforts to end this pandemic.\\nWe are collaborating with the World Health Organization, supplying advanced cloud technologies and technical\\nexpertise to track the virus, understand the outbreak, and better contain its spread. WHO is leveraging our cloudto build large-scale data lakes, aggregate epidemiological country data, rapidly translate medical training videosinto different languages, and help global healthcare workers better treat patients. We are separately making apublic AWS COVID-19 data lake available as a centralized repository for up-to-date and curated informationrelated to the spread and characteristics of the virus and its associated illness so experts can access and analyzethe latest data in their battle against the disease.\\nWe also launched the AWS Diagnostic Development Initiative, a program to support customers working to bring\\nmore accurate diagnostic solutions to market for COVID-19. Better diagnostics help accelerate treatment andcontainment of this pandemic. We committed $20 million to accelerate this work and help our customers harnessthe cloud to tackle this challenge. While the program was established in response to COVID-19, we also arelooking toward the future, and we will fund diagnostic research projects that have the potential to blunt futureinfectious disease outbreaks.', metadata={'year': 2019, 'source': 'AMZN-2019-Shareholder-Letter.pdf'}), Document(page_content='Customers around the world have leveraged the cloud to scale up services and stand up responses to COVID-19.\\nWe joined the New York City COVID-19 Rapid Response Coalition to develop a conversational agent to enableat-risk and elderly New Yorkers to receive accurate, timely information about medical and other important needs.In response to a request from the Los Angeles Unified School District to transition 700,000 students to remotelearning, AWS helped establish a call center to field IT questions, provide remote support, and enable staff toanswer calls. We are providing cloud services to the CDC to help thousands of public health practitioners andclinicians gather data related to COVID-19 and inform response efforts. In the UK, AWS provides the cloudcomputing infrastructure for a project that analyzes hospital occupancy levels, emergency room capacity, andpatient wait times to help the country’s National Health Service decide where best to allocate resources. InCanada, OTN—one of the world’s largest virtual care networks—is scaling its AWS-powered video service toaccommodate a 4,000% spike in demand to support citizens as the pandemic continues. In Brazil, AWS willprovide the São Paulo State Government with cloud computing infrastructure to guarantee online classes to1 million students in public schools across the state.\\nFollowing CDC guidance, our Alexa health team built an experience that lets U.S. customers check their risk\\nlevel for COVID-19 at home. Customers can ask, “Alexa, what do I do if I think I have COVID-19?” or “Alexa,what do I do if I think I have coronavirus?” Alexa then asks a series of questions about the person’s symptomsand possible exposure. Based on those responses, Alexa then provides CDC-sourced guidance. We created asimilar service in Japan, based on guidance from the Japanese Ministry of Health, Labor, and Welfare.\\nWe’re making it easy for customers to use Amazon.com or Alexa to donate directly to charities on the front lines\\nof the COVID-19 crisis, including Feeding America, the American Red Cross, and Save the Children. Echo usershave the option to say, “Alexa, make a donation to Feeding America COVID-19 Response Fund.” In Seattle,we’ve partnered with a catering business to distribute 73,000 meals to 2,700 elderly and medically vulnerableresidents in Seattle and King County during the outbreak, and we donated 8,200 laptops to help Seattle PublicSchools students gain access to a device while classes are conducted virtually.\\nBeyond COVID\\nAlthough these are incredibly difficult times, they are an important reminder that what we do as a company can\\nmake a big difference in people’s lives. Customers count on us to be there, and we are fortunate to be able tohelp. With our scale and ability to innovate quickly, Amazon can make a positive impact and be an organizingforce for progress.\\nLast year, we co-founded The Climate Pledge with Christiana Figueres, the UN’s former climate change chief\\nand founder of Global Optimism, and became the first signatory to the pledge. The pledge commits Amazon tomeet the goals of the Paris Agreement 10 years early—and be net zero carbon by 2040. Amazon faces significantchallenges in achieving this goal because we don’t just move information around—we have extensive physicalinfrastructure and deliver more than 10 billion items worldwide a year. And we believe if Amazon can get to netzero carbon ten years early, any company can—and we want to work together with all companies to make it areality.\\nTo that end, we are recruiting other companies to sign The Climate Pledge. Signatories agree to measure and\\nreport greenhouse gas emissions regularly, implement decarbonization strategies in line with the ParisAgreement, and achieve net zero annual carbon emissions by 2040. (We’ll be announcing new signatories soon.)\\nWe plan to meet the pledge, in part, by purchasing 100,000 electric delivery vans from Rivian—a Michigan-\\nbased producer of electric vehicles. Amazon aims to have 10,000 of Rivian’s new electric vans on the road asearly as 2022, and all 100,000 vehicles on the road by 2030. That’s good for the environment, but the promise iseven greater. This type of investment sends a signal to the marketplace to start inventing and developing newtechnologies that large, global companies need to transition to a low-carbon economy.', metadata={'year': 2019, 'source': 'AMZN-2019-Shareholder-Letter.pdf'}), Document(page_content='We’ve also committed to reaching 80% renewable energy by 2024 and 100% renewable energy by 2030. (The\\nteam is actually pushing to get to 100% by 2025 and has a challenging but credible plan to pull that off.)Globally, Amazon has 86 solar and wind projects that have the capacity to generate over 2,300 MW and delivermore than 6.3 million MWh of energy annually—enough to power more than 580,000 U.S. homes.\\nWe’ve made tremendous progress cutting packaging waste. More than a decade ago, we created the Frustration-\\nFree Packaging program to encourage manufacturers to package their products in easy-to-open, 100% recyclablepackaging that is ready to ship to customers without the need for an additional shipping box. Since 2008, thisprogram has saved more than 810,000 tons of packaging material and eliminated the use of 1.4 billion shippingboxes.\\nWe are making these significant investments to drive our carbon footprint to zero despite the fact that shopping\\nonline is already inherently more carbon efficient than going to the store. Amazon’s sustainability scientists havespent more than three years developing the models, tools, and metrics to measure our carbon footprint. Theirdetailed analysis has found that shopping online consistently generates less carbon than driving to a store, since asingle delivery van trip can take approximately 100 roundtrip car journeys off the road on average. Our scientistsdeveloped a model to compare the carbon intensity of ordering Whole Foods Market groceries online versusdriving to your nearest Whole Foods Market store. The study found that, averaged across all basket sizes, onlinegrocery deliveries generate 43% lower carbon emissions per item compared to shopping in stores. Smaller basketsizes generate even greater carbon savings.\\nAWS is also inherently more efficient than the traditional in-house data center. That’s primarily due to two\\nthings—higher utilization, and the fact that our servers and facilities are more efficient than what mostcompanies can achieve running their own data centers. Typical single-company data centers operate at roughly18% server utilization. They need that excess capacity to handle large usage spikes. AWS benefits from multi-tenant usage patterns and operates at far higher server utilization rates. In addition, AWS has been successful inincreasing the energy efficiency of its facilities and equipment, for instance by using more efficient evaporativecooling in certain data centers instead of traditional air conditioning. A study by 451 Research found that AWS’sinfrastructure is 3.6 times more energy efficient than the median U.S. enterprise data center surveyed. Along withour use of renewable energy, these factors enable AWS to do the same tasks as traditional data centers with an88% lower carbon footprint. And don’t think we’re not going to get those last 12 points—we’ll make AWS 100%carbon free through more investments in renewable energy projects.\\nLeveraging scale for good\\nOver the last decade, no company has created more jobs than Amazon. Amazon directly employs 840,000\\nworkers worldwide, including over 590,000 in the U.S., 115,000 in Europe, and 95,000 in Asia. In total, Amazondirectly and indirectly supports 2 million jobs in the U.S., including 680,000-plus jobs created by Amazon’sinvestments in areas like construction, logistics, and professional services, plus another 830,000 jobs created bysmall and medium-sized businesses selling on Amazon. Globally, we support nearly 4 million jobs. We areespecially proud of the fact that many of these are entry-level jobs that give people their first opportunity toparticipate in the workforce.\\nAnd Amazon’s jobs come with an industry-leading $15 minimum wage and comprehensive benefits. More than\\n40 million Americans—many making the federal minimum wage of $7.25 an hour—earn less than the lowest-paid Amazon associate. When we raised our starting minimum wage to $15 an hour in 2018, it had an immediateand meaningful impact on the hundreds of thousands of people working in our fulfillment centers. We want otherbig employers to join us by raising their own minimum pay rates, and we continue to lobby for a $15 federalminimum wage.', metadata={'year': 2019, 'source': 'AMZN-2019-Shareholder-Letter.pdf'}), Document(page_content='We want to improve workers’ lives beyond pay. Amazon provides every full-time employee with health\\ninsurance, a 401(k) plan, 20 weeks paid maternity leave, and other benefits. These are the same benefits thatAmazon’s most senior executives receive. And with our rapidly changing economy, we see more clearly thanever the need for workers to evolve their skills continually to keep up with technology. That’s why we’respending $700 million to provide more than 100,000 Amazonians access to training programs, at their places ofwork, in high-demand fields such as healthcare, cloud computing, and machine learning. Since 2012, we haveoffered Career Choice, a pre-paid tuition program for fulfillment center associates looking to move into high-demand occupations. Amazon pays up to 95% of tuition and fees toward a certificate or diploma in qualifiedfields of study, leading to enhanced employment opportunities in high-demand jobs. Since its launch, more than25,000 Amazonians have received training for in-demand occupations.\\nTo ensure that future generations have the skills they need to thrive in a technology-driven economy, we started a\\nprogram last year called Amazon Future Engineer, which is designed to educate and train low-income anddisadvantaged young people to pursue careers in computer science. We have an ambitious goal: to help hundredsof thousands of students each year learn computer science and coding. Amazon Future Engineer currently fundsIntroduction to Computer Science and AP Computer Science classes for more than 2,000 schools in underservedcommunities across the country. Each year, Amazon Future Engineer also gives 100 four-year, $40,000 collegescholarships to computer science students from low-income backgrounds. Those scholarship recipients alsoreceive guaranteed, paid internships at Amazon after their first year of college. Our program in the UK funds 120engineering apprenticeships and helps students from disadvantaged backgrounds pursue technology careers.\\nFor now, my own time and thinking continues to be focused on COVID-19 and how Amazon can help while\\nwe’re in the middle of it. I am extremely grateful to my fellow Amazonians for all the grit and ingenuity they areshowing as we move through this. You can count on all of us to look beyond the immediate crisis for insights andlessons and how to apply them going forward.\\nReflect on this from Theodor Seuss Geisel:\\n“When something bad happens you have three choices. You can either let it define you, let it\\ndestroy you, or you can let it strengthen you.”\\nI am very optimistic about which of these civilization is going to choose.Even in these circumstances, it remains Day 1. As always, I attach a copy of our original 1997 letter.\\nSincerely,\\nJeffrey P. Bezos\\nFounder and Chief Executive OfficerAmazon.com, Inc.', metadata={'year': 2019, 'source': 'AMZN-2019-Shareholder-Letter.pdf'}), Document(page_content='1997 LETTER TO SHAREHOLDERS\\n(Reprinted from the 1997 Annual Report)\\nTo our shareholders:\\nAmazon.com passed many milestones in 1997: by year-end, we had served more than 1.5 million customers,\\nyielding 838% revenue growth to $147.8 million, and extended our market leadership despite aggressivecompetitive entry.\\nBut this is Day 1 for the Internet and, if we execute well, for Amazon.com. Today, online commerce saves\\ncustomers money and precious time. Tomorrow, through personalization, online commerce will accelerate thevery process of discovery. Amazon.com uses the Internet to create real value for its customers and, by doing so,hopes to create an enduring franchise, even in established and large markets.\\nWe have a window of opportunity as larger players marshal the resources to pursue the online opportunity\\nand as customers, new to purchasing online, are receptive to forming new relationships. The competitivelandscape has continued to evolve at a fast pace. Many large players have moved online with credible offeringsand have devoted substantial energy and resources to building awareness, traffic, and sales. Our goal is to movequickly to solidify and extend our current position while we begin to pursue the online commerce opportunitiesin other areas. We see substantial opportunity in the large markets we are targeting. This strategy is not withoutrisk: it requires serious investment and crisp execution against established franchise leaders.\\nIt’s All About the Long Term\\nWe believe that a fundamental measure of our success will be the shareholder value we create over the long\\nterm. This value will be a direct result of our ability to extend and solidify our current market leadership position.\\nThe stronger our market leadership, the more powerful our economic model. Market leadership can translatedirectly to higher revenue, higher profitability, greater capital velocity, and correspondingly stronger returns oninvested capital.\\nOur decisions have consistently reflected this focus. We first measure ourselves in terms of the metrics most\\nindicative of our market leadership: customer and revenue growth, the degree to which our customers continue topurchase from us on a repeat basis, and the strength of our brand. We have invested and will continue to investaggressively to expand and leverage our customer base, brand, and infrastructure as we move to establish anenduring franchise.\\nBecause of our emphasis on the long term, we may make decisions and weigh tradeoffs differently than\\nsome companies. Accordingly, we want to share with you our fundamental management and decision-makingapproach so that you, our shareholders, may confirm that it is consistent with your investment philosophy:\\n• We will continue to focus relentlessly on our customers.• We will continue to make investment decisions in light of long-term market leadership considerations\\nrather than short-term profitability considerations or short-term Wall Street reactions.\\n• We will continue to measure our programs and the effectiveness of our investments analytically, to\\njettison those that do not provide acceptable returns, and to step up our investment in those that workbest. We will continue to learn from both our successes and our failures.', metadata={'year': 2019, 'source': 'AMZN-2019-Shareholder-Letter.pdf'}), Document(page_content='• We will make bold rather than timid investment decisions where we see a sufficient probability of\\ngaining market leadership advantages. Some of these investments will pay off, others will not, and wewill have learned another valuable lesson in either case.\\n• When forced to choose between optimizing the appearance of our GAAP accounting and maximizing\\nthe present value of future cash flows, we’ll take the cash flows.\\n• We will share our strategic thought processes with you when we make bold choices (to the extent\\ncompetitive pressures allow), so that you may evaluate for yourselves whether we are making rationallong-term leadership investments.\\n• We will work hard to spend wisely and maintain our lean culture. We understand the importance of\\ncontinually reinforcing a cost-conscious culture, particularly in a business incurring net losses.\\n• We will balance our focus on growth with emphasis on long-term profitability and capital management.\\nAt this stage, we choose to prioritize growth because we believe that scale is central to achieving thepotential of our business model.\\n• We will continue to focus on hiring and retaining versatile and talented employees, and continue to\\nweight their compensation to stock options rather than cash. We know our success will be largelyaffected by our ability to attract and retain a motivated employee base, each of whom must think like,and therefore must actually be, an owner.\\nWe aren’t so bold as to claim that the above is the “right” investment philosophy, but it’s ours, and we\\nwould be remiss if we weren’t clear in the approach we have taken and will continue to take.\\nWith this foundation, we would like to turn to a review of our business focus, our progress in 1997, and our\\noutlook for the future.\\nObsess Over Customers\\nFrom the beginning, our focus has been on offering our customers compelling value. We realized that the\\nWeb was, and still is, the World Wide Wait. Therefore, we set out to offer customers something they simplycould not get any other way, and began serving them with books. We brought them much more selection thanwas possible in a physical store (our store would now occupy 6 football fields), and presented it in a useful, easy-to-search, and easy-to-browse format in a store open 365 days a year, 24 hours a day. We maintained a doggedfocus on improving the shopping experience, and in 1997 substantially enhanced our store. We now offercustomers gift certificates, 1-Click\\nSMshopping, and vastly more reviews, content, browsing options, and\\nrecommendation features. We dramatically lowered prices, further increasing customer value. Word of mouthremains the most powerful customer acquisition tool we have, and we are grateful for the trust our customershave placed in us. Repeat purchases and word of mouth have combined to make Amazon.com the market leaderin online bookselling.\\nBy many measures, Amazon.com came a long way in 1997:\\n• Sales grew from $15.7 million in 1996 to $147.8 million – an 838% increase.• Cumulative customer accounts grew from 180,000 to 1,510,000 – a 738% increase.• The percentage of orders from repeat customers grew from over 46% in the fourth quarter of 1996 to\\nover 58% in the same period in 1997.\\n• In terms of audience reach, per Media Metrix, our Web site went from a rank of 90th to within the\\ntop 20.\\n• We established long-term relationships with many important strategic partners, including America\\nOnline, Yahoo!, Excite, Netscape, GeoCities, AltaVista, @Home, and Prodigy.', metadata={'year': 2019, 'source': 'AMZN-2019-Shareholder-Letter.pdf'}), Document(page_content='Infrastructure\\nDuring 1997, we worked hard to expand our business infrastructure to support these greatly increased\\ntraffic, sales, and service levels:\\n• Amazon.com’s employee base grew from 158 to 614, and we significantly strengthened our\\nmanagement team.\\n• Distribution center capacity grew from 50,000 to 285,000 square feet, including a 70% expansion of our\\nSeattle facilities and the launch of our second distribution center in Delaware in November.\\n• Inventories rose to over 200,000 titles at year-end, enabling us to improve availability for our customers.• Our cash and investment balances at year-end were $125 million, thanks to our initial public offering in\\nMay 1997 and our $75 million loan, affording us substantial strategic flexibility.\\nOur Employees\\nThe past year’s success is the product of a talented, smart, hard-working group, and I take great pride in\\nbeing a part of this team. Setting the bar high in our approach to hiring has been, and will continue to be, thesingle most important element of Amazon.com’s success.\\nIt’s not easy to work here (when I interview people I tell them, “You can work long, hard, or smart, but at\\nAmazon.com you can’t choose two out of three”), but we are working to build something important, somethingthat matters to our customers, something that we can all tell our grandchildren about. Such things aren’t meant tobe easy. We are incredibly fortunate to have this group of dedicated employees whose sacrifices and passionbuild Amazon.com.\\nGoals for 1998\\nWe are still in the early stages of learning how to bring new value to our customers through Internet\\ncommerce and merchandising. Our goal remains to continue to solidify and extend our brand and customer base.This requires sustained investment in systems and infrastructure to support outstanding customer convenience,selection, and service while we grow. We are planning to add music to our product offering, and over time webelieve that other products may be prudent investments. We also believe there are significant opportunities tobetter serve our customers overseas, such as reducing delivery times and better tailoring the customer experience.To be certain, a big part of the challenge for us will lie not in finding new ways to expand our business, but inprioritizing our investments.\\nWe now know vastly more about online commerce than when Amazon.com was founded, but we still have\\nso much to learn. Though we are optimistic, we must remain vigilant and maintain a sense of urgency. Thechallenges and hurdles we will face to make our long-term vision for Amazon.com a reality are several:aggressive, capable, well-funded competition; considerable growth challenges and execution risk; the risks ofproduct and geographic expansion; and the need for large continuing investments to meet an expanding marketopportunity. However, as we’ve long said, online bookselling, and online commerce in general, should prove tobe a very large market, and it’s likely that a number of companies will see significant benefit. We feel good aboutwhat we’ve done, and even more excited about what we want to do.\\n1997 was indeed an incredible year. We at Amazon.com are grateful to our customers for their business and\\ntrust, to each other for our hard work, and to our shareholders for their support and encouragement.\\nJeffrey P. BezosFounder and Chief Executive OfficerAmazon.com, Inc.', metadata={'year': 2019, 'source': 'AMZN-2019-Shareholder-Letter.pdf'})]\n",
            "\n"
          ]
        }
      ]
    },
    {
      "cell_type": "markdown",
      "source": [
        "Document statistics"
      ],
      "metadata": {
        "id": "TImLb03J8bE4"
      }
    },
    {
      "cell_type": "code",
      "source": [
        "avg_doc_length = lambda documents: sum([len(doc.page_content) for doc in documents])//len(documents)\n",
        "print(f'Average length among {len(documents)} documents loaded is {avg_doc_length(documents)} characters.')\n",
        "print(f'After the split we have {len(docs)} documents as opposed to the original {len(documents)}.')\n",
        "print(f'Average length among {len(docs)} documents (after split) is {avg_doc_length(docs)} characters.')\n"
      ],
      "metadata": {
        "execution": {
          "iopub.status.busy": "2023-11-11T09:00:01.086362Z",
          "iopub.execute_input": "2023-11-11T09:00:01.086805Z",
          "iopub.status.idle": "2023-11-11T09:00:01.094432Z",
          "shell.execute_reply.started": "2023-11-11T09:00:01.086773Z",
          "shell.execute_reply": "2023-11-11T09:00:01.093504Z"
        },
        "trusted": true,
        "colab": {
          "base_uri": "https://localhost:8080/"
        },
        "id": "srt4NHf58bE4",
        "outputId": "9cf6c7ff-de6d-49a2-d760-ade80e9f8aed"
      },
      "execution_count": 30,
      "outputs": [
        {
          "output_type": "stream",
          "name": "stdout",
          "text": [
            "Average length among 37 documents loaded is 3889 characters.\n",
            "After the split we have 202 documents as opposed to the original 37.\n",
            "Average length among 202 documents (after split) is 725 characters.\n"
          ]
        }
      ]
    },
    {
      "cell_type": "markdown",
      "source": [
        "Sample embeding"
      ],
      "metadata": {
        "id": "tB-u32iE8bE5"
      }
    },
    {
      "cell_type": "markdown",
      "source": [
        "## Chroma Collection\n",
        "\n",
        "- New version requires a different format (https://docs.trychroma.com/migration)"
      ],
      "metadata": {
        "id": "sfwmw5IL8bE5"
      }
    },
    {
      "cell_type": "code",
      "source": [
        "import chromadb\n",
        "persist_directory = 'vectordb_aws_letters'\n",
        "chroma_client = chromadb.PersistentClient(path=persist_directory)\n",
        "\n",
        "#[Optional]\n",
        "#client = chromadb.HttpClient(host=\"localhost\", port=\"8000\")"
      ],
      "metadata": {
        "execution": {
          "iopub.status.busy": "2023-11-11T09:07:13.096845Z",
          "iopub.execute_input": "2023-11-11T09:07:13.097304Z",
          "iopub.status.idle": "2023-11-11T09:07:13.107701Z",
          "shell.execute_reply.started": "2023-11-11T09:07:13.097272Z",
          "shell.execute_reply": "2023-11-11T09:07:13.106480Z"
        },
        "trusted": true,
        "id": "E5TEJkrO8bE5"
      },
      "execution_count": 31,
      "outputs": []
    },
    {
      "cell_type": "code",
      "source": [
        "collection_name = \"aws_pdf\"\n",
        "\n",
        "# If you have created the collection before, you need delete the collection first\n",
        "if len(chroma_client.list_collections()) > 0 and collection_name in [\n",
        "    chroma_client.list_collections()[0].name\n",
        "]:\n",
        "    chroma_client.delete_collection(name=collection_name)\n",
        "else:\n",
        "    print(f\"Creating collection: '{collection_name}'\")\n",
        "    collection = chroma_client.create_collection(name=collection_name)"
      ],
      "metadata": {
        "execution": {
          "iopub.status.busy": "2023-11-11T09:07:27.431035Z",
          "iopub.execute_input": "2023-11-11T09:07:27.431441Z",
          "iopub.status.idle": "2023-11-11T09:07:27.472792Z",
          "shell.execute_reply.started": "2023-11-11T09:07:27.431412Z",
          "shell.execute_reply": "2023-11-11T09:07:27.471433Z"
        },
        "trusted": true,
        "colab": {
          "base_uri": "https://localhost:8080/"
        },
        "id": "namqrRaN8bE5",
        "outputId": "f5f85ac6-b70c-4190-ccd7-87c5626d4d3c"
      },
      "execution_count": 32,
      "outputs": [
        {
          "output_type": "stream",
          "name": "stdout",
          "text": [
            "Creating collection: 'aws_pdf'\n"
          ]
        }
      ]
    },
    {
      "cell_type": "code",
      "source": [
        "embeddings_open"
      ],
      "metadata": {
        "execution": {
          "iopub.status.busy": "2023-11-11T09:09:37.269512Z",
          "iopub.execute_input": "2023-11-11T09:09:37.269975Z",
          "iopub.status.idle": "2023-11-11T09:09:37.279290Z",
          "shell.execute_reply.started": "2023-11-11T09:09:37.269924Z",
          "shell.execute_reply": "2023-11-11T09:09:37.278123Z"
        },
        "trusted": true,
        "colab": {
          "base_uri": "https://localhost:8080/"
        },
        "id": "n-qBlKnQ8bE6",
        "outputId": "2a57180e-d78d-4d68-b921-8fbcafdf1b19"
      },
      "execution_count": 33,
      "outputs": [
        {
          "output_type": "execute_result",
          "data": {
            "text/plain": [
              "OllamaEmbeddings(base_url='http://localhost:11434', model='mistral', embed_instruction='passage: ', query_instruction='query: ', mirostat=None, mirostat_eta=None, mirostat_tau=None, num_ctx=None, num_gpu=None, num_thread=None, repeat_last_n=None, repeat_penalty=None, temperature=None, stop=None, tfs_z=None, top_k=None, top_p=None, model_kwargs=None)"
            ]
          },
          "metadata": {},
          "execution_count": 33
        }
      ]
    },
    {
      "cell_type": "code",
      "source": [
        "# This fails on Colab but should run on a server / notebook.\n",
        "# Looks for localhost:11434 port (see above)\n",
        "if False:\n",
        "  sample_embedding = np.array(embeddings_open.embed_query(docs[0].page_content))\n",
        "  print(\"Sample embedding of a document chunk: \", sample_embedding)\n",
        "  print(\"Size of the embedding: \", sample_embedding.shape)"
      ],
      "metadata": {
        "execution": {
          "iopub.status.busy": "2023-11-11T09:08:06.799196Z",
          "iopub.execute_input": "2023-11-11T09:08:06.799620Z",
          "iopub.status.idle": "2023-11-11T09:08:07.366851Z",
          "shell.execute_reply.started": "2023-11-11T09:08:06.799580Z",
          "shell.execute_reply": "2023-11-11T09:08:07.364589Z"
        },
        "trusted": true,
        "id": "_KLp8a-B8bE6"
      },
      "execution_count": 35,
      "outputs": []
    },
    {
      "cell_type": "markdown",
      "source": [
        "# Prompt Template"
      ],
      "metadata": {
        "id": "sXuXR2OE8bE7"
      }
    },
    {
      "cell_type": "code",
      "source": [
        "!pip install openai"
      ],
      "metadata": {
        "colab": {
          "base_uri": "https://localhost:8080/"
        },
        "id": "vETsbWX8aO12",
        "outputId": "af2a8eca-b6f8-4da6-ed73-b39df66ee875"
      },
      "execution_count": 42,
      "outputs": [
        {
          "output_type": "stream",
          "name": "stdout",
          "text": [
            "Collecting openai\n",
            "  Downloading openai-1.2.3-py3-none-any.whl (220 kB)\n",
            "\u001b[?25l     \u001b[90m━━━━━━━━━━━━━━━━━━━━━━━━━━━━━━━━━━━━━━━━\u001b[0m \u001b[32m0.0/220.3 kB\u001b[0m \u001b[31m?\u001b[0m eta \u001b[36m-:--:--\u001b[0m\r\u001b[2K     \u001b[91m━━━━━━━━━━━━━━\u001b[0m\u001b[91m╸\u001b[0m\u001b[90m━━━━━━━━━━━━━━━━━━━━━━━━━\u001b[0m \u001b[32m81.9/220.3 kB\u001b[0m \u001b[31m3.0 MB/s\u001b[0m eta \u001b[36m0:00:01\u001b[0m\r\u001b[2K     \u001b[90m━━━━━━━━━━━━━━━━━━━━━━━━━━━━━━━━━━━━━━━━\u001b[0m \u001b[32m220.3/220.3 kB\u001b[0m \u001b[31m4.8 MB/s\u001b[0m eta \u001b[36m0:00:00\u001b[0m\n",
            "\u001b[?25hRequirement already satisfied: anyio<4,>=3.5.0 in /usr/local/lib/python3.10/dist-packages (from openai) (3.7.1)\n",
            "Requirement already satisfied: distro<2,>=1.7.0 in /usr/lib/python3/dist-packages (from openai) (1.7.0)\n",
            "Collecting httpx<1,>=0.23.0 (from openai)\n",
            "  Downloading httpx-0.25.1-py3-none-any.whl (75 kB)\n",
            "\u001b[?25l     \u001b[90m━━━━━━━━━━━━━━━━━━━━━━━━━━━━━━━━━━━━━━━━\u001b[0m \u001b[32m0.0/75.0 kB\u001b[0m \u001b[31m?\u001b[0m eta \u001b[36m-:--:--\u001b[0m\r\u001b[2K     \u001b[90m━━━━━━━━━━━━━━━━━━━━━━━━━━━━━━━━━━━━━━━━\u001b[0m \u001b[32m75.0/75.0 kB\u001b[0m \u001b[31m10.3 MB/s\u001b[0m eta \u001b[36m0:00:00\u001b[0m\n",
            "\u001b[?25hRequirement already satisfied: pydantic<3,>=1.9.0 in /usr/local/lib/python3.10/dist-packages (from openai) (1.10.13)\n",
            "Requirement already satisfied: tqdm>4 in /usr/local/lib/python3.10/dist-packages (from openai) (4.66.1)\n",
            "Requirement already satisfied: typing-extensions<5,>=4.5 in /usr/local/lib/python3.10/dist-packages (from openai) (4.8.0)\n",
            "Requirement already satisfied: idna>=2.8 in /usr/local/lib/python3.10/dist-packages (from anyio<4,>=3.5.0->openai) (3.4)\n",
            "Requirement already satisfied: sniffio>=1.1 in /usr/local/lib/python3.10/dist-packages (from anyio<4,>=3.5.0->openai) (1.3.0)\n",
            "Requirement already satisfied: exceptiongroup in /usr/local/lib/python3.10/dist-packages (from anyio<4,>=3.5.0->openai) (1.1.3)\n",
            "Requirement already satisfied: certifi in /usr/local/lib/python3.10/dist-packages (from httpx<1,>=0.23.0->openai) (2023.7.22)\n",
            "Collecting httpcore (from httpx<1,>=0.23.0->openai)\n",
            "  Downloading httpcore-1.0.2-py3-none-any.whl (76 kB)\n",
            "\u001b[2K     \u001b[90m━━━━━━━━━━━━━━━━━━━━━━━━━━━━━━━━━━━━━━━━\u001b[0m \u001b[32m76.9/76.9 kB\u001b[0m \u001b[31m10.9 MB/s\u001b[0m eta \u001b[36m0:00:00\u001b[0m\n",
            "\u001b[?25hRequirement already satisfied: h11<0.15,>=0.13 in /usr/local/lib/python3.10/dist-packages (from httpcore->httpx<1,>=0.23.0->openai) (0.14.0)\n",
            "Installing collected packages: httpcore, httpx, openai\n",
            "\u001b[31mERROR: pip's dependency resolver does not currently take into account all the packages that are installed. This behaviour is the source of the following dependency conflicts.\n",
            "llmx 0.0.15a0 requires cohere, which is not installed.\n",
            "llmx 0.0.15a0 requires tiktoken, which is not installed.\u001b[0m\u001b[31m\n",
            "\u001b[0mSuccessfully installed httpcore-1.0.2 httpx-0.25.1 openai-1.2.3\n"
          ]
        }
      ]
    },
    {
      "cell_type": "code",
      "source": [
        "import os\n",
        "import openai\n",
        "from getpass import getpass"
      ],
      "metadata": {
        "id": "EIvR5QXtZ0SS"
      },
      "execution_count": 43,
      "outputs": []
    },
    {
      "cell_type": "code",
      "source": [
        "os.environ['OPENAI_API_KEY'] = getpass(\"Enter your OpenAI API Key: \")"
      ],
      "metadata": {
        "colab": {
          "base_uri": "https://localhost:8080/"
        },
        "id": "glT5-AlyZ7ke",
        "outputId": "d76edad0-bf6b-4499-e3a2-63a2c54778fa"
      },
      "execution_count": 40,
      "outputs": [
        {
          "name": "stdout",
          "output_type": "stream",
          "text": [
            "Enter your OpenAI API Key: ··········\n"
          ]
        }
      ]
    },
    {
      "cell_type": "code",
      "source": [
        "from langchain import OpenAI, PromptTemplate\n",
        "from langchain.chains import LLMChain, LLMMathChain, TransformChain, SequentialChain, SimpleSequentialChain\n",
        "\n",
        "# This is an LLMChain to write a synopsis given a title of a play.\n",
        "playwright_llm = OpenAI(temperature=.9, openai_api_key = os.environ['OPENAI_API_KEY'])\n",
        "\n",
        "playwright_template = \"\"\"\n",
        "\n",
        "You are a playwright. Given the title of play, write a synopsis for that title.\n",
        "Your style is witty, humorous, light-hearted. All your plays are written using\n",
        "concise language, to the point, and are brief.\n",
        "\n",
        "Title: {title}\n",
        "\n",
        "Playwright: This is a synopsis for the above play:\n",
        "\n",
        "\"\"\"\n",
        "\n",
        "playwright_prompt_template = PromptTemplate(input_variables=[\"title\"], template=playwright_template)\n",
        "\n",
        "synopsis_chain = LLMChain(llm=playwright_llm, prompt=playwright_prompt_template)\n",
        "\n",
        "# This is an LLMChain to write a review of a play given a synopsis.\n",
        "critic_llm = OpenAI(temperature=.5, openai_api_key = os.environ['OPENAI_API_KEY'])\n",
        "\n",
        "synopsis_template = \"\"\"\n",
        "\n",
        "You are a play critic from the New York Times.\n",
        "\n",
        "Given the synopsis of play, it is your job to write a review for that play.\n",
        "You're the Simon Cowell of play critics and always deliver scathing reviews.\n",
        "\n",
        "Play Synopsis: {synopsis}\n",
        "\n",
        "Review from a New York Times play critic of the above play:\"\"\"\n",
        "\n",
        "critic_prompt_template = PromptTemplate(input_variables=[\"synopsis\"], template=synopsis_template)\n",
        "\n",
        "review_chain = LLMChain(llm=critic_llm, prompt=critic_prompt_template)\n",
        "\n",
        "# This is the overall chain where we run these two chains in sequence.\n",
        "\n",
        "overall_chain = SimpleSequentialChain(chains= [synopsis_chain, review_chain],\n",
        "                                      verbose=True)\n",
        "\n",
        "\n",
        "play_title = \"Abigail Aryan and the Motley Crew of Multi-Agent Systems\"\n",
        "\n",
        "review = overall_chain.run(play_title)\n"
      ],
      "metadata": {
        "execution": {
          "iopub.status.busy": "2023-11-11T07:11:11.926200Z",
          "iopub.execute_input": "2023-11-11T07:11:11.927155Z",
          "iopub.status.idle": "2023-11-11T07:11:12.634217Z",
          "shell.execute_reply.started": "2023-11-11T07:11:11.927122Z",
          "shell.execute_reply": "2023-11-11T07:11:12.632785Z"
        },
        "trusted": true,
        "colab": {
          "base_uri": "https://localhost:8080/"
        },
        "id": "qAgCiNIm8bE7",
        "outputId": "4f45ab35-188b-46a4-c9b3-de5b396bcdc3"
      },
      "execution_count": 45,
      "outputs": [
        {
          "output_type": "stream",
          "name": "stdout",
          "text": [
            "\n",
            "\n",
            "\u001b[1m> Entering new SimpleSequentialChain chain...\u001b[0m\n",
            "\u001b[36;1m\u001b[1;3mAbigail Aryan is a computer hacker and tech genius who is tasked with infiltrating a shady group of shady, powerful, and influential people known as the “Multi-Agent Systems.” With the help of her quirky team of hackers and computer experts, Abigail and her motley crew of multi-agent systems battle their way through danger and intrigue to take down the nefarious Multi-Agent Systems and their connections. Along the way, Abigail and her team discover secrets, face off against challenges, and find humor and camaraderie in the crazy world of computer hacking.\u001b[0m\n",
            "\u001b[33;1m\u001b[1;3m\n",
            "\n",
            "\"Abigail Aryan and her motley crew of hackers and computer experts are an interesting concept for a play, but unfortunately the execution falls flat. The characters are one-dimensional and the plot is predictable and uninspired. The action sequences are too over-the-top and the dialogue is clunky and stale. The play fails to capture the complexity of computer hacking and the humor is forced and cheesy. Overall, Abigail Aryan and her Multi-Agent Systems is a disappointing and forgettable play that is not worth your time.\"\u001b[0m\n",
            "\n",
            "\u001b[1m> Finished chain.\u001b[0m\n"
          ]
        }
      ]
    },
    {
      "cell_type": "code",
      "source": [],
      "metadata": {
        "id": "17sedQsF8bE7"
      },
      "execution_count": null,
      "outputs": []
    }
  ]
}